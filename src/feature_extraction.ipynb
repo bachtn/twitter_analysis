{
 "cells": [
  {
   "cell_type": "code",
   "execution_count": 14,
   "metadata": {},
   "outputs": [],
   "source": [
    "%matplotlib inline\n",
    "import matplotlib.pyplot as plt\n",
    "import numpy as np\n",
    "import pandas as pd\n",
    "import json\n",
    "import os\n",
    "import re"
   ]
  },
  {
   "cell_type": "code",
   "execution_count": 15,
   "metadata": {},
   "outputs": [],
   "source": [
    "import nltk\n",
    "from nltk.tokenize import TweetTokenizer\n",
    "from nltk import word_tokenize, pos_tag\n",
    "from nltk.stem import WordNetLemmatizer\n",
    "from nltk.corpus import stopwords\n",
    "import gensim.models as gsm"
   ]
  },
  {
   "cell_type": "markdown",
   "metadata": {},
   "source": [
    "## Set up paths"
   ]
  },
  {
   "cell_type": "code",
   "execution_count": 68,
   "metadata": {},
   "outputs": [],
   "source": [
    "# Data\n",
    "data_train_path = './../data/train/train.csv'\n",
    "data_test_path = './../data/test/test.csv'\n",
    "\n",
    "# Word tools\n",
    "word_sentiments_intensity_path =  './../tools/word/emo_lex.csv'\n",
    "words_path = './../tools/word/words.csv'\n",
    "#word_affect_intensity_path = './../tools/word/word_affect_intensity.csv'\n",
    "positive_words_path = './../tools/word/positive_words.txt'\n",
    "negative_words_path = './../tools/word/negative_words.txt'\n",
    "\n",
    "# Emoji tools\n",
    "emoji_polarity_path = './../tools/emoji/emoji_emotion.json'\n",
    "emoji_sentiments_path = './../tools/emoji/emoji_sentiments.csv'\n",
    "emoji_embedding_pre_trained_model_path = './../tools/emoji/emoji2vec.bin'"
   ]
  },
  {
   "cell_type": "markdown",
   "metadata": {},
   "source": [
    "# Feature extraction\n",
    "## Words\n",
    "### Sentiment intensity\n",
    "- NRC Word-Emotion Association Lexicon (EmoLex)"
   ]
  },
  {
   "cell_type": "code",
   "execution_count": 88,
   "metadata": {},
   "outputs": [
    {
     "data": {
      "text/html": [
       "<div>\n",
       "<table border=\"1\" class=\"dataframe\">\n",
       "  <thead>\n",
       "    <tr style=\"text-align: right;\">\n",
       "      <th></th>\n",
       "      <th>word</th>\n",
       "      <th>anger</th>\n",
       "      <th>anticipation</th>\n",
       "      <th>disgust</th>\n",
       "      <th>fear</th>\n",
       "      <th>joy</th>\n",
       "      <th>negative</th>\n",
       "      <th>positive</th>\n",
       "      <th>sadness</th>\n",
       "      <th>surprise</th>\n",
       "      <th>trust</th>\n",
       "    </tr>\n",
       "  </thead>\n",
       "  <tbody>\n",
       "    <tr>\n",
       "      <th>0</th>\n",
       "      <td>true</td>\n",
       "      <td>0.000</td>\n",
       "      <td>0.0</td>\n",
       "      <td>0.0</td>\n",
       "      <td>0.000</td>\n",
       "      <td>0.328</td>\n",
       "      <td>0.0</td>\n",
       "      <td>0.0</td>\n",
       "      <td>0.000</td>\n",
       "      <td>0.0</td>\n",
       "      <td>0.0</td>\n",
       "    </tr>\n",
       "    <tr>\n",
       "      <th>1</th>\n",
       "      <td>aaaaaaah</td>\n",
       "      <td>0.000</td>\n",
       "      <td>0.0</td>\n",
       "      <td>0.0</td>\n",
       "      <td>0.344</td>\n",
       "      <td>0.000</td>\n",
       "      <td>0.0</td>\n",
       "      <td>0.0</td>\n",
       "      <td>0.000</td>\n",
       "      <td>0.0</td>\n",
       "      <td>0.0</td>\n",
       "    </tr>\n",
       "    <tr>\n",
       "      <th>2</th>\n",
       "      <td>aaaah</td>\n",
       "      <td>0.000</td>\n",
       "      <td>0.0</td>\n",
       "      <td>0.0</td>\n",
       "      <td>0.234</td>\n",
       "      <td>0.000</td>\n",
       "      <td>0.0</td>\n",
       "      <td>0.0</td>\n",
       "      <td>0.000</td>\n",
       "      <td>0.0</td>\n",
       "      <td>0.0</td>\n",
       "    </tr>\n",
       "    <tr>\n",
       "      <th>3</th>\n",
       "      <td>abandon</td>\n",
       "      <td>0.000</td>\n",
       "      <td>0.0</td>\n",
       "      <td>0.0</td>\n",
       "      <td>0.531</td>\n",
       "      <td>0.000</td>\n",
       "      <td>0.0</td>\n",
       "      <td>0.0</td>\n",
       "      <td>0.703</td>\n",
       "      <td>0.0</td>\n",
       "      <td>0.0</td>\n",
       "    </tr>\n",
       "    <tr>\n",
       "      <th>4</th>\n",
       "      <td>abandoned</td>\n",
       "      <td>0.222</td>\n",
       "      <td>0.0</td>\n",
       "      <td>0.0</td>\n",
       "      <td>0.534</td>\n",
       "      <td>0.000</td>\n",
       "      <td>0.0</td>\n",
       "      <td>0.0</td>\n",
       "      <td>0.828</td>\n",
       "      <td>0.0</td>\n",
       "      <td>0.0</td>\n",
       "    </tr>\n",
       "  </tbody>\n",
       "</table>\n",
       "</div>"
      ],
      "text/plain": [
       "        word  anger  anticipation  disgust   fear    joy  negative  positive  \\\n",
       "0       true  0.000           0.0      0.0  0.000  0.328       0.0       0.0   \n",
       "1   aaaaaaah  0.000           0.0      0.0  0.344  0.000       0.0       0.0   \n",
       "2      aaaah  0.000           0.0      0.0  0.234  0.000       0.0       0.0   \n",
       "3    abandon  0.000           0.0      0.0  0.531  0.000       0.0       0.0   \n",
       "4  abandoned  0.222           0.0      0.0  0.534  0.000       0.0       0.0   \n",
       "\n",
       "   sadness  surprise  trust  \n",
       "0    0.000       0.0    0.0  \n",
       "1    0.000       0.0    0.0  \n",
       "2    0.000       0.0    0.0  \n",
       "3    0.703       0.0    0.0  \n",
       "4    0.828       0.0    0.0  "
      ]
     },
     "execution_count": 88,
     "metadata": {},
     "output_type": "execute_result"
    }
   ],
   "source": [
    "word_sentiment_intensity_df = pd.read_csv(word_sentiments_intensity_path, delimiter='\\t')\n",
    "word_sentiment_intensity_df['word'] = word_sentiment_intensity_df['word'].str.lower()\n",
    "word_sentiment_intensity_df.head()"
   ]
  },
  {
   "cell_type": "markdown",
   "metadata": {},
   "source": [
    "- For the following sentiments, the intensity value is always equals to 0.\n",
    "- We may remove these sentiment columns, because they will have no affect in the learning process.\n",
    "- Create a new dataframe with the useful columns (where sentiment intensity is different to 0)."
   ]
  },
  {
   "cell_type": "code",
   "execution_count": 25,
   "metadata": {},
   "outputs": [
    {
     "name": "stdout",
     "output_type": "stream",
     "text": [
      "Useful columns are: ['anger', 'joy', 'fear', 'sadness', 'word']\n"
     ]
    },
    {
     "data": {
      "text/html": [
       "<div>\n",
       "<table border=\"1\" class=\"dataframe\">\n",
       "  <thead>\n",
       "    <tr style=\"text-align: right;\">\n",
       "      <th></th>\n",
       "      <th>anger</th>\n",
       "      <th>joy</th>\n",
       "      <th>fear</th>\n",
       "      <th>sadness</th>\n",
       "      <th>word</th>\n",
       "    </tr>\n",
       "  </thead>\n",
       "  <tbody>\n",
       "    <tr>\n",
       "      <th>0</th>\n",
       "      <td>0.000</td>\n",
       "      <td>0.328</td>\n",
       "      <td>0.000</td>\n",
       "      <td>0.000</td>\n",
       "      <td>true</td>\n",
       "    </tr>\n",
       "    <tr>\n",
       "      <th>1</th>\n",
       "      <td>0.000</td>\n",
       "      <td>0.000</td>\n",
       "      <td>0.344</td>\n",
       "      <td>0.000</td>\n",
       "      <td>aaaaaaah</td>\n",
       "    </tr>\n",
       "    <tr>\n",
       "      <th>2</th>\n",
       "      <td>0.000</td>\n",
       "      <td>0.000</td>\n",
       "      <td>0.234</td>\n",
       "      <td>0.000</td>\n",
       "      <td>aaaah</td>\n",
       "    </tr>\n",
       "    <tr>\n",
       "      <th>3</th>\n",
       "      <td>0.000</td>\n",
       "      <td>0.000</td>\n",
       "      <td>0.531</td>\n",
       "      <td>0.703</td>\n",
       "      <td>abandon</td>\n",
       "    </tr>\n",
       "    <tr>\n",
       "      <th>4</th>\n",
       "      <td>0.222</td>\n",
       "      <td>0.000</td>\n",
       "      <td>0.534</td>\n",
       "      <td>0.828</td>\n",
       "      <td>abandoned</td>\n",
       "    </tr>\n",
       "  </tbody>\n",
       "</table>\n",
       "</div>"
      ],
      "text/plain": [
       "   anger    joy   fear  sadness       word\n",
       "0  0.000  0.328  0.000    0.000       true\n",
       "1  0.000  0.000  0.344    0.000   aaaaaaah\n",
       "2  0.000  0.000  0.234    0.000      aaaah\n",
       "3  0.000  0.000  0.531    0.703    abandon\n",
       "4  0.222  0.000  0.534    0.828  abandoned"
      ]
     },
     "execution_count": 25,
     "metadata": {},
     "output_type": "execute_result"
    }
   ],
   "source": [
    "THRESHOLD = 100\n",
    "\n",
    "def get_useful_columns(df, class_column='word', threshold=0):\n",
    "    empty_columns = []\n",
    "    for column_name in list(df.columns):\n",
    "        if len(df.loc[df[column_name] != 0.]) <= threshold:\n",
    "            empty_columns.append(column_name)\n",
    "    useful_columns = list(set(df.columns) - set(empty_columns))\n",
    "    if class_column not in useful_columns:\n",
    "        useful_columns.append(class_column)\n",
    "    print(\"Useful columns are:\", useful_columns)\n",
    "    return useful_columns\n",
    "\n",
    "useful_columns = get_useful_columns(word_sentiment_intensity_df, threshold=THRESHOLD)\n",
    "word_sentiment_intensity_df = word_sentiment_intensity_df[useful_columns].copy()\n",
    "word_sentiment_intensity_df.head()"
   ]
  },
  {
   "cell_type": "markdown",
   "metadata": {},
   "source": [
    "- Create a dict of dict: {word: {sentiment: intensity, sent2: intensity, ...}"
   ]
  },
  {
   "cell_type": "code",
   "execution_count": 162,
   "metadata": {},
   "outputs": [
    {
     "data": {
      "text/plain": [
       "(0.0,\n",
       " 0.0,\n",
       " 0.0,\n",
       " 0.53100000000000003,\n",
       " 0.0,\n",
       " 0.0,\n",
       " 0.0,\n",
       " 0.70299999999999996,\n",
       " 0.0,\n",
       " 0.0)"
      ]
     },
     "execution_count": 162,
     "metadata": {},
     "output_type": "execute_result"
    }
   ],
   "source": [
    "word_sentiment_intensity_dict = word_sentiment_intensity_df.set_index('word').T.apply(tuple).to_dict()\n",
    "word_sentiment_intensity_dict['abandon']"
   ]
  },
  {
   "cell_type": "markdown",
   "metadata": {},
   "source": [
    "#### Final function"
   ]
  },
  {
   "cell_type": "code",
   "execution_count": 163,
   "metadata": {},
   "outputs": [
    {
     "name": "stdout",
     "output_type": "stream",
     "text": [
      "Useful columns are: ['anger', 'joy', 'fear', 'sadness', 'word']\n"
     ]
    },
    {
     "data": {
      "text/plain": [
       "(0.84099999999999997, 0.0, 0.0, 0.0)"
      ]
     },
     "execution_count": 163,
     "metadata": {},
     "output_type": "execute_result"
    }
   ],
   "source": [
    "def get_intensity_dict(dataset_path=word_sentiments_intensity_path,\n",
    "                                      delimiter='\\t', class_column='word',\n",
    "                                      remove_useless_columns=True, threshold=0):\n",
    "    df = pd.read_csv(dataset_path, delimiter=delimiter)\n",
    "    df[class_column] = df[class_column].str.lower()\n",
    "    if remove_useless_columns:\n",
    "        useful_columns = get_useful_columns(df, class_column=class_column, threshold=threshold)\n",
    "        df = df[useful_columns].copy()\n",
    "    df_dict = df.set_index(class_column).T.apply(tuple).to_dict()\n",
    "    return df_dict\n",
    "\n",
    "word_sentiment_intensity_dict = get_intensity_dict()\n",
    "word_sentiment_intensity_dict['dumbbitch']"
   ]
  },
  {
   "cell_type": "code",
   "execution_count": 75,
   "metadata": {},
   "outputs": [
    {
     "name": "stdout",
     "output_type": "stream",
     "text": [
      "Useful columns are: ['anticipation', 'anger', 'joy', 'surprise', 'fear', 'disgust', 'sadness', 'trust', 'word']\n"
     ]
    }
   ],
   "source": [
    "words_dict = get_intensity_dict(dataset_path=words_path)"
   ]
  },
  {
   "cell_type": "code",
   "execution_count": 81,
   "metadata": {},
   "outputs": [
    {
     "name": "stdout",
     "output_type": "stream",
     "text": [
      "21054 16862 4192 18932\n"
     ]
    }
   ],
   "source": [
    "words = list(word_dict.keys())\n",
    "words.extend(word_sentiment_intensity_dict.keys())\n",
    "print(len(words), len(word_dict.keys()), len(word_sentiment_intensity_dict.keys()), len(set(words)))"
   ]
  },
  {
   "cell_type": "markdown",
   "metadata": {},
   "source": [
    "## Positive Negatif words\n",
    "#### Get positive and negative word list:"
   ]
  },
  {
   "cell_type": "code",
   "execution_count": 54,
   "metadata": {},
   "outputs": [
    {
     "name": "stdout",
     "output_type": "stream",
     "text": [
      "2006 4783\n"
     ]
    }
   ],
   "source": [
    "def get_file_content(filepath):\n",
    "    with open(filepath, 'r') as f:\n",
    "        content = f.readlines()\n",
    "    return content\n",
    "\n",
    "positive_word_list = get_file_content(positive_words_path)\n",
    "negative_word_list = get_file_content(negative_words_path)\n",
    "print(len(positive_word_list), len(negative_word_list))"
   ]
  },
  {
   "cell_type": "markdown",
   "metadata": {},
   "source": [
    "## Emojis\n",
    "### 1 - Emoji polarity\n",
    "#### Emoji Valence (EV) \n",
    "- https://github.com/words/emoji-emotion/blob/master/index.json\n",
    "Values between -4 and 4"
   ]
  },
  {
   "cell_type": "code",
   "execution_count": 61,
   "metadata": {},
   "outputs": [],
   "source": [
    "def get_emoji_polarity_dict(emoji_data_path=emoji_polarity_path):\n",
    "    \"\"\"Returns a dict with the emoji unicode as key and the emoji polarity as value\"\"\"\n",
    "    with open(emoji_polarity_path) as json_data:\n",
    "        emoji_polarities = json.load(json_data)\n",
    "        \n",
    "    emoji_polarity_dict = {}\n",
    "    for emoji_val in emoji_polarities:\n",
    "        emoji_polarity_dict[emoji_val[\"emoji\"]] = emoji_val[\"polarity\"]\n",
    "    return emoji_polarity_dict"
   ]
  },
  {
   "cell_type": "code",
   "execution_count": 63,
   "metadata": {},
   "outputs": [
    {
     "data": {
      "text/plain": [
       "{-4, -3, -2, -1, 0, 1, 2, 3, 4}"
      ]
     },
     "execution_count": 63,
     "metadata": {},
     "output_type": "execute_result"
    }
   ],
   "source": [
    "emoji_polarity_dict = get_emoji_polarity_dict()\n",
    "emoji_polarity_dict[emoji]\n",
    "set(emoji_polarity_dict.values())"
   ]
  },
  {
   "cell_type": "markdown",
   "metadata": {},
   "source": [
    "### 2 - Emoji sentiments"
   ]
  },
  {
   "cell_type": "code",
   "execution_count": 149,
   "metadata": {
    "scrolled": true
   },
   "outputs": [
    {
     "data": {
      "text/html": [
       "<div>\n",
       "<table border=\"1\" class=\"dataframe\">\n",
       "  <thead>\n",
       "    <tr style=\"text-align: right;\">\n",
       "      <th></th>\n",
       "      <th>negative</th>\n",
       "      <th>neutral</th>\n",
       "      <th>positive</th>\n",
       "      <th>emoji</th>\n",
       "    </tr>\n",
       "  </thead>\n",
       "  <tbody>\n",
       "    <tr>\n",
       "      <th>0</th>\n",
       "      <td>0.247162</td>\n",
       "      <td>0.284708</td>\n",
       "      <td>0.468130</td>\n",
       "      <td>😂</td>\n",
       "    </tr>\n",
       "    <tr>\n",
       "      <th>1</th>\n",
       "      <td>0.044099</td>\n",
       "      <td>0.165714</td>\n",
       "      <td>0.790186</td>\n",
       "      <td>❤</td>\n",
       "    </tr>\n",
       "    <tr>\n",
       "      <th>2</th>\n",
       "      <td>0.035274</td>\n",
       "      <td>0.271837</td>\n",
       "      <td>0.692889</td>\n",
       "      <td>♥</td>\n",
       "    </tr>\n",
       "    <tr>\n",
       "      <th>3</th>\n",
       "      <td>0.051738</td>\n",
       "      <td>0.218588</td>\n",
       "      <td>0.729674</td>\n",
       "      <td>😍</td>\n",
       "    </tr>\n",
       "    <tr>\n",
       "      <th>4</th>\n",
       "      <td>0.436482</td>\n",
       "      <td>0.220413</td>\n",
       "      <td>0.343105</td>\n",
       "      <td>😭</td>\n",
       "    </tr>\n",
       "  </tbody>\n",
       "</table>\n",
       "</div>"
      ],
      "text/plain": [
       "   negative   neutral  positive emoji\n",
       "0  0.247162  0.284708  0.468130     😂\n",
       "1  0.044099  0.165714  0.790186     ❤\n",
       "2  0.035274  0.271837  0.692889     ♥\n",
       "3  0.051738  0.218588  0.729674     😍\n",
       "4  0.436482  0.220413  0.343105     😭"
      ]
     },
     "execution_count": 149,
     "metadata": {},
     "output_type": "execute_result"
    }
   ],
   "source": [
    "def get_emoji_sentiment_df(sentiment_path=emoji_sentiments_path):\n",
    "    emoji_sentiments_df = pd.read_csv(sentiment_path, delimiter=',')\n",
    "    # Convert scores to percentages between 0 and 1\n",
    "    target_columns = ['negative', 'neutral', 'positive']\n",
    "    for column in target_columns:\n",
    "        emoji_sentiments_df[column] /= emoji_sentiments_df['occurrences']\n",
    "    # Filter columns (remove useless ones)\n",
    "    target_columns.append('emoji')\n",
    "    emoji_sentiments_df = emoji_sentiments_df.filter(target_columns, axis=1)\n",
    "    return emoji_sentiments_df\n",
    "emoji_sentiments_df = get_emoji_sentiment_df()\n",
    "emoji_sentiments_df.head()"
   ]
  },
  {
   "cell_type": "markdown",
   "metadata": {},
   "source": [
    "## Combine the polarity and sentiments in one dict"
   ]
  },
  {
   "cell_type": "code",
   "execution_count": 185,
   "metadata": {},
   "outputs": [
    {
     "data": {
      "text/plain": [
       "(0.24716181096977158, 0.28470797428532346, 0.46813021474490496, 3.0)"
      ]
     },
     "execution_count": 185,
     "metadata": {},
     "output_type": "execute_result"
    }
   ],
   "source": [
    "def get_emoji_dict(polarity_path=emoji_polarity_path, sentiment_path=emoji_sentiments_path):\n",
    "    polarity_dict = get_emoji_polarity_dict(polarity_path)\n",
    "    sentiment_df = get_emoji_sentiment_df(sentiment_path)\n",
    "    # Add new column for popularity with a default value 0\n",
    "    sentiment_df['polarity'] = 0\n",
    "    # Fill with the polarity values! (878 emojis with a missing polarity value!)\n",
    "    for emoji, polarity in emoji_polarity_dict.items():\n",
    "        sentiment_df.loc[sentiment_df['emoji'] == emoji, 'polarity'] = polarity\n",
    "    # Convert to dict\n",
    "    sentiment_dict = sentiment_df.set_index('emoji').T.apply(tuple).to_dict()\n",
    "    return sentiment_dict\n",
    "\n",
    "emoji_sentiment_dict = get_emoji_dict(emoji_polarity_path, emoji_sentiments_path)\n",
    "# (Negative, Neutral, Positive, Polarity)\n",
    "emoji_sentiments_dict['😂']"
   ]
  },
  {
   "cell_type": "markdown",
   "metadata": {},
   "source": [
    "### 4 - Get feature for a word"
   ]
  },
  {
   "cell_type": "code",
   "execution_count": 208,
   "metadata": {},
   "outputs": [],
   "source": [
    "def get_word_features(word, word_dict=word_dict, emoji_dict=word_dict, word_def='hello', emoji_def='😂'):\n",
    "    \"\"\" If the word does not exist, we return a vector filled with 0\"\"\"\n",
    "    word_nb_features = len(word_dict[word_def])\n",
    "    emoji_nb_features = len(emoji_dict[emoji_def])\n",
    "    feature_array = np.zeros((word_nb_features + emoji_nb_features))\n",
    "    if word in word_dict:\n",
    "        # Fill the first part of the array with word features\n",
    "        feature_array[:word_nb_features] = word_dict[word]\n",
    "    elif word in emoji_dict:\n",
    "        # Fill the second part of the array with emoji features\n",
    "        feature_array[emoji_nb_features+1:] = emoji_dict[word]\n",
    "    return feature_array"
   ]
  },
  {
   "cell_type": "code",
   "execution_count": 210,
   "metadata": {},
   "outputs": [
    {
     "name": "stdout",
     "output_type": "stream",
     "text": [
      "Useful columns are: ['anticipation', 'anger', 'surprise', 'fear', 'disgust', 'word']\n",
      "[ 0.          0.          0.33503936  0.          0.          0.          0.\n",
      "  0.          0.        ]\n",
      "[ 0.52548359  0.          0.00436945  0.          0.          0.          0.\n",
      "  0.          0.        ]\n",
      "[ 0.          0.          0.          0.          0.          0.24716181\n",
      "  0.28470797  0.46813021  3.        ]\n"
     ]
    }
   ],
   "source": [
    "word_dict = get_intensity_dict(dataset_path=words_path, threshold=3500)\n",
    "emoji_dict = get_emoji_dict(emoji_polarity_path, emoji_sentiments_path)\n",
    "print(get_word_features('fun', word_dict, emoji_dict))\n",
    "print(get_word_features('#fun', word_dict, emoji_dict))\n",
    "print(get_word_features('😂', word_dict, emoji_dict))"
   ]
  },
  {
   "cell_type": "code",
   "execution_count": null,
   "metadata": {},
   "outputs": [],
   "source": []
  }
 ],
 "metadata": {
  "kernelspec": {
   "display_name": "Python 3",
   "language": "python",
   "name": "python3"
  },
  "language_info": {
   "codemirror_mode": {
    "name": "ipython",
    "version": 3
   },
   "file_extension": ".py",
   "mimetype": "text/x-python",
   "name": "python",
   "nbconvert_exporter": "python",
   "pygments_lexer": "ipython3",
   "version": "3.6.0"
  }
 },
 "nbformat": 4,
 "nbformat_minor": 2
}
