{
 "cells": [
  {
   "cell_type": "code",
   "execution_count": 1,
   "metadata": {
    "collapsed": true
   },
   "outputs": [],
   "source": [
    "%matplotlib inline\n",
    "import matplotlib.pyplot as plt\n",
    "import numpy as np\n",
    "import pandas as pd\n",
    "import json\n",
    "import os\n",
    "import re"
   ]
  },
  {
   "cell_type": "code",
   "execution_count": 2,
   "metadata": {
    "collapsed": true
   },
   "outputs": [],
   "source": [
    "import nltk\n",
    "from nltk.tokenize import TweetTokenizer\n",
    "from nltk import word_tokenize, pos_tag\n",
    "from nltk.stem import WordNetLemmatizer\n",
    "from nltk.corpus import stopwords\n",
    "import gensim.models as gsm"
   ]
  },
  {
   "cell_type": "markdown",
   "metadata": {},
   "source": [
    "## Preprocessing"
   ]
  },
  {
   "cell_type": "code",
   "execution_count": 3,
   "metadata": {
    "collapsed": true
   },
   "outputs": [],
   "source": [
    "# Data\n",
    "data_train_path = './../data/train/train.csv'\n",
    "data_test_path = './../data/test/test.csv'"
   ]
  },
  {
   "cell_type": "code",
   "execution_count": 37,
   "metadata": {},
   "outputs": [],
   "source": [
    "import sys\n",
    "import regex as re\n",
    "\n",
    "FLAGS = re.MULTILINE | re.DOTALL\n",
    "\n",
    "def hashtag(text):\n",
    "    text = text.group()\n",
    "    hashtag_body = text[1:]\n",
    "    if hashtag_body.isupper():\n",
    "        result = \"<hashtag> {} <allcaps>\".format(hashtag_body)\n",
    "    else:\n",
    "        result = \" \".join([\"<hashtag>\"] + re.split(r\"(?=[A-Z])\", hashtag_body, flags=FLAGS))\n",
    "    return result\n",
    "\n",
    "def allcaps(text):\n",
    "    text = text.group()\n",
    "    return text.lower() + \" <allcaps>\"\n",
    "\n",
    "\n",
    "def tokenize(text):\n",
    "    eyes = r\"[8:=;]\"\n",
    "    nose = r\"['`\\-]?\"\n",
    "\n",
    "    def re_sub(pattern, repl):\n",
    "        return re.sub(pattern, repl, text, flags=FLAGS)\n",
    "\n",
    "    text = re_sub(r\"https?:\\/\\/\\S+\\b|www\\.(\\w+\\.)+\\S*\", \"<url>\")\n",
    "    text = re_sub(r\"/\",\" / \")\n",
    "    text = re_sub(r\"@\\w+\", \"<user>\")\n",
    "    text = re_sub(r\"{}{}[)dD]+|[)dD]+{}{}\".format(eyes, nose, nose, eyes), \"<smile>\")\n",
    "    text = re_sub(r\"{}{}p+\".format(eyes, nose), \"<lolface>\")\n",
    "    text = re_sub(r\"{}{}\\(+|\\)+{}{}\".format(eyes, nose, nose, eyes), \"<sadface>\")\n",
    "    text = re_sub(r\"{}{}[\\/|l*]\".format(eyes, nose), \"<neutralface>\")\n",
    "    text = re_sub(r\"<3\",\"<heart>\")\n",
    "    text = re_sub(r\"[-+]?[.\\d]*[\\d]+[:,.\\d]*\", \"<number>\")\n",
    "    text = re_sub(r\"#\\S+\", hashtag)\n",
    "    text = re_sub(r\"([!?.]){2,}\", r\"\\1 <repeat>\")\n",
    "    text = re_sub(r\"\\b(\\S*?)(.)\\2{2,}\\b\", r\"\\1\\2 <elong>\")\n",
    "\n",
    "    text = re_sub(r\"([A-Z]){2,}\", allcaps)\n",
    "\n",
    "    return text.lower()"
   ]
  },
  {
   "cell_type": "code",
   "execution_count": 38,
   "metadata": {
    "collapsed": true
   },
   "outputs": [],
   "source": [
    "def prepare_cvs_data(file_path):\n",
    "    df = pd.read_csv(file_path, sep='\\t', header=None, encoding='utf-8', quoting=3)\n",
    "    df.columns = ['id','text','polarity','class'] # Set up column names\n",
    "    df = df.iloc[np.random.permutation(len(df))] # Random permutations\n",
    "    return df"
   ]
  },
  {
   "cell_type": "code",
   "execution_count": 39,
   "metadata": {},
   "outputs": [],
   "source": [
    "train = np.array(prepare_cvs_data(data_train_path)['text'])"
   ]
  },
  {
   "cell_type": "code",
   "execution_count": 41,
   "metadata": {},
   "outputs": [],
   "source": [
    "for i in range(train.shape[0]):\n",
    "    train[i] = tokenize(train[i])"
   ]
  },
  {
   "cell_type": "code",
   "execution_count": 43,
   "metadata": {},
   "outputs": [
    {
     "name": "stdout",
     "output_type": "stream",
     "text": [
      "<user> hm <elong>. <repeat>you may have a point. <repeat> i thought twitter had got dull 😂. lamination <allcaps>\n",
      "in geometry today hannah started crying of laughter because ms. canning said 'pp' lol\n"
     ]
    }
   ],
   "source": [
    "print(train[0])\n",
    "print(train[1])"
   ]
  },
  {
   "cell_type": "markdown",
   "metadata": {},
   "source": [
    "## Loading glove"
   ]
  },
  {
   "cell_type": "code",
   "execution_count": 46,
   "metadata": {},
   "outputs": [
    {
     "name": "stdout",
     "output_type": "stream",
     "text": [
      "Found 1193514 word vectors.\n"
     ]
    }
   ],
   "source": [
    "GLOVE_DIR = \"../tools/\"\n",
    "\n",
    "embeddings_index = {}\n",
    "f = open(os.path.join(GLOVE_DIR, 'glove.twitter.27B.200d.txt'))\n",
    "for line in f:\n",
    "    values = line.split()\n",
    "    word = values[0]\n",
    "    coefs = np.asarray(values[1:], dtype='float32')\n",
    "    embeddings_index[word] = coefs\n",
    "f.close()\n",
    "\n",
    "print('Found %s word vectors.' % len(embeddings_index))"
   ]
  },
  {
   "cell_type": "code",
   "execution_count": 51,
   "metadata": {
    "collapsed": true
   },
   "outputs": [],
   "source": [
    "word_index = {}\n",
    "idx = 0\n",
    "for i in range(train.shape[0]):\n",
    "    txt = train[i].split()\n",
    "    for j in range(len(txt)):\n",
    "        if word_index.get(txt[j]) == None:\n",
    "            word_index[txt[j]] = idx\n",
    "            idx += 1"
   ]
  },
  {
   "cell_type": "code",
   "execution_count": 53,
   "metadata": {},
   "outputs": [],
   "source": [
    "EMBEDDING_DIM = 200\n",
    "\n",
    "embedding_matrix = np.zeros((len(word_index) + 1, EMBEDDING_DIM))\n",
    "for word, i in word_index.items():\n",
    "    embedding_vector = embeddings_index.get(word)\n",
    "    if embedding_vector is not None:\n",
    "        embedding_matrix[i] = embedding_vector"
   ]
  },
  {
   "cell_type": "code",
   "execution_count": 61,
   "metadata": {},
   "outputs": [],
   "source": [
    "MAX_SEQUENCE_LENGTH = 1\n",
    "\n",
    "from keras.layers import Embedding\n",
    "from keras.models import Model\n",
    "\n",
    "input_word = Input(shape=(1,))\n",
    "\n",
    "embedding_layer = Embedding(len(word_index) + 1,\n",
    "                            EMBEDDING_DIM,\n",
    "                            weights=[embedding_matrix],\n",
    "                            input_length=MAX_SEQUENCE_LENGTH,\n",
    "                            trainable=False)(input_word)\n",
    "\n",
    "embedding_model = Model(input_word, embedding_layer)"
   ]
  },
  {
   "cell_type": "code",
   "execution_count": 69,
   "metadata": {},
   "outputs": [
    {
     "data": {
      "text/plain": [
       "array([[[  3.04300010e-01,  -4.71270010e-02,   6.74459990e-03,\n",
       "          -7.02779964e-02,  -3.83569986e-01,   1.77660003e-01,\n",
       "          -1.05959997e-01,   1.69620007e-01,  -3.48769993e-01,\n",
       "           1.12949997e-01,  -2.37619996e-01,   6.17799982e-02,\n",
       "           1.41269997e-01,   7.85040036e-02,   8.85540023e-02,\n",
       "           4.05110002e-01,   3.15290004e-01,   9.86569971e-02,\n",
       "          -1.97559997e-01,  -2.32480004e-01,   2.58150011e-01,\n",
       "          -1.14050001e-01,   3.36490005e-01,  -1.26430005e-01,\n",
       "          -2.10720003e-01,   1.36820003e-01,  -7.43329972e-02,\n",
       "          -2.09999993e-01,  -2.60419995e-01,  -7.05009997e-01,\n",
       "           1.07000001e-01,   1.70790002e-01,  -2.54469991e-01,\n",
       "          -1.25090003e-01,  -1.62410006e-01,   5.47500014e-01,\n",
       "          -1.98040009e-02,  -3.68429989e-01,  -1.01889998e-01,\n",
       "          -3.07049990e-01,   5.49939990e-01,   3.93170007e-02,\n",
       "           4.31860000e-01,   1.01510003e-01,  -3.69769990e-01,\n",
       "           2.38629997e-01,   7.47500002e-01,   3.98369998e-01,\n",
       "          -3.80930007e-01,   3.10270011e-01,   3.49849999e-01,\n",
       "          -4.87020016e-02,   2.03649998e-01,   6.00420013e-02,\n",
       "           3.90520006e-01,  -7.84019977e-02,  -1.50519997e-01,\n",
       "          -2.47470006e-01,  -2.26909995e-01,  -1.32990003e-01,\n",
       "           2.47610003e-01,  -1.77209992e-02,  -3.52339994e-04,\n",
       "           2.79500008e-01,   3.60650003e-01,  -6.53590024e-01,\n",
       "          -1.78210005e-01,   1.79810002e-01,  -7.90980011e-02,\n",
       "           1.61899999e-01,   1.75040007e-01,   3.78789991e-01,\n",
       "           8.88710022e-02,  -5.21510005e-01,  -3.25980008e-01,\n",
       "           7.47529984e-01,   1.88500006e-02,   4.53940004e-01,\n",
       "           3.10440004e-01,   1.98569998e-01,  -1.77320004e-01,\n",
       "           2.74239987e-01,  -2.66209990e-01,  -3.56629997e-01,\n",
       "           5.83779991e-01,  -3.00630003e-01,  -1.11840002e-01,\n",
       "          -5.78610003e-01,  -2.66189992e-01,  -5.42299986e-01,\n",
       "           1.36879995e-01,   1.40970007e-01,  -3.52440000e-01,\n",
       "          -1.69119999e-01,  -5.65060019e-01,  -7.69279972e-02,\n",
       "          -3.64399999e-01,   2.88810015e-01,   6.81139976e-02,\n",
       "           3.73659991e-02,  -2.91819990e-01,  -5.90699971e-01,\n",
       "           1.41680002e-01,   2.41310000e-01,  -1.99640006e-01,\n",
       "           1.11630000e-01,   3.86640012e-01,  -1.33900002e-01,\n",
       "           7.00270012e-02,  -1.09820003e-02,  -4.20080006e-01,\n",
       "          -1.37309998e-01,  -1.24779996e-02,  -1.08649999e-01,\n",
       "           1.41829997e-01,   3.13560009e-01,   4.55170013e-02,\n",
       "          -1.76939994e-01,   5.33870012e-02,   1.76810008e-02,\n",
       "          -1.19099997e-01,  -1.92550004e-01,  -2.95819998e-01,\n",
       "          -2.72300005e-01,  -1.45249993e-01,  -3.41960005e-02,\n",
       "           5.27740002e-01,   1.67139992e-02,  -2.49789998e-01,\n",
       "          -2.15930000e-01,   5.09109974e-01,   2.66970009e-01,\n",
       "           1.24009997e-01,   9.11979973e-02,  -1.43050000e-01,\n",
       "           4.08580005e-01,   3.61970007e-01,   2.06699997e-01,\n",
       "           9.77860019e-02,  -1.43629998e-01,   2.06269994e-01,\n",
       "           2.71490008e-01,   1.08000003e-01,   1.34969996e-02,\n",
       "          -3.87219995e-01,   3.21859986e-01,  -3.09170008e-01,\n",
       "           6.93319976e-01,  -8.26670006e-02,   2.66559988e-01,\n",
       "          -2.26799995e-01,   2.10559994e-01,  -5.70419979e+00,\n",
       "           1.45170003e-01,  -6.74500018e-02,  -1.81500003e-01,\n",
       "          -2.71899998e-01,   1.61269993e-01,  -4.45609987e-01,\n",
       "           5.10779977e-01,  -3.08129996e-01,   1.74769998e-01,\n",
       "           7.19449995e-03,   6.36989996e-02,  -6.19949996e-02,\n",
       "           2.80999988e-01,   6.44550025e-02,   1.18179999e-01,\n",
       "          -5.10659993e-01,   2.15350002e-01,  -1.51109993e-01,\n",
       "           2.14819998e-01,  -1.61709994e-01,  -6.94260001e-02,\n",
       "          -5.52030027e-01,  -3.06140006e-01,  -2.27740005e-01,\n",
       "           3.86079997e-01,  -5.29510021e-01,   3.56810004e-01,\n",
       "          -3.55619997e-01,  -3.26329991e-02,  -2.22910009e-03,\n",
       "           6.04490004e-02,   8.93110037e-03,  -3.63350004e-01,\n",
       "           6.60139978e-01,  -2.53989995e-01,  -1.01140000e-01,\n",
       "          -3.53449993e-02,  -6.44540012e-01,   1.74980000e-01,\n",
       "           1.46229997e-01,  -1.23819999e-01,  -2.49459997e-01,\n",
       "          -1.27639994e-01,  -2.67610013e-01,   3.08730006e-01,\n",
       "          -1.12049997e-01,   2.88060009e-01]]], dtype=float32)"
      ]
     },
     "execution_count": 69,
     "metadata": {},
     "output_type": "execute_result"
    }
   ],
   "source": [
    "embedding_model.predict(np.array([word_index[\"lol\"]]))"
   ]
  },
  {
   "cell_type": "markdown",
   "metadata": {},
   "source": [
    "## Autoencoder"
   ]
  },
  {
   "cell_type": "code",
   "execution_count": 71,
   "metadata": {},
   "outputs": [],
   "source": [
    "from keras.layers import Input, Dense\n",
    "from keras.models import Model\n",
    "\n",
    "\n",
    "encoding_dim = 50\n",
    "\n",
    "input_word = Input(shape=(200,))\n",
    "\n",
    "encoded = Dense(encoding_dim, activation='relu')(input_word)\n",
    "\n",
    "decoded = Dense(200, activation='sigmoid')(encoded)\n",
    "\n",
    "autoencoder = Model(input_word, decoded)\n",
    "autoencoder.compile(optimizer='adadelta', loss='binary_crossentropy')"
   ]
  },
  {
   "cell_type": "code",
   "execution_count": 74,
   "metadata": {},
   "outputs": [
    {
     "data": {
      "text/plain": [
       "array([[ 0.51459759,  0.49793917,  0.46187755,  0.491568  ,  0.59542143,\n",
       "         0.55838484,  0.41244352,  0.39204735,  0.57383543,  0.42474365,\n",
       "         0.44647253,  0.42325181,  0.47955927,  0.51048654,  0.55219638,\n",
       "         0.46961102,  0.50830984,  0.44755465,  0.53069991,  0.51034915,\n",
       "         0.46747422,  0.50449568,  0.46408534,  0.45891559,  0.51342642,\n",
       "         0.48454446,  0.4531787 ,  0.55239803,  0.54824692,  0.544321  ,\n",
       "         0.48954442,  0.55021352,  0.46595684,  0.54449546,  0.48956317,\n",
       "         0.51587528,  0.39996573,  0.40330929,  0.48041177,  0.49481162,\n",
       "         0.50451535,  0.54726148,  0.48243734,  0.56237841,  0.443712  ,\n",
       "         0.42772862,  0.45498008,  0.53627372,  0.43269598,  0.50044888,\n",
       "         0.41188896,  0.47039655,  0.42564642,  0.47672057,  0.47178909,\n",
       "         0.49529257,  0.43980682,  0.51759273,  0.48556325,  0.41049957,\n",
       "         0.58436543,  0.55790335,  0.54374248,  0.47870111,  0.51101267,\n",
       "         0.45847374,  0.49126002,  0.52511841,  0.53321296,  0.55954283,\n",
       "         0.51498133,  0.55661118,  0.52981836,  0.49500692,  0.5645017 ,\n",
       "         0.54573709,  0.46043965,  0.43557453,  0.60130882,  0.44792429,\n",
       "         0.50999296,  0.56666106,  0.58435732,  0.53636593,  0.48128584,\n",
       "         0.54751468,  0.47170126,  0.49381831,  0.5408743 ,  0.54641044,\n",
       "         0.42603219,  0.46707797,  0.49390191,  0.55125707,  0.42761627,\n",
       "         0.36171362,  0.4402487 ,  0.43628606,  0.55540717,  0.55677062,\n",
       "         0.52217466,  0.4268814 ,  0.51841724,  0.54426813,  0.46559218,\n",
       "         0.46939296,  0.5509814 ,  0.45516208,  0.58774555,  0.57900369,\n",
       "         0.43057674,  0.38629654,  0.53451294,  0.46577868,  0.46439046,\n",
       "         0.47278589,  0.54460794,  0.59383208,  0.59556502,  0.46654531,\n",
       "         0.51675713,  0.61530036,  0.47905108,  0.45291445,  0.47679797,\n",
       "         0.41825476,  0.50091529,  0.34834886,  0.52616042,  0.54232085,\n",
       "         0.50417888,  0.4116478 ,  0.57844675,  0.50862879,  0.36466375,\n",
       "         0.47769532,  0.51275617,  0.41861746,  0.55923182,  0.51315391,\n",
       "         0.50066322,  0.54550129,  0.39422032,  0.54897439,  0.51633847,\n",
       "         0.47553504,  0.43731502,  0.45184076,  0.40865657,  0.47120431,\n",
       "         0.48273212,  0.44944525,  0.51492238,  0.45281774,  0.55800647,\n",
       "         0.49762452,  0.5850001 ,  0.54812431,  0.59525549,  0.55250686,\n",
       "         0.59465921,  0.40251571,  0.54872757,  0.36549714,  0.42476916,\n",
       "         0.56675464,  0.47976828,  0.43002987,  0.61124045,  0.49205375,\n",
       "         0.42316806,  0.57342899,  0.4935762 ,  0.48430517,  0.54078323,\n",
       "         0.37701121,  0.47777331,  0.48352301,  0.50778514,  0.48405436,\n",
       "         0.47457191,  0.58723658,  0.49096233,  0.45036709,  0.59044003,\n",
       "         0.45065823,  0.47687289,  0.58157122,  0.45198187,  0.56711125,\n",
       "         0.41546544,  0.55020195,  0.47916782,  0.41818589,  0.4092443 ,\n",
       "         0.48005876,  0.49655908,  0.56030613,  0.50968671,  0.47672471]], dtype=float32)"
      ]
     },
     "execution_count": 74,
     "metadata": {},
     "output_type": "execute_result"
    }
   ],
   "source": [
    "data = embedding_model.predict(np.array([word_index[\"lol\"]]))[0]\n",
    "# random, need training\n",
    "autoencoder.predict(data)"
   ]
  }
 ],
 "metadata": {
  "kernelspec": {
   "display_name": "Python 3",
   "language": "python",
   "name": "python3"
  },
  "language_info": {
   "codemirror_mode": {
    "name": "ipython",
    "version": 3
   },
   "file_extension": ".py",
   "mimetype": "text/x-python",
   "name": "python",
   "nbconvert_exporter": "python",
   "pygments_lexer": "ipython3",
   "version": "3.6.3"
  }
 },
 "nbformat": 4,
 "nbformat_minor": 2
}
