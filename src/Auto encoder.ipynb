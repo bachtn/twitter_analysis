{
 "cells": [
  {
   "cell_type": "code",
   "execution_count": 1,
   "metadata": {
    "collapsed": true
   },
   "outputs": [],
   "source": [
    "%matplotlib inline\n",
    "import matplotlib.pyplot as plt\n",
    "import numpy as np\n",
    "import pandas as pd\n",
    "import json\n",
    "import os\n",
    "import re"
   ]
  },
  {
   "cell_type": "code",
   "execution_count": 2,
   "metadata": {
    "collapsed": true
   },
   "outputs": [],
   "source": [
    "import nltk\n",
    "from nltk.tokenize import TweetTokenizer\n",
    "from nltk import word_tokenize, pos_tag\n",
    "from nltk.stem import WordNetLemmatizer\n",
    "from nltk.corpus import stopwords\n",
    "import gensim.models as gsm"
   ]
  },
  {
   "cell_type": "markdown",
   "metadata": {},
   "source": [
    "## Preprocessing"
   ]
  },
  {
   "cell_type": "code",
   "execution_count": 3,
   "metadata": {
    "collapsed": true
   },
   "outputs": [],
   "source": [
    "# Data\n",
    "data_train_path = './../data/train/train.csv'\n",
    "data_test_path = './../data/test/test.csv'"
   ]
  },
  {
   "cell_type": "code",
   "execution_count": 4,
   "metadata": {},
   "outputs": [],
   "source": [
    "import sys\n",
    "import regex as re\n",
    "\n",
    "FLAGS = re.MULTILINE | re.DOTALL\n",
    "\n",
    "def hashtag(text):\n",
    "    text = text.group()\n",
    "    hashtag_body = text[1:]\n",
    "    if hashtag_body.isupper():\n",
    "        result = \"<hashtag> {} <allcaps>\".format(hashtag_body)\n",
    "    else:\n",
    "        result = \" \".join([\"<hashtag>\"] + re.split(r\"(?=[A-Z])\", hashtag_body, flags=FLAGS))\n",
    "    return result\n",
    "\n",
    "def allcaps(text):\n",
    "    text = text.group()\n",
    "    return text.lower() + \" <allcaps>\"\n",
    "\n",
    "\n",
    "def tokenize(text):\n",
    "    eyes = r\"[8:=;]\"\n",
    "    nose = r\"['`\\-]?\"\n",
    "\n",
    "    def re_sub(pattern, repl):\n",
    "        return re.sub(pattern, repl, text, flags=FLAGS)\n",
    "\n",
    "    text = re_sub(r\"https?:\\/\\/\\S+\\b|www\\.(\\w+\\.)+\\S*\", \"<url>\")\n",
    "    text = re_sub(r\"/\",\" / \")\n",
    "    text = re_sub(r\"@\\w+\", \"<user>\")\n",
    "    text = re_sub(r\"{}{}[)dD]+|[)dD]+{}{}\".format(eyes, nose, nose, eyes), \"<smile>\")\n",
    "    text = re_sub(r\"{}{}p+\".format(eyes, nose), \"<lolface>\")\n",
    "    text = re_sub(r\"{}{}\\(+|\\)+{}{}\".format(eyes, nose, nose, eyes), \"<sadface>\")\n",
    "    text = re_sub(r\"{}{}[\\/|l*]\".format(eyes, nose), \"<neutralface>\")\n",
    "    text = re_sub(r\"<3\",\"<heart>\")\n",
    "    text = re_sub(r\"[-+]?[.\\d]*[\\d]+[:,.\\d]*\", \"<number>\")\n",
    "    text = re_sub(r\"#\\S+\", hashtag)\n",
    "    text = re_sub(r\"([!?.]){2,}\", r\"\\1 <repeat>\")\n",
    "    text = re_sub(r\"\\b(\\S*?)(.)\\2{2,}\\b\", r\"\\1\\2 <elong>\")\n",
    "\n",
    "    text = re_sub(r\"([A-Z]){2,}\", allcaps)\n",
    "\n",
    "    return text.lower()"
   ]
  },
  {
   "cell_type": "code",
   "execution_count": 5,
   "metadata": {
    "collapsed": true
   },
   "outputs": [],
   "source": [
    "def prepare_cvs_data(file_path):\n",
    "    df = pd.read_csv(file_path, sep='\\t', header=None, encoding='utf-8', quoting=3)\n",
    "    df.columns = ['id','text','polarity','class'] # Set up column names\n",
    "    df = df.iloc[np.random.permutation(len(df))] # Random permutations\n",
    "    return df"
   ]
  },
  {
   "cell_type": "code",
   "execution_count": 6,
   "metadata": {
    "collapsed": true
   },
   "outputs": [],
   "source": [
    "train = np.array(prepare_cvs_data(data_train_path)['text'])"
   ]
  },
  {
   "cell_type": "code",
   "execution_count": 7,
   "metadata": {
    "collapsed": true
   },
   "outputs": [],
   "source": [
    "for i in range(train.shape[0]):\n",
    "    train[i] = tokenize(train[i])"
   ]
  },
  {
   "cell_type": "code",
   "execution_count": 8,
   "metadata": {},
   "outputs": [
    {
     "name": "stdout",
     "output_type": "stream",
     "text": [
      "my ukulele bag has fallen apart. 😐 wel <allcaps> <elong> at <allcaps> least <allcaps> my life hasn't yet! <repeat> \n",
      "that feel when you travel <number> miles to pick up a form that arrives in the post two days after you leave. <hashtag> fume\n",
      "leave it on there, rule,nimber <number> of carpet cleaning! <repeat>  <hashtag> worsethananatomicbomb <hashtag> accidentlyspillbeeronthecarpet\n",
      "and im not even going to get into how its discriminatory to several religions which mandate its followers to let their hair dread.\n"
     ]
    }
   ],
   "source": [
    "print(train[6])\n",
    "print(train[7])\n",
    "print(train[8])\n",
    "print(train[9])"
   ]
  },
  {
   "cell_type": "markdown",
   "metadata": {},
   "source": [
    "## Loading glove"
   ]
  },
  {
   "cell_type": "code",
   "execution_count": 9,
   "metadata": {},
   "outputs": [
    {
     "name": "stdout",
     "output_type": "stream",
     "text": [
      "Found 1193514 word vectors.\n"
     ]
    }
   ],
   "source": [
    "GLOVE_DIR = \"../tools/\"\n",
    "\n",
    "embeddings_index = {}\n",
    "f = open(os.path.join(GLOVE_DIR, 'glove.twitter.27B.200d.txt'))\n",
    "for line in f:\n",
    "    values = line.split()\n",
    "    word = values[0]\n",
    "    coefs = np.asarray(values[1:], dtype='float32')\n",
    "    embeddings_index[word] = coefs\n",
    "f.close()\n",
    "\n",
    "print('Found %s word vectors.' % len(embeddings_index))"
   ]
  },
  {
   "cell_type": "code",
   "execution_count": 10,
   "metadata": {
    "collapsed": true
   },
   "outputs": [],
   "source": [
    "word_index = {}\n",
    "idx = 0\n",
    "for i in range(train.shape[0]):\n",
    "    txt = train[i].split()\n",
    "    for j in range(len(txt)):\n",
    "        if word_index.get(txt[j]) == None:\n",
    "            word_index[txt[j]] = idx\n",
    "            idx += 1"
   ]
  },
  {
   "cell_type": "code",
   "execution_count": 11,
   "metadata": {
    "collapsed": true
   },
   "outputs": [],
   "source": [
    "EMBEDDING_DIM = 200\n",
    "\n",
    "embedding_matrix = np.zeros((len(word_index) + 1, EMBEDDING_DIM))\n",
    "for word, i in word_index.items():\n",
    "    embedding_vector = embeddings_index.get(word)\n",
    "    if embedding_vector is not None:\n",
    "        embedding_matrix[i] = embedding_vector"
   ]
  },
  {
   "cell_type": "code",
   "execution_count": 12,
   "metadata": {},
   "outputs": [
    {
     "name": "stderr",
     "output_type": "stream",
     "text": [
      "Using TensorFlow backend.\n",
      "/usr/lib/python3.6/importlib/_bootstrap.py:219: RuntimeWarning: compiletime version 3.5 of module 'tensorflow.python.framework.fast_tensor_util' does not match runtime version 3.6\n",
      "  return f(*args, **kwds)\n"
     ]
    }
   ],
   "source": [
    "MAX_SEQUENCE_LENGTH = 1\n",
    "\n",
    "from keras.layers import Embedding\n",
    "from keras.layers import Input\n",
    "from keras.models import Model\n",
    "\n",
    "input_word = Input(shape=(1,))\n",
    "\n",
    "embedding_layer = Embedding(len(word_index) + 1,\n",
    "                            EMBEDDING_DIM,\n",
    "                            weights=[embedding_matrix],\n",
    "                            input_length=MAX_SEQUENCE_LENGTH,\n",
    "                            trainable=False)(input_word)\n",
    "\n",
    "embedding_model = Model(input_word, embedding_layer)"
   ]
  },
  {
   "cell_type": "code",
   "execution_count": 13,
   "metadata": {},
   "outputs": [
    {
     "data": {
      "text/plain": [
       "array([[[  3.04300010e-01,  -4.71270010e-02,   6.74459990e-03,\n",
       "          -7.02779964e-02,  -3.83569986e-01,   1.77660003e-01,\n",
       "          -1.05959997e-01,   1.69620007e-01,  -3.48769993e-01,\n",
       "           1.12949997e-01,  -2.37619996e-01,   6.17799982e-02,\n",
       "           1.41269997e-01,   7.85040036e-02,   8.85540023e-02,\n",
       "           4.05110002e-01,   3.15290004e-01,   9.86569971e-02,\n",
       "          -1.97559997e-01,  -2.32480004e-01,   2.58150011e-01,\n",
       "          -1.14050001e-01,   3.36490005e-01,  -1.26430005e-01,\n",
       "          -2.10720003e-01,   1.36820003e-01,  -7.43329972e-02,\n",
       "          -2.09999993e-01,  -2.60419995e-01,  -7.05009997e-01,\n",
       "           1.07000001e-01,   1.70790002e-01,  -2.54469991e-01,\n",
       "          -1.25090003e-01,  -1.62410006e-01,   5.47500014e-01,\n",
       "          -1.98040009e-02,  -3.68429989e-01,  -1.01889998e-01,\n",
       "          -3.07049990e-01,   5.49939990e-01,   3.93170007e-02,\n",
       "           4.31860000e-01,   1.01510003e-01,  -3.69769990e-01,\n",
       "           2.38629997e-01,   7.47500002e-01,   3.98369998e-01,\n",
       "          -3.80930007e-01,   3.10270011e-01,   3.49849999e-01,\n",
       "          -4.87020016e-02,   2.03649998e-01,   6.00420013e-02,\n",
       "           3.90520006e-01,  -7.84019977e-02,  -1.50519997e-01,\n",
       "          -2.47470006e-01,  -2.26909995e-01,  -1.32990003e-01,\n",
       "           2.47610003e-01,  -1.77209992e-02,  -3.52339994e-04,\n",
       "           2.79500008e-01,   3.60650003e-01,  -6.53590024e-01,\n",
       "          -1.78210005e-01,   1.79810002e-01,  -7.90980011e-02,\n",
       "           1.61899999e-01,   1.75040007e-01,   3.78789991e-01,\n",
       "           8.88710022e-02,  -5.21510005e-01,  -3.25980008e-01,\n",
       "           7.47529984e-01,   1.88500006e-02,   4.53940004e-01,\n",
       "           3.10440004e-01,   1.98569998e-01,  -1.77320004e-01,\n",
       "           2.74239987e-01,  -2.66209990e-01,  -3.56629997e-01,\n",
       "           5.83779991e-01,  -3.00630003e-01,  -1.11840002e-01,\n",
       "          -5.78610003e-01,  -2.66189992e-01,  -5.42299986e-01,\n",
       "           1.36879995e-01,   1.40970007e-01,  -3.52440000e-01,\n",
       "          -1.69119999e-01,  -5.65060019e-01,  -7.69279972e-02,\n",
       "          -3.64399999e-01,   2.88810015e-01,   6.81139976e-02,\n",
       "           3.73659991e-02,  -2.91819990e-01,  -5.90699971e-01,\n",
       "           1.41680002e-01,   2.41310000e-01,  -1.99640006e-01,\n",
       "           1.11630000e-01,   3.86640012e-01,  -1.33900002e-01,\n",
       "           7.00270012e-02,  -1.09820003e-02,  -4.20080006e-01,\n",
       "          -1.37309998e-01,  -1.24779996e-02,  -1.08649999e-01,\n",
       "           1.41829997e-01,   3.13560009e-01,   4.55170013e-02,\n",
       "          -1.76939994e-01,   5.33870012e-02,   1.76810008e-02,\n",
       "          -1.19099997e-01,  -1.92550004e-01,  -2.95819998e-01,\n",
       "          -2.72300005e-01,  -1.45249993e-01,  -3.41960005e-02,\n",
       "           5.27740002e-01,   1.67139992e-02,  -2.49789998e-01,\n",
       "          -2.15930000e-01,   5.09109974e-01,   2.66970009e-01,\n",
       "           1.24009997e-01,   9.11979973e-02,  -1.43050000e-01,\n",
       "           4.08580005e-01,   3.61970007e-01,   2.06699997e-01,\n",
       "           9.77860019e-02,  -1.43629998e-01,   2.06269994e-01,\n",
       "           2.71490008e-01,   1.08000003e-01,   1.34969996e-02,\n",
       "          -3.87219995e-01,   3.21859986e-01,  -3.09170008e-01,\n",
       "           6.93319976e-01,  -8.26670006e-02,   2.66559988e-01,\n",
       "          -2.26799995e-01,   2.10559994e-01,  -5.70419979e+00,\n",
       "           1.45170003e-01,  -6.74500018e-02,  -1.81500003e-01,\n",
       "          -2.71899998e-01,   1.61269993e-01,  -4.45609987e-01,\n",
       "           5.10779977e-01,  -3.08129996e-01,   1.74769998e-01,\n",
       "           7.19449995e-03,   6.36989996e-02,  -6.19949996e-02,\n",
       "           2.80999988e-01,   6.44550025e-02,   1.18179999e-01,\n",
       "          -5.10659993e-01,   2.15350002e-01,  -1.51109993e-01,\n",
       "           2.14819998e-01,  -1.61709994e-01,  -6.94260001e-02,\n",
       "          -5.52030027e-01,  -3.06140006e-01,  -2.27740005e-01,\n",
       "           3.86079997e-01,  -5.29510021e-01,   3.56810004e-01,\n",
       "          -3.55619997e-01,  -3.26329991e-02,  -2.22910009e-03,\n",
       "           6.04490004e-02,   8.93110037e-03,  -3.63350004e-01,\n",
       "           6.60139978e-01,  -2.53989995e-01,  -1.01140000e-01,\n",
       "          -3.53449993e-02,  -6.44540012e-01,   1.74980000e-01,\n",
       "           1.46229997e-01,  -1.23819999e-01,  -2.49459997e-01,\n",
       "          -1.27639994e-01,  -2.67610013e-01,   3.08730006e-01,\n",
       "          -1.12049997e-01,   2.88060009e-01]]], dtype=float32)"
      ]
     },
     "execution_count": 13,
     "metadata": {},
     "output_type": "execute_result"
    }
   ],
   "source": [
    "embedding_model.predict(np.array([word_index[\"lol\"]]))"
   ]
  },
  {
   "cell_type": "markdown",
   "metadata": {},
   "source": [
    "## Autoencoder"
   ]
  },
  {
   "cell_type": "code",
   "execution_count": 58,
   "metadata": {},
   "outputs": [],
   "source": [
    "from keras.layers import Input, Dense\n",
    "from keras.models import Model\n",
    "\n",
    "\n",
    "encoding_dim = 50\n",
    "\n",
    "input_word = Input(shape=(1,200,))\n",
    "\n",
    "encoded = Dense(encoding_dim, activation='relu')(input_word)\n",
    "\n",
    "decoded = Dense(200, activation='sigmoid')(encoded)\n",
    "\n",
    "autoencoder = Model(input_word, decoded)\n",
    "autoencoder.compile(optimizer='adadelta', loss='mse')"
   ]
  },
  {
   "cell_type": "code",
   "execution_count": 59,
   "metadata": {},
   "outputs": [
    {
     "name": "stdout",
     "output_type": "stream",
     "text": [
      "Epoch 1/10\n",
      "17873/17873 [==============================] - 1s 67us/step - loss: 0.1897\n",
      "Epoch 2/10\n",
      "17873/17873 [==============================] - 1s 53us/step - loss: 0.1111\n",
      "Epoch 3/10\n",
      "17873/17873 [==============================] - 1s 51us/step - loss: 0.1078\n",
      "Epoch 4/10\n",
      "17873/17873 [==============================] - 1s 52us/step - loss: 0.1066\n",
      "Epoch 5/10\n",
      "17873/17873 [==============================] - 1s 53us/step - loss: 0.1061\n",
      "Epoch 6/10\n",
      "17873/17873 [==============================] - 1s 51us/step - loss: 0.1057\n",
      "Epoch 7/10\n",
      "17873/17873 [==============================] - 1s 53us/step - loss: 0.1054\n",
      "Epoch 8/10\n",
      "17873/17873 [==============================] - 1s 51us/step - loss: 0.1052\n",
      "Epoch 9/10\n",
      "17873/17873 [==============================] - 1s 51us/step - loss: 0.1050\n",
      "Epoch 10/10\n",
      "17873/17873 [==============================] - 1s 49us/step - loss: 0.1048\n"
     ]
    }
   ],
   "source": [
    "hist = autoencoder.fit(embedding_matrix.reshape((17873, 1, 200)), embedding_matrix.reshape((17873, 1, 200)), epochs=10)"
   ]
  },
  {
   "cell_type": "code",
   "execution_count": 60,
   "metadata": {},
   "outputs": [
    {
     "data": {
      "text/plain": [
       "array([[[  2.04475434e-03,  -1.33484024e-01,   3.18760016e-01,\n",
       "           2.14834749e-01,   6.54322816e-01,  -2.40243984e-01,\n",
       "          -2.30437815e-02,  -2.71960303e-01,   1.28590502e-01,\n",
       "          -1.06900266e-01,   1.90989563e-01,  -6.98941241e-01,\n",
       "           2.24763477e-01,  -1.14838890e-01,  -7.25639147e-01,\n",
       "           2.34655760e-01,  -2.69377628e-01,   4.80826816e-03,\n",
       "           1.62817781e-01,   8.74007936e-04,   1.59049063e-01,\n",
       "           3.48254954e-01,  -1.55941404e-01,   2.90236896e-01,\n",
       "           4.05554926e-02,   3.23010445e-01,  -7.00435654e-01,\n",
       "          -3.02569648e-01,  -2.13158514e-01,   2.42166119e-01,\n",
       "           3.51775872e-01,   1.23402816e-01,   2.90700611e-01,\n",
       "          -3.36228250e-01,   1.86682913e-01,  -4.24086056e-02,\n",
       "          -1.48702512e-01,  -1.19113829e-03,  -1.50155470e-01,\n",
       "          -1.14264065e-01,  -2.32804179e-01,   9.64938852e-02,\n",
       "           1.89713167e-01,   1.96531648e-01,   4.45589712e-01,\n",
       "          -4.09117211e-02,  -4.47520201e-01,   3.12201723e-02,\n",
       "           6.29148383e-02,   2.08523656e-01,  -2.32806446e-01,\n",
       "           5.92767623e-01,  -1.95413031e-01,  -6.21589565e-01,\n",
       "           3.55330325e-01,  -3.43612930e-01,   1.76145968e-01,\n",
       "           1.87818865e-01,   8.16834113e-01,   7.93850758e-02,\n",
       "           3.44732992e-01,  -4.86284821e-01,  -6.23820699e-03,\n",
       "           4.08595119e-02,  -4.83131321e-01,  -7.02756196e-02,\n",
       "           1.29388016e-01,  -2.42101534e-01,  -4.38346411e-01,\n",
       "           5.73042495e-01,  -3.53290812e-01,  -2.55003073e-01,\n",
       "          -3.58814537e-02,  -3.38876943e-01,   8.63180402e-01,\n",
       "          -4.49717977e-01,   2.60907295e-01,  -1.24690420e-01,\n",
       "          -4.67237380e-01,  -3.47997123e-01,  -3.76939267e-01,\n",
       "           5.72614594e-01,  -1.05511246e-01,   2.29770688e-02,\n",
       "          -2.01815390e-01,   4.30982096e-01,  -2.12755226e-01,\n",
       "          -3.80904571e-01,  -6.41603360e-01,   2.08159303e-01,\n",
       "           3.28900977e-01,   2.55644128e-01,  -1.47560627e-01,\n",
       "          -2.89303782e-01,  -3.73622142e-01,   5.29866177e-03,\n",
       "           3.38038560e-01,   3.48948975e-01,   7.97394736e-02,\n",
       "           3.20970310e-01,   1.23767209e-01,  -6.25627693e-02,\n",
       "          -3.24201301e-01,   6.67064391e-01,  -2.76901523e-02,\n",
       "           3.27702472e-01,  -2.88429868e-02,   5.04225260e-01,\n",
       "           1.81418617e-01,  -5.53362742e-01,   3.92936334e-01,\n",
       "           2.24797249e-01,   8.59932638e-01,  -6.59371091e-02,\n",
       "          -5.81385960e-02,   1.63770486e-01,   5.03194716e-01,\n",
       "           5.85334275e-01,  -3.98040246e-01,   4.24031168e-02,\n",
       "          -1.04984144e-01,   5.87769422e-01,  -2.25671324e-01,\n",
       "          -4.41136952e-01,   5.28311347e-01,  -3.32748442e-01,\n",
       "           4.81603411e-02,   9.56458115e-02,  -4.47096005e-01,\n",
       "          -6.39988353e-01,   1.63724814e-01,   5.27271743e-01,\n",
       "          -2.69917885e-01,  -1.30193569e-01,  -3.95459562e-01,\n",
       "           3.34962103e-01,   1.08885707e-01,  -1.70786058e-01,\n",
       "           3.72966484e-01,  -8.53353374e-02,   1.14918224e-01,\n",
       "          -1.23720970e-01,  -9.63987352e-03,  -2.87822101e-01,\n",
       "           2.77832037e-01,   1.99161780e-01,   2.31225434e-01,\n",
       "           3.90594705e-01,   3.85854840e-01,  -3.92359467e-01,\n",
       "           5.32098980e-01,   1.99292004e-01,   2.53614866e+00,\n",
       "           2.01723287e-01,  -7.83409015e-01,  -3.73220087e-01,\n",
       "          -3.15205890e-01,  -8.52311146e-03,   2.49024520e-01,\n",
       "           6.19380802e-01,  -1.97038611e-01,  -2.58908060e-01,\n",
       "           8.91149190e-02,  -4.79161503e-01,  -3.85834798e-02,\n",
       "           5.96984380e-01,   2.01609285e-01,  -3.11926304e-01,\n",
       "           3.47804045e-01,  -1.13963335e-01,  -2.14221221e-02,\n",
       "           4.06206750e-01,  -3.95969689e-01,  -2.89880283e-01,\n",
       "           2.79488846e-01,   4.12898213e-01,   2.46402885e-01,\n",
       "           5.80000500e-01,   1.59082921e-02,   3.93085925e-01,\n",
       "           3.15245680e-01,  -4.75956925e-01,   1.10709466e-01,\n",
       "          -5.10365580e-01,  -2.07768705e-02,  -8.32258146e-02,\n",
       "          -1.60794403e-01,  -1.75904620e-01,  -4.68407944e-01,\n",
       "          -2.37448264e-01,   2.16789521e-01,  -3.67114004e-01,\n",
       "          -4.37613504e-01,   8.21562815e-01,  -1.02421742e-01,\n",
       "           2.91189694e-01,  -7.74635457e-01,   4.53569338e-01,\n",
       "          -3.80605031e-01,   5.53630475e-01]]])"
      ]
     },
     "execution_count": 60,
     "metadata": {},
     "output_type": "execute_result"
    }
   ],
   "source": [
    "autoencoder.predict(embedding_matrix[0:1].reshape((1, 1, 200))) - embedding_matrix[0]"
   ]
  },
  {
   "cell_type": "markdown",
   "metadata": {},
   "source": [
    "## Combine models"
   ]
  },
  {
   "cell_type": "code",
   "execution_count": 61,
   "metadata": {},
   "outputs": [],
   "source": [
    "encoding_dim = 50\n",
    "\n",
    "input_word = Input(shape=(1,))\n",
    "\n",
    "embedding_layer = Embedding(len(word_index) + 1,\n",
    "                            EMBEDDING_DIM,\n",
    "                            weights=[embedding_matrix],\n",
    "                            input_length=MAX_SEQUENCE_LENGTH,\n",
    "                            trainable=False)(input_word)\n",
    "\n",
    "encoded = Dense(encoding_dim, activation='relu', weights=autoencoder.layers[1].get_weights())(embedding_layer)\n",
    "decoded = Dense(200, activation='sigmoid', weights=autoencoder.layers[2].get_weights())(encoded)\n",
    "final = Model(input_word, decoded)\n",
    "final.compile(optimizer='adadelta', loss='mse')"
   ]
  },
  {
   "cell_type": "code",
   "execution_count": 62,
   "metadata": {},
   "outputs": [
    {
     "name": "stdout",
     "output_type": "stream",
     "text": [
      "_________________________________________________________________\n",
      "Layer (type)                 Output Shape              Param #   \n",
      "=================================================================\n",
      "input_12 (InputLayer)        (None, 1)                 0         \n",
      "_________________________________________________________________\n",
      "embedding_5 (Embedding)      (None, 1, 200)            3574600   \n",
      "_________________________________________________________________\n",
      "dense_19 (Dense)             (None, 1, 50)             10050     \n",
      "_________________________________________________________________\n",
      "dense_20 (Dense)             (None, 1, 200)            10200     \n",
      "=================================================================\n",
      "Total params: 3,594,850\n",
      "Trainable params: 20,250\n",
      "Non-trainable params: 3,574,600\n",
      "_________________________________________________________________\n"
     ]
    }
   ],
   "source": [
    "final.summary()"
   ]
  },
  {
   "cell_type": "code",
   "execution_count": 63,
   "metadata": {},
   "outputs": [
    {
     "data": {
      "text/plain": [
       "array([[[  5.37616506e-05,   4.28096595e-04,   9.93819995e-05,\n",
       "           1.13859377e-03,   1.18994867e-04,   7.91068946e-04,\n",
       "           5.26164353e-01,   9.14681732e-05,   9.78201933e-05,\n",
       "           5.29125027e-05,   8.67918061e-05,   1.48461448e-04,\n",
       "           3.79188932e-05,   1.27231557e-04,   1.36072791e-04,\n",
       "           2.65420513e-05,   2.71935947e-04,   1.25900973e-04,\n",
       "           7.12620676e-05,   1.53685731e-04,   4.28253959e-04,\n",
       "           1.88287799e-04,   3.02218425e-04,   1.61238786e-04,\n",
       "           2.58640775e-05,   3.14008564e-01,   6.65003201e-04,\n",
       "           2.14176904e-03,   5.45555522e-05,   1.75308756e-04,\n",
       "           6.11897267e-04,   3.53807409e-04,   3.00749089e-04,\n",
       "           1.17698903e-04,   3.72291070e-05,   7.86493329e-05,\n",
       "           2.15003936e-04,   2.45921983e-04,   6.93034334e-03,\n",
       "           9.44120984e-05,   1.00382961e-01,   2.55214138e-04,\n",
       "           2.08360632e-03,   6.25386238e-05,   1.30469372e-04,\n",
       "           2.86007795e-04,   8.39940330e-05,   1.63624223e-04,\n",
       "           2.81494111e-04,   3.01070686e-04,   2.22352755e-04,\n",
       "           1.40862001e-04,   9.99057302e-05,   2.90816097e-04,\n",
       "           9.98190808e-05,   1.77876529e-04,   3.36916826e-04,\n",
       "           4.78341943e-04,   9.70203473e-05,   1.13606962e-04,\n",
       "           3.76643264e-04,   1.12178575e-04,   8.71276497e-05,\n",
       "           1.25208258e-04,   9.12192336e-05,   1.12008862e-02,\n",
       "           1.81133932e-04,   1.44615056e-04,   8.77361090e-05,\n",
       "           1.58066527e-04,   5.97228791e-05,   1.16738869e-04,\n",
       "           1.95935339e-04,   6.71478701e-05,   1.08837360e-03,\n",
       "           8.52070400e-04,   2.17358451e-04,   1.35270442e-04,\n",
       "           2.15630920e-04,   1.17002324e-04,   1.39435291e-01,\n",
       "           4.96757042e-04,   4.87443613e-04,   2.07556892e-04,\n",
       "           3.00076295e-04,   9.56716613e-05,   1.02587091e-03,\n",
       "           4.39662872e-05,   1.73033564e-04,   1.45851038e-04,\n",
       "           1.32654182e-04,   1.23525015e-03,   5.72650577e-04,\n",
       "           5.27134864e-04,   2.99087493e-04,   2.17206572e-04,\n",
       "           2.45755335e-04,   6.55088515e-05,   9.85145016e-05,\n",
       "           3.76628916e-04,   9.86355735e-05,   6.45975175e-04,\n",
       "           1.91799263e-04,   1.38766671e-04,   1.12239766e-04,\n",
       "           1.35025082e-04,   4.21950244e-04,   3.19121336e-03,\n",
       "           2.82150781e-04,   1.22668847e-04,   2.10674450e-04,\n",
       "           8.97344289e-05,   8.15439707e-05,   5.88150928e-04,\n",
       "           9.86538216e-05,   8.49704375e-05,   2.05793796e-04,\n",
       "           2.86796101e-04,   1.40587043e-04,   2.04879623e-02,\n",
       "           1.40099539e-04,   6.77207645e-05,   1.38488947e-04,\n",
       "           4.88051592e-05,   3.18560604e-04,   1.81980105e-03,\n",
       "           1.15574658e-04,   1.25806531e-04,   4.28276099e-02,\n",
       "           1.72476808e-04,   1.89040453e-04,   2.19432623e-04,\n",
       "           2.05444041e-04,   3.37251520e-04,   5.72229437e-05,\n",
       "           6.51542359e-05,   1.55191025e-04,   1.57149509e-04,\n",
       "           1.16697913e-04,   1.69268344e-04,   2.91237072e-03,\n",
       "           5.60443907e-04,   5.47330383e-05,   2.03014060e-04,\n",
       "           2.44100345e-04,   1.01187041e-04,   1.66063648e-04,\n",
       "           3.58132296e-04,   6.19857965e-05,   1.85968122e-04,\n",
       "           3.29592003e-04,   9.18247271e-03,   5.68872520e-06,\n",
       "           2.40217865e-04,   2.67420080e-04,   2.83853878e-04,\n",
       "           8.44110837e-05,   4.46395978e-04,   2.31203594e-04,\n",
       "           2.60463823e-02,   2.47249845e-04,   1.35116527e-04,\n",
       "           6.41579391e-05,   1.44277743e-04,   1.87155940e-02,\n",
       "           1.19290482e-04,   1.37850351e-04,   2.60563538e-04,\n",
       "           1.87131940e-04,   2.36435226e-04,   3.03066714e-04,\n",
       "           1.24044614e-04,   4.66994301e-04,   1.04294228e-03,\n",
       "           7.61132178e-05,   7.51817934e-05,   1.55403526e-04,\n",
       "           3.99642886e-05,   1.21347686e-04,   7.42868287e-05,\n",
       "           6.93332840e-05,   1.20682889e-04,   4.46856757e-05,\n",
       "           7.83689611e-05,   1.11179346e-04,   2.62579927e-03,\n",
       "           1.45396253e-03,   8.14239174e-05,   4.29265201e-05,\n",
       "           4.06453357e-04,   9.02503525e-05,   2.17647117e-04,\n",
       "           2.88378971e-04,   2.06162833e-04,   5.07919001e-04,\n",
       "           1.85941695e-04,   1.87320504e-02,   3.33061963e-02,\n",
       "           6.98337390e-05,   4.73289256e-05]]], dtype=float32)"
      ]
     },
     "execution_count": 63,
     "metadata": {},
     "output_type": "execute_result"
    }
   ],
   "source": [
    "final.predict(np.array([word_index[\"lol\"]]))"
   ]
  },
  {
   "cell_type": "code",
   "execution_count": null,
   "metadata": {
    "collapsed": true
   },
   "outputs": [],
   "source": []
  }
 ],
 "metadata": {
  "kernelspec": {
   "display_name": "Python 3",
   "language": "python",
   "name": "python3"
  },
  "language_info": {
   "codemirror_mode": {
    "name": "ipython",
    "version": 3
   },
   "file_extension": ".py",
   "mimetype": "text/x-python",
   "name": "python",
   "nbconvert_exporter": "python",
   "pygments_lexer": "ipython3",
   "version": "3.6.4"
  }
 },
 "nbformat": 4,
 "nbformat_minor": 2
}
