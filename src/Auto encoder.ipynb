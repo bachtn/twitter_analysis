{
 "cells": [
  {
   "cell_type": "code",
   "execution_count": 1,
   "metadata": {
    "collapsed": true
   },
   "outputs": [],
   "source": [
    "%matplotlib inline\n",
    "import matplotlib.pyplot as plt\n",
    "import numpy as np\n",
    "import pandas as pd\n",
    "import json\n",
    "import os\n",
    "import re"
   ]
  },
  {
   "cell_type": "code",
   "execution_count": 2,
   "metadata": {
    "collapsed": true
   },
   "outputs": [],
   "source": [
    "import nltk\n",
    "from nltk.tokenize import TweetTokenizer\n",
    "from nltk import word_tokenize, pos_tag\n",
    "from nltk.stem import WordNetLemmatizer\n",
    "from nltk.corpus import stopwords\n",
    "import gensim.models as gsm"
   ]
  },
  {
   "cell_type": "markdown",
   "metadata": {},
   "source": [
    "## Preprocessing"
   ]
  },
  {
   "cell_type": "code",
   "execution_count": 3,
   "metadata": {
    "collapsed": true
   },
   "outputs": [],
   "source": [
    "# Data\n",
    "data_train_path = './../data/train/train.csv'\n",
    "data_test_path = './../data/test/test.csv'"
   ]
  },
  {
   "cell_type": "code",
   "execution_count": 4,
   "metadata": {
    "collapsed": true
   },
   "outputs": [],
   "source": [
    "import sys\n",
    "import regex as re\n",
    "\n",
    "FLAGS = re.MULTILINE | re.DOTALL\n",
    "\n",
    "def hashtag(text):\n",
    "    text = text.group()\n",
    "    hashtag_body = text[1:]\n",
    "    if hashtag_body.isupper():\n",
    "        result = \"<hashtag> {} <allcaps>\".format(hashtag_body)\n",
    "    else:\n",
    "        result = \" \".join([\"<hashtag>\"] + re.split(r\"(?=[A-Z])\", hashtag_body, flags=FLAGS))\n",
    "    return result\n",
    "\n",
    "def allcaps(text):\n",
    "    text = text.group()\n",
    "    return text.lower() + \" <allcaps>\"\n",
    "\n",
    "\n",
    "def tokenize(text):\n",
    "    eyes = r\"[8:=;]\"\n",
    "    nose = r\"['`\\-]?\"\n",
    "\n",
    "    def re_sub(pattern, repl):\n",
    "        return re.sub(pattern, repl, text, flags=FLAGS)\n",
    "\n",
    "    text = re_sub(r\"https?:\\/\\/\\S+\\b|www\\.(\\w+\\.)+\\S*\", \"<url>\")\n",
    "    text = re_sub(r\"/\",\" / \")\n",
    "    text = re_sub(r\"@\\w+\", \"<user>\")\n",
    "    text = re_sub(r\"{}{}[)dD]+|[)dD]+{}{}\".format(eyes, nose, nose, eyes), \"<smile>\")\n",
    "    text = re_sub(r\"{}{}p+\".format(eyes, nose), \"<lolface>\")\n",
    "    text = re_sub(r\"{}{}\\(+|\\)+{}{}\".format(eyes, nose, nose, eyes), \"<sadface>\")\n",
    "    text = re_sub(r\"{}{}[\\/|l*]\".format(eyes, nose), \"<neutralface>\")\n",
    "    text = re_sub(r\"<3\",\"<heart>\")\n",
    "    text = re_sub(r\"[-+]?[.\\d]*[\\d]+[:,.\\d]*\", \"<number>\")\n",
    "    text = re_sub(r\"#\\S+\", hashtag)\n",
    "    text = re_sub(r\"([!?.]){2,}\", r\"\\1 <repeat>\")\n",
    "    text = re_sub(r\"\\b(\\S*?)(.)\\2{2,}\\b\", r\"\\1\\2 <elong>\")\n",
    "\n",
    "    text = re_sub(r\"([A-Z]){2,}\", allcaps)\n",
    "\n",
    "    return text.lower()"
   ]
  },
  {
   "cell_type": "code",
   "execution_count": 5,
   "metadata": {
    "collapsed": true
   },
   "outputs": [],
   "source": [
    "def prepare_cvs_data(file_path):\n",
    "    df = pd.read_csv(file_path, sep='\\t', header=None, encoding='utf-8', quoting=3)\n",
    "    df.columns = ['id','text','polarity','class'] # Set up column names\n",
    "    return df"
   ]
  },
  {
   "cell_type": "code",
   "execution_count": 6,
   "metadata": {
    "collapsed": true
   },
   "outputs": [],
   "source": [
    "train = np.array(prepare_cvs_data(data_train_path)['text'])\n",
    "train_type = np.array(prepare_cvs_data(data_train_path)['polarity'])\n",
    "train_labels_tmp = prepare_cvs_data(data_train_path)['class']\n",
    "train_labels = np.array([int(x[0]) for x in train_labels_tmp])\n",
    "\n",
    "test = np.array(prepare_cvs_data(data_test_path)['text'])\n",
    "test_type = np.array(prepare_cvs_data(data_test_path)['polarity'])\n",
    "test_labels_tmp = prepare_cvs_data(data_test_path)['class']\n",
    "test_labels = np.array([int(x[0]) for x in test_labels_tmp])"
   ]
  },
  {
   "cell_type": "code",
   "execution_count": 9,
   "metadata": {},
   "outputs": [],
   "source": [
    "for i in range(train.shape[0]):\n",
    "    train[i] = tokenize(train[i])\n",
    "for i in range(test.shape[0]):\n",
    "    test[i] = tokenize(test[i])"
   ]
  },
  {
   "cell_type": "code",
   "execution_count": 10,
   "metadata": {},
   "outputs": [
    {
     "name": "stdout",
     "output_type": "stream",
     "text": [
      "how the fu*k! who the heck! moved my fridge. <repeat> should i knock the landlord door. <hashtag> angry <hashtag> mad <hashtag> # 3 anger\n",
      "so my indian uber driver just called someone the n word. if i wasn't in a moving vehicle i'd have jumped out <hashtag> disgusted  3\n",
      "<user> i asked for my parcel to be delivered to a pick up store not my address <hashtag> fuming <hashtag> poorcustomerservice 3\n",
      "so ef whichever butt wipe pulled the fire alarm in davis bc i was sound asleep <hashtag> pissed <hashtag> angry <hashtag> upset <hashtag> tired <hashtag> sad <hashtag> tired <hashtag> hangry <hashtag> <hashtag> #### 3\n"
     ]
    }
   ],
   "source": [
    "print(train[0], train_labels[0], train_type[0])\n",
    "print(train[1], train_labels[1])\n",
    "print(train[2], train_labels[2])\n",
    "print(train[3], train_labels[3])"
   ]
  },
  {
   "cell_type": "markdown",
   "metadata": {},
   "source": [
    "## Loading glove"
   ]
  },
  {
   "cell_type": "code",
   "execution_count": 11,
   "metadata": {},
   "outputs": [
    {
     "name": "stdout",
     "output_type": "stream",
     "text": [
      "Found 1193514 word vectors.\n"
     ]
    }
   ],
   "source": [
    "GLOVE_DIR = \"../tools/\"\n",
    "\n",
    "embeddings_index = {}\n",
    "f = open(os.path.join(GLOVE_DIR, 'glove.twitter.27B.200d.txt'))\n",
    "for line in f:\n",
    "    values = line.split()\n",
    "    word = values[0]\n",
    "    coefs = np.asarray(values[1:], dtype='float32')\n",
    "    embeddings_index[word] = coefs\n",
    "f.close()\n",
    "\n",
    "print('Found %s word vectors.' % len(embeddings_index))"
   ]
  },
  {
   "cell_type": "code",
   "execution_count": 12,
   "metadata": {
    "collapsed": true
   },
   "outputs": [],
   "source": [
    "word_index = {}\n",
    "idx = 0\n",
    "for i in range(train.shape[0]):\n",
    "    txt = train[i].split()\n",
    "    for j in range(len(txt)):\n",
    "        if word_index.get(txt[j]) == None:\n",
    "            word_index[txt[j]] = idx\n",
    "            idx += 1\n",
    "\n",
    "for i in range(test.shape[0]):\n",
    "    txt = test[i].split()\n",
    "    for j in range(len(txt)):\n",
    "        if word_index.get(txt[j]) == None:\n",
    "            word_index[txt[j]] = idx\n",
    "            idx += 1"
   ]
  },
  {
   "cell_type": "code",
   "execution_count": 13,
   "metadata": {
    "collapsed": true
   },
   "outputs": [],
   "source": [
    "EMBEDDING_DIM = 200\n",
    "\n",
    "embedding_matrix = np.zeros((len(word_index) + 1, EMBEDDING_DIM))\n",
    "for word, i in word_index.items():\n",
    "    embedding_vector = embeddings_index.get(word)\n",
    "    if embedding_vector is not None:\n",
    "        embedding_matrix[i] = embedding_vector"
   ]
  },
  {
   "cell_type": "code",
   "execution_count": 14,
   "metadata": {},
   "outputs": [
    {
     "name": "stderr",
     "output_type": "stream",
     "text": [
      "Using TensorFlow backend.\n",
      "/usr/lib/python3.6/importlib/_bootstrap.py:219: RuntimeWarning: compiletime version 3.5 of module 'tensorflow.python.framework.fast_tensor_util' does not match runtime version 3.6\n",
      "  return f(*args, **kwds)\n"
     ]
    }
   ],
   "source": [
    "MAX_SEQUENCE_LENGTH = 1\n",
    "\n",
    "from keras.layers import Embedding\n",
    "from keras.layers import Input\n",
    "from keras.models import Model\n",
    "\n",
    "input_word = Input(shape=(1,))\n",
    "\n",
    "embedding_layer = Embedding(len(word_index) + 1,\n",
    "                            EMBEDDING_DIM,\n",
    "                            weights=[embedding_matrix],\n",
    "                            input_length=MAX_SEQUENCE_LENGTH,\n",
    "                            trainable=False)(input_word)\n",
    "\n",
    "embedding_model = Model(input_word, embedding_layer)"
   ]
  },
  {
   "cell_type": "markdown",
   "metadata": {},
   "source": [
    "## Autoencoder"
   ]
  },
  {
   "cell_type": "code",
   "execution_count": 16,
   "metadata": {
    "collapsed": true
   },
   "outputs": [],
   "source": [
    "from keras.layers import Input, Dense\n",
    "from keras.models import Model\n",
    "\n",
    "\n",
    "encoding_dim = 50\n",
    "\n",
    "input_word = Input(shape=(1,200,))\n",
    "\n",
    "encoded = Dense(encoding_dim, activation='relu')(input_word)\n",
    "\n",
    "decoded = Dense(200, activation='sigmoid')(encoded)\n",
    "\n",
    "autoencoder = Model(input_word, decoded)\n",
    "autoencoder.compile(optimizer='adadelta', loss='mse')"
   ]
  },
  {
   "cell_type": "code",
   "execution_count": 21,
   "metadata": {},
   "outputs": [
    {
     "name": "stdout",
     "output_type": "stream",
     "text": [
      "Epoch 1/100\n",
      "19635/19635 [==============================] - 1s 61us/step - loss: 0.1837\n",
      "Epoch 2/100\n",
      "19635/19635 [==============================] - 1s 53us/step - loss: 0.1083\n",
      "Epoch 3/100\n",
      "19635/19635 [==============================] - 1s 53us/step - loss: 0.1057\n",
      "Epoch 4/100\n",
      "19635/19635 [==============================] - 1s 53us/step - loss: 0.1048\n",
      "Epoch 5/100\n",
      "19635/19635 [==============================] - 1s 54us/step - loss: 0.1041\n",
      "Epoch 6/100\n",
      "19635/19635 [==============================] - 1s 53us/step - loss: 0.1037\n",
      "Epoch 7/100\n",
      "19635/19635 [==============================] - 1s 52us/step - loss: 0.1033\n",
      "Epoch 8/100\n",
      "19635/19635 [==============================] - 1s 50us/step - loss: 0.1030\n",
      "Epoch 9/100\n",
      "19635/19635 [==============================] - 1s 50us/step - loss: 0.1028\n",
      "Epoch 10/100\n",
      "19635/19635 [==============================] - 1s 50us/step - loss: 0.1025\n",
      "Epoch 11/100\n",
      "19635/19635 [==============================] - 1s 48us/step - loss: 0.1023\n",
      "Epoch 12/100\n",
      "19635/19635 [==============================] - 1s 50us/step - loss: 0.1021\n",
      "Epoch 13/100\n",
      "19635/19635 [==============================] - 1s 51us/step - loss: 0.1020\n",
      "Epoch 14/100\n",
      "19635/19635 [==============================] - 1s 53us/step - loss: 0.1018\n",
      "Epoch 15/100\n",
      "19635/19635 [==============================] - 1s 53us/step - loss: 0.1016\n",
      "Epoch 16/100\n",
      "19635/19635 [==============================] - 1s 51us/step - loss: 0.1014\n",
      "Epoch 17/100\n",
      "19635/19635 [==============================] - 1s 49us/step - loss: 0.1012\n",
      "Epoch 18/100\n",
      "19635/19635 [==============================] - 1s 49us/step - loss: 0.1010\n",
      "Epoch 19/100\n",
      "19635/19635 [==============================] - 1s 48us/step - loss: 0.1008\n",
      "Epoch 20/100\n",
      "19635/19635 [==============================] - 1s 48us/step - loss: 0.1006\n",
      "Epoch 21/100\n",
      "19635/19635 [==============================] - 1s 48us/step - loss: 0.1005\n",
      "Epoch 22/100\n",
      "19635/19635 [==============================] - 1s 48us/step - loss: 0.1003\n",
      "Epoch 23/100\n",
      "19635/19635 [==============================] - 1s 48us/step - loss: 0.1001\n",
      "Epoch 24/100\n",
      "19635/19635 [==============================] - 1s 48us/step - loss: 0.0999\n",
      "Epoch 25/100\n",
      "19635/19635 [==============================] - 1s 48us/step - loss: 0.0997\n",
      "Epoch 26/100\n",
      "19635/19635 [==============================] - 1s 48us/step - loss: 0.0995\n",
      "Epoch 27/100\n",
      "19635/19635 [==============================] - 1s 48us/step - loss: 0.0992\n",
      "Epoch 28/100\n",
      "19635/19635 [==============================] - 1s 48us/step - loss: 0.0990\n",
      "Epoch 29/100\n",
      "19635/19635 [==============================] - 1s 48us/step - loss: 0.0988\n",
      "Epoch 30/100\n",
      "19635/19635 [==============================] - 1s 48us/step - loss: 0.0986\n",
      "Epoch 31/100\n",
      "19635/19635 [==============================] - 1s 47us/step - loss: 0.0984\n",
      "Epoch 32/100\n",
      "19635/19635 [==============================] - 1s 48us/step - loss: 0.0982\n",
      "Epoch 33/100\n",
      "19635/19635 [==============================] - 1s 47us/step - loss: 0.0980\n",
      "Epoch 34/100\n",
      "19635/19635 [==============================] - 1s 47us/step - loss: 0.0978\n",
      "Epoch 35/100\n",
      "19635/19635 [==============================] - 1s 47us/step - loss: 0.0975\n",
      "Epoch 36/100\n",
      "19635/19635 [==============================] - 1s 48us/step - loss: 0.0973\n",
      "Epoch 37/100\n",
      "19635/19635 [==============================] - 1s 48us/step - loss: 0.0971\n",
      "Epoch 38/100\n",
      "19635/19635 [==============================] - 1s 47us/step - loss: 0.0969\n",
      "Epoch 39/100\n",
      "19635/19635 [==============================] - 1s 48us/step - loss: 0.0967\n",
      "Epoch 40/100\n",
      "19635/19635 [==============================] - 1s 47us/step - loss: 0.0965\n",
      "Epoch 41/100\n",
      "19635/19635 [==============================] - 1s 47us/step - loss: 0.0963\n",
      "Epoch 42/100\n",
      "19635/19635 [==============================] - 1s 48us/step - loss: 0.0960\n",
      "Epoch 43/100\n",
      "19635/19635 [==============================] - 1s 47us/step - loss: 0.0958\n",
      "Epoch 44/100\n",
      "19635/19635 [==============================] - 1s 46us/step - loss: 0.0956\n",
      "Epoch 45/100\n",
      "19635/19635 [==============================] - 1s 47us/step - loss: 0.0954\n",
      "Epoch 46/100\n",
      "19635/19635 [==============================] - 1s 47us/step - loss: 0.0952\n",
      "Epoch 47/100\n",
      "19635/19635 [==============================] - 1s 47us/step - loss: 0.0950\n",
      "Epoch 48/100\n",
      "19635/19635 [==============================] - 1s 46us/step - loss: 0.0948\n",
      "Epoch 49/100\n",
      "19635/19635 [==============================] - 1s 48us/step - loss: 0.0946\n",
      "Epoch 50/100\n",
      "19635/19635 [==============================] - 1s 46us/step - loss: 0.0944\n",
      "Epoch 51/100\n",
      "19635/19635 [==============================] - 1s 47us/step - loss: 0.0942\n",
      "Epoch 52/100\n",
      "19635/19635 [==============================] - 1s 47us/step - loss: 0.0940\n",
      "Epoch 53/100\n",
      "19635/19635 [==============================] - 1s 47us/step - loss: 0.0938\n",
      "Epoch 54/100\n",
      "19635/19635 [==============================] - 1s 48us/step - loss: 0.0936\n",
      "Epoch 55/100\n",
      "19635/19635 [==============================] - 1s 47us/step - loss: 0.0934\n",
      "Epoch 56/100\n",
      "19635/19635 [==============================] - 1s 46us/step - loss: 0.0932\n",
      "Epoch 57/100\n",
      "19635/19635 [==============================] - 1s 47us/step - loss: 0.0930\n",
      "Epoch 58/100\n",
      "19635/19635 [==============================] - 1s 47us/step - loss: 0.0928\n",
      "Epoch 59/100\n",
      "19635/19635 [==============================] - 1s 47us/step - loss: 0.0927\n",
      "Epoch 60/100\n",
      "19635/19635 [==============================] - 1s 47us/step - loss: 0.0925\n",
      "Epoch 61/100\n",
      "19635/19635 [==============================] - 1s 46us/step - loss: 0.0923\n",
      "Epoch 62/100\n",
      "19635/19635 [==============================] - 1s 47us/step - loss: 0.0921\n",
      "Epoch 63/100\n",
      "19635/19635 [==============================] - 1s 47us/step - loss: 0.0920\n",
      "Epoch 64/100\n",
      "19635/19635 [==============================] - 1s 47us/step - loss: 0.0918\n",
      "Epoch 65/100\n",
      "19635/19635 [==============================] - 1s 47us/step - loss: 0.0916\n",
      "Epoch 66/100\n",
      "19635/19635 [==============================] - 1s 47us/step - loss: 0.0915\n",
      "Epoch 67/100\n",
      "19635/19635 [==============================] - 1s 47us/step - loss: 0.0913\n",
      "Epoch 68/100\n",
      "19635/19635 [==============================] - 1s 46us/step - loss: 0.0912\n",
      "Epoch 69/100\n",
      "19635/19635 [==============================] - 1s 48us/step - loss: 0.0910\n",
      "Epoch 70/100\n",
      "19635/19635 [==============================] - 1s 47us/step - loss: 0.0909\n",
      "Epoch 71/100\n",
      "19635/19635 [==============================] - 1s 46us/step - loss: 0.0907\n",
      "Epoch 72/100\n",
      "19635/19635 [==============================] - 1s 46us/step - loss: 0.0906\n",
      "Epoch 73/100\n",
      "19635/19635 [==============================] - 1s 46us/step - loss: 0.0905\n",
      "Epoch 74/100\n",
      "19635/19635 [==============================] - 1s 47us/step - loss: 0.0904\n",
      "Epoch 75/100\n",
      "19635/19635 [==============================] - 1s 47us/step - loss: 0.0902\n",
      "Epoch 76/100\n",
      "19635/19635 [==============================] - 1s 46us/step - loss: 0.0901\n",
      "Epoch 77/100\n",
      "19635/19635 [==============================] - 1s 46us/step - loss: 0.0900\n",
      "Epoch 78/100\n",
      "19635/19635 [==============================] - 1s 46us/step - loss: 0.0899\n",
      "Epoch 79/100\n",
      "19635/19635 [==============================] - 1s 46us/step - loss: 0.0898\n",
      "Epoch 80/100\n",
      "19635/19635 [==============================] - 1s 46us/step - loss: 0.0897\n",
      "Epoch 81/100\n",
      "19635/19635 [==============================] - 1s 47us/step - loss: 0.0896\n",
      "Epoch 82/100\n",
      "19635/19635 [==============================] - 1s 47us/step - loss: 0.0895\n",
      "Epoch 83/100\n",
      "19635/19635 [==============================] - 1s 46us/step - loss: 0.0894\n",
      "Epoch 84/100\n",
      "19635/19635 [==============================] - 1s 46us/step - loss: 0.0893\n",
      "Epoch 85/100\n",
      "19635/19635 [==============================] - 1s 46us/step - loss: 0.0892\n",
      "Epoch 86/100\n",
      "19635/19635 [==============================] - 1s 45us/step - loss: 0.0891\n",
      "Epoch 87/100\n",
      "19635/19635 [==============================] - 1s 46us/step - loss: 0.0890\n",
      "Epoch 88/100\n",
      "19635/19635 [==============================] - 1s 46us/step - loss: 0.0889\n",
      "Epoch 89/100\n",
      "19635/19635 [==============================] - 1s 45us/step - loss: 0.0888\n",
      "Epoch 90/100\n",
      "19635/19635 [==============================] - 1s 45us/step - loss: 0.0887\n",
      "Epoch 91/100\n",
      "19635/19635 [==============================] - 1s 46us/step - loss: 0.0887\n",
      "Epoch 92/100\n",
      "19635/19635 [==============================] - 1s 45us/step - loss: 0.0886\n",
      "Epoch 93/100\n",
      "19635/19635 [==============================] - 1s 46us/step - loss: 0.0885\n",
      "Epoch 94/100\n"
     ]
    },
    {
     "name": "stdout",
     "output_type": "stream",
     "text": [
      "19635/19635 [==============================] - 1s 55us/step - loss: 0.0884\n",
      "Epoch 95/100\n",
      "19635/19635 [==============================] - 1s 56us/step - loss: 0.0884\n",
      "Epoch 96/100\n",
      "19635/19635 [==============================] - 1s 55us/step - loss: 0.0883\n",
      "Epoch 97/100\n",
      "19635/19635 [==============================] - 1s 55us/step - loss: 0.0883\n",
      "Epoch 98/100\n",
      "19635/19635 [==============================] - 1s 55us/step - loss: 0.0882\n",
      "Epoch 99/100\n",
      "19635/19635 [==============================] - 1s 55us/step - loss: 0.0881\n",
      "Epoch 100/100\n",
      "19635/19635 [==============================] - 1s 55us/step - loss: 0.0881\n"
     ]
    }
   ],
   "source": [
    "hist = autoencoder.fit(embedding_matrix.reshape((19635, 1, 200)), embedding_matrix.reshape((19635, 1, 200)), epochs=100)"
   ]
  },
  {
   "cell_type": "markdown",
   "metadata": {},
   "source": [
    "## Combine models"
   ]
  },
  {
   "cell_type": "code",
   "execution_count": 22,
   "metadata": {
    "collapsed": true
   },
   "outputs": [],
   "source": [
    "encoding_dim = 50\n",
    "\n",
    "input_word = Input(shape=(1,))\n",
    "\n",
    "embedding_layer = Embedding(len(word_index) + 1,\n",
    "                            EMBEDDING_DIM,\n",
    "                            weights=[embedding_matrix],\n",
    "                            input_length=MAX_SEQUENCE_LENGTH,\n",
    "                            trainable=False)(input_word)\n",
    "\n",
    "encoded = Dense(encoding_dim, activation='relu', weights=autoencoder.layers[1].get_weights())(embedding_layer)\n",
    "decoded = Dense(200, activation='sigmoid', weights=autoencoder.layers[2].get_weights())(encoded)\n",
    "final = Model(input_word, decoded)\n",
    "final.compile(optimizer='adadelta', loss='mse')"
   ]
  },
  {
   "cell_type": "code",
   "execution_count": 23,
   "metadata": {},
   "outputs": [
    {
     "name": "stdout",
     "output_type": "stream",
     "text": [
      "_________________________________________________________________\n",
      "Layer (type)                 Output Shape              Param #   \n",
      "=================================================================\n",
      "input_3 (InputLayer)         (None, 1)                 0         \n",
      "_________________________________________________________________\n",
      "embedding_2 (Embedding)      (None, 1, 200)            3927000   \n",
      "_________________________________________________________________\n",
      "dense_3 (Dense)              (None, 1, 50)             10050     \n",
      "_________________________________________________________________\n",
      "dense_4 (Dense)              (None, 1, 200)            10200     \n",
      "=================================================================\n",
      "Total params: 3,947,250\n",
      "Trainable params: 20,250\n",
      "Non-trainable params: 3,927,000\n",
      "_________________________________________________________________\n"
     ]
    }
   ],
   "source": [
    "final.summary()"
   ]
  },
  {
   "cell_type": "code",
   "execution_count": 24,
   "metadata": {},
   "outputs": [
    {
     "data": {
      "text/plain": [
       "array([[[ True,  True,  True,  True,  True,  True,  True,  True,  True,\n",
       "          True,  True,  True,  True,  True,  True,  True,  True,  True,\n",
       "          True,  True,  True,  True,  True,  True,  True,  True,  True,\n",
       "          True,  True,  True,  True,  True,  True,  True,  True,  True,\n",
       "          True,  True,  True,  True,  True,  True,  True,  True,  True,\n",
       "          True,  True,  True,  True,  True,  True,  True,  True,  True,\n",
       "          True,  True,  True,  True,  True,  True,  True,  True,  True,\n",
       "          True,  True,  True,  True,  True,  True,  True,  True,  True,\n",
       "          True,  True,  True,  True,  True,  True,  True,  True,  True,\n",
       "          True,  True,  True,  True,  True,  True,  True,  True,  True,\n",
       "          True,  True,  True,  True,  True,  True,  True,  True,  True,\n",
       "          True,  True,  True,  True,  True,  True,  True,  True,  True,\n",
       "          True,  True,  True,  True,  True,  True,  True,  True,  True,\n",
       "          True,  True,  True,  True,  True,  True,  True,  True,  True,\n",
       "          True,  True,  True,  True,  True,  True,  True,  True,  True,\n",
       "          True,  True,  True,  True,  True,  True,  True,  True,  True,\n",
       "          True,  True,  True,  True,  True,  True,  True,  True,  True,\n",
       "          True,  True,  True,  True,  True,  True,  True,  True,  True,\n",
       "          True,  True,  True,  True,  True,  True,  True,  True,  True,\n",
       "          True,  True,  True,  True,  True,  True,  True,  True,  True,\n",
       "          True,  True,  True,  True,  True,  True,  True,  True,  True,\n",
       "          True,  True,  True,  True,  True,  True,  True,  True,  True,\n",
       "          True,  True]]], dtype=bool)"
      ]
     },
     "execution_count": 24,
     "metadata": {},
     "output_type": "execute_result"
    }
   ],
   "source": [
    "emb = embedding_model.predict(np.array(word_index[\"lol\"]).reshape((1,1)))\n",
    "final.predict(np.array([word_index[\"lol\"]])) == autoencoder.predict(emb)"
   ]
  },
  {
   "cell_type": "markdown",
   "metadata": {},
   "source": [
    "## GRU"
   ]
  },
  {
   "cell_type": "code",
   "execution_count": 25,
   "metadata": {},
   "outputs": [
    {
     "name": "stdout",
     "output_type": "stream",
     "text": [
      "The longest sequence is 50\n"
     ]
    },
    {
     "name": "stderr",
     "output_type": "stream",
     "text": [
      "/usr/lib/python3.6/site-packages/ipykernel_launcher.py:4: UserWarning: Update your `Model` call to the Keras 2 API: `Model(inputs=Tensor(\"in..., outputs=Tensor(\"de...)`\n",
      "  after removing the cwd from sys.path.\n"
     ]
    }
   ],
   "source": [
    "#Retrieving the longest sequence size\n",
    "#seq_dim = max([len(l.rsplit()) for l in train])\n",
    "#seq_dim = max(seq_dim, max([len(l.rsplit()) for l in test]))\n",
    "seq_dim = 50\n",
    "print('The longest sequence is', seq_dim)\n",
    "\n",
    "#Returns a list of np arrays with encoded values of each word\n",
    "def get_encoded_list(tweet):\n",
    "    ans = np.zeros((seq_dim, 1))\n",
    "    for i, w in enumerate(tweet.rsplit()):\n",
    "        emb = word_index[w]\n",
    "        ans[i, 0] = emb\n",
    "    return ans\n",
    "\n",
    "#Preparing the data for the GRU\n",
    "train_gru = np.empty((len(train), seq_dim, 1))\n",
    "test_gru = np.empty((len(test), seq_dim, 1))\n",
    "\n",
    "for i, tweet in enumerate(train):\n",
    "    train_gru[i, :, :] = get_encoded_list(tweet)\n",
    "    \n",
    "for i, tweet in enumerate(test):\n",
    "    test_gru[i, :, :] = get_encoded_list(tweet)"
   ]
  },
  {
   "cell_type": "code",
   "execution_count": 26,
   "metadata": {},
   "outputs": [
    {
     "data": {
      "text/plain": [
       "(7102, 50, 1)"
      ]
     },
     "execution_count": 26,
     "metadata": {},
     "output_type": "execute_result"
    }
   ],
   "source": [
    "train_gru.shape"
   ]
  },
  {
   "cell_type": "code",
   "execution_count": 27,
   "metadata": {},
   "outputs": [
    {
     "data": {
      "text/plain": [
       "(800, 50, 1)"
      ]
     },
     "execution_count": 27,
     "metadata": {},
     "output_type": "execute_result"
    }
   ],
   "source": [
    "test_gru.shape"
   ]
  },
  {
   "cell_type": "code",
   "execution_count": 28,
   "metadata": {
    "collapsed": true
   },
   "outputs": [],
   "source": [
    "from keras.layers import Embedding, Dropout, GRU, LSTM, concatenate, RepeatVector\n",
    "\n",
    "encoding_dim = 50\n",
    "input_size = 50\n",
    "\n",
    "input_seq = Input(shape=(50,1))\n",
    "input_type = Input(shape=(4,))\n",
    "\n",
    "embedding_layer = Embedding(len(word_index) + 1,\n",
    "                            EMBEDDING_DIM,\n",
    "                            weights=[embedding_matrix],\n",
    "                            input_length=input_size,\n",
    "                            trainable=False)(input_seq)\n",
    "\n",
    "encoded = Dense(encoding_dim, activation='relu', weights=autoencoder.layers[1].get_weights(), trainable=False)(embedding_layer)\n",
    "\n",
    "repeat = RepeatVector(50)(input_type)\n",
    "concat = concatenate([encoded, repeat])\n",
    "\n",
    "rec = LSTM(128, input_shape=(None, 50), dropout=0., recurrent_dropout=0., go_backwards=True)(concat)\n",
    "\n",
    "out = Dense(4, activation=\"softmax\")(rec)\n",
    "\n",
    "final = Model([input_seq, input_type], out)\n",
    "final.compile(optimizer='adadelta', loss='categorical_crossentropy', metrics=[\"accuracy\"])"
   ]
  },
  {
   "cell_type": "code",
   "execution_count": 29,
   "metadata": {},
   "outputs": [
    {
     "name": "stdout",
     "output_type": "stream",
     "text": [
      "__________________________________________________________________________________________________\n",
      "Layer (type)                    Output Shape         Param #     Connected to                     \n",
      "==================================================================================================\n",
      "input_4 (InputLayer)            (None, 50, 1)        0                                            \n",
      "__________________________________________________________________________________________________\n",
      "embedding_3 (Embedding)         (None, 50, 200)      3927000     input_4[0][0]                    \n",
      "__________________________________________________________________________________________________\n",
      "input_5 (InputLayer)            (None, 4)            0                                            \n",
      "__________________________________________________________________________________________________\n",
      "dense_5 (Dense)                 (None, 50, 50)       10050       embedding_3[0][0]                \n",
      "__________________________________________________________________________________________________\n",
      "repeat_vector_1 (RepeatVector)  (None, 50, 4)        0           input_5[0][0]                    \n",
      "__________________________________________________________________________________________________\n",
      "concatenate_1 (Concatenate)     (None, 50, 54)       0           dense_5[0][0]                    \n",
      "                                                                 repeat_vector_1[0][0]            \n",
      "__________________________________________________________________________________________________\n",
      "lstm_1 (LSTM)                   (None, 128)          93696       concatenate_1[0][0]              \n",
      "__________________________________________________________________________________________________\n",
      "dense_6 (Dense)                 (None, 4)            516         lstm_1[0][0]                     \n",
      "==================================================================================================\n",
      "Total params: 4,031,262\n",
      "Trainable params: 94,212\n",
      "Non-trainable params: 3,937,050\n",
      "__________________________________________________________________________________________________\n"
     ]
    }
   ],
   "source": [
    "final.summary()"
   ]
  },
  {
   "cell_type": "code",
   "execution_count": 30,
   "metadata": {
    "collapsed": true
   },
   "outputs": [],
   "source": [
    "emot_dic = {\"anger\":0, \"joy\":1, \"sadness\":2, \"fear\":3}\n",
    "\n",
    "train_type_int = np.array([emot_dic[x] for x in train_type])\n",
    "train_type_oh = np.zeros((train_type_int.shape[0], 4))\n",
    "for i in range(train_type_int.shape[0]):\n",
    "    train_type_oh[i, train_type_int[i]] = 1\n",
    "    \n",
    "test_type_int = np.array([emot_dic[x] for x in test_type])\n",
    "test_type_oh = np.zeros((test_type_int.shape[0], 4))\n",
    "for i in range(test_type_int.shape[0]):\n",
    "    test_type_oh[i, test_type_int[i]] = 1"
   ]
  },
  {
   "cell_type": "code",
   "execution_count": 31,
   "metadata": {
    "collapsed": true
   },
   "outputs": [],
   "source": [
    "train_labels_oh = np.zeros((train_labels.shape[0], 4))\n",
    "for i in range(train_labels.shape[0]):\n",
    "    train_labels_oh[i, train_labels[i]] = 1\n",
    "    \n",
    "test_labels_oh = np.zeros((test_labels.shape[0], 4))\n",
    "for i in range(test_labels.shape[0]):\n",
    "    test_labels_oh[i, test_labels[i]] = 1"
   ]
  },
  {
   "cell_type": "code",
   "execution_count": 32,
   "metadata": {},
   "outputs": [],
   "source": [
    "from keras.callbacks import TensorBoard, ModelCheckpoint"
   ]
  },
  {
   "cell_type": "code",
   "execution_count": 33,
   "metadata": {},
   "outputs": [
    {
     "name": "stdout",
     "output_type": "stream",
     "text": [
      "Train on 7102 samples, validate on 800 samples\n",
      "Epoch 1/30\n",
      "7102/7102 [==============================] - 21s 3ms/step - loss: 1.2857 - acc: 0.4259 - val_loss: 1.3212 - val_acc: 0.4175\n",
      "Epoch 2/30\n",
      "7102/7102 [==============================] - 21s 3ms/step - loss: 1.2405 - acc: 0.4475 - val_loss: 1.3084 - val_acc: 0.3750\n",
      "Epoch 3/30\n",
      "7102/7102 [==============================] - 22s 3ms/step - loss: 1.2244 - acc: 0.4490 - val_loss: 1.2937 - val_acc: 0.3913\n",
      "Epoch 4/30\n",
      "7102/7102 [==============================] - 21s 3ms/step - loss: 1.2111 - acc: 0.4644 - val_loss: 1.3553 - val_acc: 0.3675\n",
      "Epoch 5/30\n",
      "7102/7102 [==============================] - 21s 3ms/step - loss: 1.1963 - acc: 0.4732 - val_loss: 1.2999 - val_acc: 0.4138\n",
      "Epoch 6/30\n",
      "7102/7102 [==============================] - 21s 3ms/step - loss: 1.1793 - acc: 0.4858 - val_loss: 1.2973 - val_acc: 0.3962\n",
      "Epoch 7/30\n",
      "7102/7102 [==============================] - 21s 3ms/step - loss: 1.1626 - acc: 0.4887 - val_loss: 1.3293 - val_acc: 0.3700\n",
      "Epoch 8/30\n",
      "7102/7102 [==============================] - 21s 3ms/step - loss: 1.1575 - acc: 0.4948 - val_loss: 1.2460 - val_acc: 0.4113\n",
      "Epoch 9/30\n",
      "7102/7102 [==============================] - 23s 3ms/step - loss: 1.1395 - acc: 0.5108 - val_loss: 1.3183 - val_acc: 0.3837\n",
      "Epoch 10/30\n",
      "7102/7102 [==============================] - 23s 3ms/step - loss: 1.1281 - acc: 0.5130 - val_loss: 1.2826 - val_acc: 0.4300\n",
      "Epoch 11/30\n",
      "7102/7102 [==============================] - 22s 3ms/step - loss: 1.1160 - acc: 0.5124 - val_loss: 1.5616 - val_acc: 0.3025\n",
      "Epoch 12/30\n",
      "7102/7102 [==============================] - 23s 3ms/step - loss: 1.1024 - acc: 0.5249 - val_loss: 1.3873 - val_acc: 0.3550\n",
      "Epoch 13/30\n",
      "7102/7102 [==============================] - 22s 3ms/step - loss: 1.0954 - acc: 0.5265 - val_loss: 1.2632 - val_acc: 0.4188\n",
      "Epoch 14/30\n",
      "7102/7102 [==============================] - 21s 3ms/step - loss: 1.0836 - acc: 0.5342 - val_loss: 1.2515 - val_acc: 0.4212\n",
      "Epoch 15/30\n",
      "7102/7102 [==============================] - 20s 3ms/step - loss: 1.0739 - acc: 0.5318 - val_loss: 1.2608 - val_acc: 0.4050\n",
      "Epoch 16/30\n",
      "7102/7102 [==============================] - 22s 3ms/step - loss: 1.0606 - acc: 0.5460 - val_loss: 1.2749 - val_acc: 0.4225\n",
      "Epoch 17/30\n",
      "7102/7102 [==============================] - 21s 3ms/step - loss: 1.0572 - acc: 0.5460 - val_loss: 1.2643 - val_acc: 0.4113\n",
      "Epoch 18/30\n",
      "7102/7102 [==============================] - 22s 3ms/step - loss: 1.0467 - acc: 0.5535 - val_loss: 1.2628 - val_acc: 0.4375\n",
      "Epoch 19/30\n",
      "7102/7102 [==============================] - 21s 3ms/step - loss: 1.0433 - acc: 0.5532 - val_loss: 1.3085 - val_acc: 0.3837\n",
      "Epoch 20/30\n",
      "7102/7102 [==============================] - 21s 3ms/step - loss: 1.0226 - acc: 0.5635 - val_loss: 1.3509 - val_acc: 0.3887\n",
      "Epoch 21/30\n",
      "7102/7102 [==============================] - 20s 3ms/step - loss: 1.0192 - acc: 0.5646 - val_loss: 1.2711 - val_acc: 0.3975\n",
      "Epoch 22/30\n",
      "7102/7102 [==============================] - 22s 3ms/step - loss: 1.0060 - acc: 0.5731 - val_loss: 1.2845 - val_acc: 0.4325\n",
      "Epoch 23/30\n",
      "7102/7102 [==============================] - 22s 3ms/step - loss: 0.9930 - acc: 0.5789 - val_loss: 1.3341 - val_acc: 0.3725\n",
      "Epoch 24/30\n",
      "7102/7102 [==============================] - 21s 3ms/step - loss: 0.9865 - acc: 0.5765 - val_loss: 1.2997 - val_acc: 0.4050\n",
      "Epoch 25/30\n",
      "7102/7102 [==============================] - 23s 3ms/step - loss: 0.9784 - acc: 0.5904 - val_loss: 1.3972 - val_acc: 0.4012\n",
      "Epoch 26/30\n",
      "7102/7102 [==============================] - 21s 3ms/step - loss: 0.9719 - acc: 0.5905 - val_loss: 1.2956 - val_acc: 0.4625\n",
      "Epoch 27/30\n",
      "7102/7102 [==============================] - 21s 3ms/step - loss: 0.9544 - acc: 0.5965 - val_loss: 1.3112 - val_acc: 0.4138\n",
      "Epoch 28/30\n",
      "7102/7102 [==============================] - 21s 3ms/step - loss: 0.9471 - acc: 0.5966 - val_loss: 1.3210 - val_acc: 0.4250\n",
      "Epoch 29/30\n",
      "7102/7102 [==============================] - 22s 3ms/step - loss: 0.9314 - acc: 0.6114 - val_loss: 1.2936 - val_acc: 0.4412\n",
      "Epoch 30/30\n",
      "7102/7102 [==============================] - 22s 3ms/step - loss: 0.9216 - acc: 0.6026 - val_loss: 1.3482 - val_acc: 0.4225\n"
     ]
    },
    {
     "data": {
      "text/plain": [
       "<keras.callbacks.History at 0x7f0b3074c780>"
      ]
     },
     "execution_count": 33,
     "metadata": {},
     "output_type": "execute_result"
    }
   ],
   "source": [
    "final.fit([train_gru, train_type_oh], train_labels_oh,\n",
    "                epochs=30,\n",
    "                batch_size=8,\n",
    "                shuffle=True,\n",
    "                validation_data=([test_gru, test_type_oh], test_labels_oh),\n",
    "                callbacks=[TensorBoard(log_dir='/tmp/encoder', histogram_freq=1, write_graph=False),\n",
    "                            ModelCheckpoint('/tmp/chackpoint.h5', monitor='val_acc', verbose=0, save_best_only=True, save_weights_only=False, mode='auto', period=1)])"
   ]
  },
  {
   "cell_type": "code",
   "execution_count": 34,
   "metadata": {},
   "outputs": [
    {
     "data": {
      "text/plain": [
       "19635"
      ]
     },
     "execution_count": 34,
     "metadata": {},
     "output_type": "execute_result"
    }
   ],
   "source": [
    "len(word_index) + 1"
   ]
  },
  {
   "cell_type": "code",
   "execution_count": 35,
   "metadata": {
    "collapsed": true
   },
   "outputs": [],
   "source": [
    "import pickle\n",
    "\n",
    "pickle.dump( word_index, open( \"world_index.p\", \"wb\" ) )"
   ]
  },
  {
   "cell_type": "code",
   "execution_count": null,
   "metadata": {
    "collapsed": true
   },
   "outputs": [],
   "source": []
  }
 ],
 "metadata": {
  "kernelspec": {
   "display_name": "Python 3",
   "language": "python",
   "name": "python3"
  },
  "language_info": {
   "codemirror_mode": {
    "name": "ipython",
    "version": 3
   },
   "file_extension": ".py",
   "mimetype": "text/x-python",
   "name": "python",
   "nbconvert_exporter": "python",
   "pygments_lexer": "ipython3",
   "version": "3.6.4"
  }
 },
 "nbformat": 4,
 "nbformat_minor": 2
}
