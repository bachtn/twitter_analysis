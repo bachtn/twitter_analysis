{
 "cells": [
  {
   "cell_type": "code",
   "execution_count": 1,
   "metadata": {
    "collapsed": true
   },
   "outputs": [],
   "source": [
    "%matplotlib inline\n",
    "import matplotlib.pyplot as plt\n",
    "import numpy as np\n",
    "import pandas as pd\n",
    "import json\n",
    "import os\n",
    "import re"
   ]
  },
  {
   "cell_type": "code",
   "execution_count": 2,
   "metadata": {
    "collapsed": true
   },
   "outputs": [],
   "source": [
    "import nltk\n",
    "from nltk.tokenize import TweetTokenizer\n",
    "from nltk import word_tokenize, pos_tag\n",
    "from nltk.stem import WordNetLemmatizer\n",
    "from nltk.corpus import stopwords\n",
    "import gensim.models as gsm"
   ]
  },
  {
   "cell_type": "markdown",
   "metadata": {},
   "source": [
    "## Preprocessing"
   ]
  },
  {
   "cell_type": "code",
   "execution_count": 3,
   "metadata": {
    "collapsed": true
   },
   "outputs": [],
   "source": [
    "# Data\n",
    "data_train_path = './../data/train/train.csv'\n",
    "data_test_path = './../data/test/test.csv'"
   ]
  },
  {
   "cell_type": "code",
   "execution_count": 4,
   "metadata": {
    "collapsed": true
   },
   "outputs": [],
   "source": [
    "import sys\n",
    "import regex as re\n",
    "\n",
    "FLAGS = re.MULTILINE | re.DOTALL\n",
    "\n",
    "def hashtag(text):\n",
    "    text = text.group()\n",
    "    hashtag_body = text[1:]\n",
    "    if hashtag_body.isupper():\n",
    "        result = \"<hashtag> {} <allcaps>\".format(hashtag_body)\n",
    "    else:\n",
    "        result = \" \".join([\"<hashtag>\"] + re.split(r\"(?=[A-Z])\", hashtag_body, flags=FLAGS))\n",
    "    return result\n",
    "\n",
    "def allcaps(text):\n",
    "    text = text.group()\n",
    "    return text.lower() + \" <allcaps>\"\n",
    "\n",
    "\n",
    "def tokenize(text):\n",
    "    eyes = r\"[8:=;]\"\n",
    "    nose = r\"['`\\-]?\"\n",
    "\n",
    "    def re_sub(pattern, repl):\n",
    "        return re.sub(pattern, repl, text, flags=FLAGS)\n",
    "\n",
    "    text = re_sub(r\"https?:\\/\\/\\S+\\b|www\\.(\\w+\\.)+\\S*\", \"<url>\")\n",
    "    text = re_sub(r\"/\",\" / \")\n",
    "    text = re_sub(r\"@\\w+\", \"<user>\")\n",
    "    text = re_sub(r\"{}{}[)dD]+|[)dD]+{}{}\".format(eyes, nose, nose, eyes), \"<smile>\")\n",
    "    text = re_sub(r\"{}{}p+\".format(eyes, nose), \"<lolface>\")\n",
    "    text = re_sub(r\"{}{}\\(+|\\)+{}{}\".format(eyes, nose, nose, eyes), \"<sadface>\")\n",
    "    text = re_sub(r\"{}{}[\\/|l*]\".format(eyes, nose), \"<neutralface>\")\n",
    "    text = re_sub(r\"<3\",\"<heart>\")\n",
    "    text = re_sub(r\"[-+]?[.\\d]*[\\d]+[:,.\\d]*\", \"<number>\")\n",
    "    text = re_sub(r\"#\\S+\", hashtag)\n",
    "    text = re_sub(r\"([!?.]){2,}\", r\"\\1 <repeat>\")\n",
    "    text = re_sub(r\"\\b(\\S*?)(.)\\2{2,}\\b\", r\"\\1\\2 <elong>\")\n",
    "\n",
    "    text = re_sub(r\"([A-Z]){2,}\", allcaps)\n",
    "\n",
    "    return text.lower()"
   ]
  },
  {
   "cell_type": "code",
   "execution_count": 5,
   "metadata": {
    "collapsed": true
   },
   "outputs": [],
   "source": [
    "def prepare_cvs_data(file_path):\n",
    "    df = pd.read_csv(file_path, sep='\\t', header=None, encoding='utf-8', quoting=3)\n",
    "    df.columns = ['id','text','polarity','class'] # Set up column names\n",
    "    return df"
   ]
  },
  {
   "cell_type": "code",
   "execution_count": 6,
   "metadata": {
    "collapsed": true
   },
   "outputs": [],
   "source": [
    "train = np.array(prepare_cvs_data(data_train_path)['text'])\n",
    "train_type = np.array(prepare_cvs_data(data_train_path)['polarity'])\n",
    "train_labels_tmp = prepare_cvs_data(data_train_path)['class']\n",
    "train_labels = np.array([int(x[0]) for x in train_labels_tmp])\n",
    "\n",
    "test = np.array(prepare_cvs_data(data_test_path)['text'])\n",
    "test_type = np.array(prepare_cvs_data(data_test_path)['polarity'])\n",
    "test_labels_tmp = prepare_cvs_data(data_test_path)['class']\n",
    "test_labels = np.array([int(x[0]) for x in test_labels_tmp])"
   ]
  },
  {
   "cell_type": "code",
   "execution_count": 7,
   "metadata": {
    "collapsed": true
   },
   "outputs": [],
   "source": [
    "for i in range(train.shape[0]):\n",
    "    train[i] = tokenize(train[i])"
   ]
  },
  {
   "cell_type": "code",
   "execution_count": 8,
   "metadata": {},
   "outputs": [
    {
     "name": "stdout",
     "output_type": "stream",
     "text": [
      "how the fu*k! who the heck! moved my fridge. <repeat> should i knock the landlord door. <hashtag> angry <hashtag> mad <hashtag> # 3 anger\n",
      "so my indian uber driver just called someone the n word. if i wasn't in a moving vehicle i'd have jumped out <hashtag> disgusted  3\n",
      "<user> i asked for my parcel to be delivered to a pick up store not my address <hashtag> fuming <hashtag> poorcustomerservice 3\n",
      "so ef whichever butt wipe pulled the fire alarm in davis bc i was sound asleep <hashtag> pissed <hashtag> angry <hashtag> upset <hashtag> tired <hashtag> sad <hashtag> tired <hashtag> hangry <hashtag> ##### 3\n"
     ]
    }
   ],
   "source": [
    "print(train[0], train_labels[0], train_type[0])\n",
    "print(train[1], train_labels[1])\n",
    "print(train[2], train_labels[2])\n",
    "print(train[3], train_labels[3])"
   ]
  },
  {
   "cell_type": "markdown",
   "metadata": {},
   "source": [
    "## Loading glove"
   ]
  },
  {
   "cell_type": "code",
   "execution_count": 9,
   "metadata": {},
   "outputs": [
    {
     "name": "stdout",
     "output_type": "stream",
     "text": [
      "Found 1193514 word vectors.\n"
     ]
    }
   ],
   "source": [
    "GLOVE_DIR = \"../tools/\"\n",
    "\n",
    "embeddings_index = {}\n",
    "f = open(os.path.join(GLOVE_DIR, 'glove.twitter.27B.200d.txt'))\n",
    "for line in f:\n",
    "    values = line.split()\n",
    "    word = values[0]\n",
    "    coefs = np.asarray(values[1:], dtype='float32')\n",
    "    embeddings_index[word] = coefs\n",
    "f.close()\n",
    "\n",
    "print('Found %s word vectors.' % len(embeddings_index))"
   ]
  },
  {
   "cell_type": "code",
   "execution_count": 10,
   "metadata": {
    "collapsed": true
   },
   "outputs": [],
   "source": [
    "word_index = {}\n",
    "idx = 0\n",
    "for i in range(train.shape[0]):\n",
    "    txt = train[i].split()\n",
    "    for j in range(len(txt)):\n",
    "        if word_index.get(txt[j]) == None:\n",
    "            word_index[txt[j]] = idx\n",
    "            idx += 1\n",
    "\n",
    "for i in range(test.shape[0]):\n",
    "    txt = test[i].split()\n",
    "    for j in range(len(txt)):\n",
    "        if word_index.get(txt[j]) == None:\n",
    "            word_index[txt[j]] = idx\n",
    "            idx += 1"
   ]
  },
  {
   "cell_type": "code",
   "execution_count": 11,
   "metadata": {
    "collapsed": true
   },
   "outputs": [],
   "source": [
    "EMBEDDING_DIM = 200\n",
    "\n",
    "embedding_matrix = np.zeros((len(word_index) + 1, EMBEDDING_DIM))\n",
    "for word, i in word_index.items():\n",
    "    embedding_vector = embeddings_index.get(word)\n",
    "    if embedding_vector is not None:\n",
    "        embedding_matrix[i] = embedding_vector"
   ]
  },
  {
   "cell_type": "code",
   "execution_count": 12,
   "metadata": {},
   "outputs": [
    {
     "name": "stderr",
     "output_type": "stream",
     "text": [
      "Using TensorFlow backend.\n",
      "/usr/lib/python3.6/importlib/_bootstrap.py:219: RuntimeWarning: compiletime version 3.5 of module 'tensorflow.python.framework.fast_tensor_util' does not match runtime version 3.6\n",
      "  return f(*args, **kwds)\n"
     ]
    }
   ],
   "source": [
    "MAX_SEQUENCE_LENGTH = 1\n",
    "\n",
    "from keras.layers import Embedding\n",
    "from keras.layers import Input\n",
    "from keras.models import Model\n",
    "\n",
    "input_word = Input(shape=(1,))\n",
    "\n",
    "embedding_layer = Embedding(len(word_index) + 1,\n",
    "                            EMBEDDING_DIM,\n",
    "                            weights=[embedding_matrix],\n",
    "                            input_length=MAX_SEQUENCE_LENGTH,\n",
    "                            trainable=False)(input_word)\n",
    "\n",
    "embedding_model = Model(input_word, embedding_layer)"
   ]
  },
  {
   "cell_type": "code",
   "execution_count": 13,
   "metadata": {},
   "outputs": [
    {
     "data": {
      "text/plain": [
       "array([[[  3.04300010e-01,  -4.71270010e-02,   6.74459990e-03,\n",
       "          -7.02779964e-02,  -3.83569986e-01,   1.77660003e-01,\n",
       "          -1.05959997e-01,   1.69620007e-01,  -3.48769993e-01,\n",
       "           1.12949997e-01,  -2.37619996e-01,   6.17799982e-02,\n",
       "           1.41269997e-01,   7.85040036e-02,   8.85540023e-02,\n",
       "           4.05110002e-01,   3.15290004e-01,   9.86569971e-02,\n",
       "          -1.97559997e-01,  -2.32480004e-01,   2.58150011e-01,\n",
       "          -1.14050001e-01,   3.36490005e-01,  -1.26430005e-01,\n",
       "          -2.10720003e-01,   1.36820003e-01,  -7.43329972e-02,\n",
       "          -2.09999993e-01,  -2.60419995e-01,  -7.05009997e-01,\n",
       "           1.07000001e-01,   1.70790002e-01,  -2.54469991e-01,\n",
       "          -1.25090003e-01,  -1.62410006e-01,   5.47500014e-01,\n",
       "          -1.98040009e-02,  -3.68429989e-01,  -1.01889998e-01,\n",
       "          -3.07049990e-01,   5.49939990e-01,   3.93170007e-02,\n",
       "           4.31860000e-01,   1.01510003e-01,  -3.69769990e-01,\n",
       "           2.38629997e-01,   7.47500002e-01,   3.98369998e-01,\n",
       "          -3.80930007e-01,   3.10270011e-01,   3.49849999e-01,\n",
       "          -4.87020016e-02,   2.03649998e-01,   6.00420013e-02,\n",
       "           3.90520006e-01,  -7.84019977e-02,  -1.50519997e-01,\n",
       "          -2.47470006e-01,  -2.26909995e-01,  -1.32990003e-01,\n",
       "           2.47610003e-01,  -1.77209992e-02,  -3.52339994e-04,\n",
       "           2.79500008e-01,   3.60650003e-01,  -6.53590024e-01,\n",
       "          -1.78210005e-01,   1.79810002e-01,  -7.90980011e-02,\n",
       "           1.61899999e-01,   1.75040007e-01,   3.78789991e-01,\n",
       "           8.88710022e-02,  -5.21510005e-01,  -3.25980008e-01,\n",
       "           7.47529984e-01,   1.88500006e-02,   4.53940004e-01,\n",
       "           3.10440004e-01,   1.98569998e-01,  -1.77320004e-01,\n",
       "           2.74239987e-01,  -2.66209990e-01,  -3.56629997e-01,\n",
       "           5.83779991e-01,  -3.00630003e-01,  -1.11840002e-01,\n",
       "          -5.78610003e-01,  -2.66189992e-01,  -5.42299986e-01,\n",
       "           1.36879995e-01,   1.40970007e-01,  -3.52440000e-01,\n",
       "          -1.69119999e-01,  -5.65060019e-01,  -7.69279972e-02,\n",
       "          -3.64399999e-01,   2.88810015e-01,   6.81139976e-02,\n",
       "           3.73659991e-02,  -2.91819990e-01,  -5.90699971e-01,\n",
       "           1.41680002e-01,   2.41310000e-01,  -1.99640006e-01,\n",
       "           1.11630000e-01,   3.86640012e-01,  -1.33900002e-01,\n",
       "           7.00270012e-02,  -1.09820003e-02,  -4.20080006e-01,\n",
       "          -1.37309998e-01,  -1.24779996e-02,  -1.08649999e-01,\n",
       "           1.41829997e-01,   3.13560009e-01,   4.55170013e-02,\n",
       "          -1.76939994e-01,   5.33870012e-02,   1.76810008e-02,\n",
       "          -1.19099997e-01,  -1.92550004e-01,  -2.95819998e-01,\n",
       "          -2.72300005e-01,  -1.45249993e-01,  -3.41960005e-02,\n",
       "           5.27740002e-01,   1.67139992e-02,  -2.49789998e-01,\n",
       "          -2.15930000e-01,   5.09109974e-01,   2.66970009e-01,\n",
       "           1.24009997e-01,   9.11979973e-02,  -1.43050000e-01,\n",
       "           4.08580005e-01,   3.61970007e-01,   2.06699997e-01,\n",
       "           9.77860019e-02,  -1.43629998e-01,   2.06269994e-01,\n",
       "           2.71490008e-01,   1.08000003e-01,   1.34969996e-02,\n",
       "          -3.87219995e-01,   3.21859986e-01,  -3.09170008e-01,\n",
       "           6.93319976e-01,  -8.26670006e-02,   2.66559988e-01,\n",
       "          -2.26799995e-01,   2.10559994e-01,  -5.70419979e+00,\n",
       "           1.45170003e-01,  -6.74500018e-02,  -1.81500003e-01,\n",
       "          -2.71899998e-01,   1.61269993e-01,  -4.45609987e-01,\n",
       "           5.10779977e-01,  -3.08129996e-01,   1.74769998e-01,\n",
       "           7.19449995e-03,   6.36989996e-02,  -6.19949996e-02,\n",
       "           2.80999988e-01,   6.44550025e-02,   1.18179999e-01,\n",
       "          -5.10659993e-01,   2.15350002e-01,  -1.51109993e-01,\n",
       "           2.14819998e-01,  -1.61709994e-01,  -6.94260001e-02,\n",
       "          -5.52030027e-01,  -3.06140006e-01,  -2.27740005e-01,\n",
       "           3.86079997e-01,  -5.29510021e-01,   3.56810004e-01,\n",
       "          -3.55619997e-01,  -3.26329991e-02,  -2.22910009e-03,\n",
       "           6.04490004e-02,   8.93110037e-03,  -3.63350004e-01,\n",
       "           6.60139978e-01,  -2.53989995e-01,  -1.01140000e-01,\n",
       "          -3.53449993e-02,  -6.44540012e-01,   1.74980000e-01,\n",
       "           1.46229997e-01,  -1.23819999e-01,  -2.49459997e-01,\n",
       "          -1.27639994e-01,  -2.67610013e-01,   3.08730006e-01,\n",
       "          -1.12049997e-01,   2.88060009e-01]]], dtype=float32)"
      ]
     },
     "execution_count": 13,
     "metadata": {},
     "output_type": "execute_result"
    }
   ],
   "source": [
    "embedding_model.predict(np.array([word_index[\"lol\"]]))"
   ]
  },
  {
   "cell_type": "markdown",
   "metadata": {},
   "source": [
    "## Autoencoder"
   ]
  },
  {
   "cell_type": "code",
   "execution_count": 14,
   "metadata": {
    "collapsed": true
   },
   "outputs": [],
   "source": [
    "from keras.layers import Input, Dense\n",
    "from keras.models import Model\n",
    "\n",
    "\n",
    "encoding_dim = 50\n",
    "\n",
    "input_word = Input(shape=(1,200,))\n",
    "\n",
    "encoded = Dense(encoding_dim, activation='relu')(input_word)\n",
    "\n",
    "decoded = Dense(200, activation='sigmoid')(encoded)\n",
    "\n",
    "autoencoder = Model(input_word, decoded)\n",
    "autoencoder.compile(optimizer='adadelta', loss='mse')"
   ]
  },
  {
   "cell_type": "code",
   "execution_count": 15,
   "metadata": {},
   "outputs": [
    {
     "name": "stdout",
     "output_type": "stream",
     "text": [
      "Epoch 1/100\n",
      "21215/21215 [==============================] - 2s 71us/step - loss: 0.1676\n",
      "Epoch 2/100\n",
      "21215/21215 [==============================] - 1s 59us/step - loss: 0.0979\n",
      "Epoch 3/100\n",
      "21215/21215 [==============================] - 1s 57us/step - loss: 0.0957\n",
      "Epoch 4/100\n",
      "21215/21215 [==============================] - 1s 51us/step - loss: 0.0950\n",
      "Epoch 5/100\n",
      "21215/21215 [==============================] - 1s 44us/step - loss: 0.0946\n",
      "Epoch 6/100\n",
      "21215/21215 [==============================] - 1s 50us/step - loss: 0.0943\n",
      "Epoch 7/100\n",
      "21215/21215 [==============================] - 1s 55us/step - loss: 0.0941\n",
      "Epoch 8/100\n",
      "21215/21215 [==============================] - 1s 54us/step - loss: 0.0938\n",
      "Epoch 9/100\n",
      "21215/21215 [==============================] - 1s 59us/step - loss: 0.0936\n",
      "Epoch 10/100\n",
      "21215/21215 [==============================] - 1s 44us/step - loss: 0.0934\n",
      "Epoch 11/100\n",
      "21215/21215 [==============================] - 1s 49us/step - loss: 0.0932\n",
      "Epoch 12/100\n",
      "21215/21215 [==============================] - 1s 45us/step - loss: 0.0931\n",
      "Epoch 13/100\n",
      "21215/21215 [==============================] - 1s 46us/step - loss: 0.0929\n",
      "Epoch 14/100\n",
      "21215/21215 [==============================] - 1s 45us/step - loss: 0.0928\n",
      "Epoch 15/100\n",
      "21215/21215 [==============================] - 1s 45us/step - loss: 0.0926\n",
      "Epoch 16/100\n",
      "21215/21215 [==============================] - 1s 50us/step - loss: 0.0925\n",
      "Epoch 17/100\n",
      "21215/21215 [==============================] - 1s 41us/step - loss: 0.0923\n",
      "Epoch 18/100\n",
      "21215/21215 [==============================] - 1s 41us/step - loss: 0.0922\n",
      "Epoch 19/100\n",
      "21215/21215 [==============================] - 1s 41us/step - loss: 0.0920\n",
      "Epoch 20/100\n",
      "21215/21215 [==============================] - 1s 52us/step - loss: 0.0918\n",
      "Epoch 21/100\n",
      "21215/21215 [==============================] - 1s 52us/step - loss: 0.0917\n",
      "Epoch 22/100\n",
      "21215/21215 [==============================] - 1s 47us/step - loss: 0.0915\n",
      "Epoch 23/100\n",
      "21215/21215 [==============================] - 1s 51us/step - loss: 0.0912\n",
      "Epoch 24/100\n",
      "21215/21215 [==============================] - 1s 51us/step - loss: 0.0909\n",
      "Epoch 25/100\n",
      "21215/21215 [==============================] - 1s 47us/step - loss: 0.0907\n",
      "Epoch 26/100\n",
      "21215/21215 [==============================] - 1s 46us/step - loss: 0.0905\n",
      "Epoch 27/100\n",
      "21215/21215 [==============================] - 1s 48us/step - loss: 0.0903\n",
      "Epoch 28/100\n",
      "21215/21215 [==============================] - 1s 55us/step - loss: 0.0901\n",
      "Epoch 29/100\n",
      "21215/21215 [==============================] - 1s 51us/step - loss: 0.0899\n",
      "Epoch 30/100\n",
      "21215/21215 [==============================] - 1s 51us/step - loss: 0.0897\n",
      "Epoch 31/100\n",
      "21215/21215 [==============================] - 1s 58us/step - loss: 0.0895\n",
      "Epoch 32/100\n",
      "21215/21215 [==============================] - 1s 57us/step - loss: 0.0894\n",
      "Epoch 33/100\n",
      "21215/21215 [==============================] - 1s 54us/step - loss: 0.0892\n",
      "Epoch 34/100\n",
      "21215/21215 [==============================] - 1s 51us/step - loss: 0.0890\n",
      "Epoch 35/100\n",
      "21215/21215 [==============================] - 1s 52us/step - loss: 0.0888\n",
      "Epoch 36/100\n",
      "21215/21215 [==============================] - 1s 48us/step - loss: 0.0886\n",
      "Epoch 37/100\n",
      "21215/21215 [==============================] - 1s 50us/step - loss: 0.0884\n",
      "Epoch 38/100\n",
      "21215/21215 [==============================] - 1s 60us/step - loss: 0.0882\n",
      "Epoch 39/100\n",
      "21215/21215 [==============================] - 1s 64us/step - loss: 0.0881\n",
      "Epoch 40/100\n",
      "21215/21215 [==============================] - 1s 54us/step - loss: 0.0879\n",
      "Epoch 41/100\n",
      "21215/21215 [==============================] - 1s 53us/step - loss: 0.0877\n",
      "Epoch 42/100\n",
      "21215/21215 [==============================] - 1s 55us/step - loss: 0.0875\n",
      "Epoch 43/100\n",
      "21215/21215 [==============================] - 1s 59us/step - loss: 0.0873\n",
      "Epoch 44/100\n",
      "21215/21215 [==============================] - 1s 57us/step - loss: 0.0871\n",
      "Epoch 45/100\n",
      "21215/21215 [==============================] - 1s 52us/step - loss: 0.0870\n",
      "Epoch 46/100\n",
      "21215/21215 [==============================] - 1s 50us/step - loss: 0.0868\n",
      "Epoch 47/100\n",
      "21215/21215 [==============================] - 1s 63us/step - loss: 0.0866\n",
      "Epoch 48/100\n",
      "21215/21215 [==============================] - 1s 55us/step - loss: 0.0864\n",
      "Epoch 49/100\n",
      "21215/21215 [==============================] - 1s 54us/step - loss: 0.0863\n",
      "Epoch 50/100\n",
      "21215/21215 [==============================] - 1s 54us/step - loss: 0.0861\n",
      "Epoch 51/100\n",
      "21215/21215 [==============================] - 1s 45us/step - loss: 0.0859\n",
      "Epoch 52/100\n",
      "21215/21215 [==============================] - 1s 47us/step - loss: 0.0857\n",
      "Epoch 53/100\n",
      "21215/21215 [==============================] - 1s 47us/step - loss: 0.0856\n",
      "Epoch 54/100\n",
      "21215/21215 [==============================] - 1s 47us/step - loss: 0.0854\n",
      "Epoch 55/100\n",
      "21215/21215 [==============================] - 1s 50us/step - loss: 0.0852\n",
      "Epoch 56/100\n",
      "21215/21215 [==============================] - 1s 64us/step - loss: 0.0851\n",
      "Epoch 57/100\n",
      "21215/21215 [==============================] - 1s 53us/step - loss: 0.0849\n",
      "Epoch 58/100\n",
      "21215/21215 [==============================] - 1s 57us/step - loss: 0.0848\n",
      "Epoch 59/100\n",
      "21215/21215 [==============================] - 1s 56us/step - loss: 0.0846\n",
      "Epoch 60/100\n",
      "21215/21215 [==============================] - 1s 53us/step - loss: 0.0844\n",
      "Epoch 61/100\n",
      "21215/21215 [==============================] - 1s 51us/step - loss: 0.0843\n",
      "Epoch 62/100\n",
      "21215/21215 [==============================] - 1s 50us/step - loss: 0.0841\n",
      "Epoch 63/100\n",
      "21215/21215 [==============================] - 1s 59us/step - loss: 0.0840\n",
      "Epoch 64/100\n",
      "21215/21215 [==============================] - 1s 59us/step - loss: 0.0839\n",
      "Epoch 65/100\n",
      "21215/21215 [==============================] - 1s 58us/step - loss: 0.0837\n",
      "Epoch 66/100\n",
      "21215/21215 [==============================] - 1s 61us/step - loss: 0.0836\n",
      "Epoch 67/100\n",
      "21215/21215 [==============================] - 1s 55us/step - loss: 0.0834\n",
      "Epoch 68/100\n",
      "21215/21215 [==============================] - 1s 60us/step - loss: 0.0833\n",
      "Epoch 69/100\n",
      "21215/21215 [==============================] - 1s 66us/step - loss: 0.0832\n",
      "Epoch 70/100\n",
      "21215/21215 [==============================] - 1s 67us/step - loss: 0.0831\n",
      "Epoch 71/100\n",
      "21215/21215 [==============================] - 1s 52us/step - loss: 0.0829\n",
      "Epoch 72/100\n",
      "21215/21215 [==============================] - 1s 58us/step - loss: 0.0828\n",
      "Epoch 73/100\n",
      "21215/21215 [==============================] - 1s 60us/step - loss: 0.0827\n",
      "Epoch 74/100\n",
      "21215/21215 [==============================] - 1s 60us/step - loss: 0.0826\n",
      "Epoch 75/100\n",
      "21215/21215 [==============================] - 1s 62us/step - loss: 0.0825\n",
      "Epoch 76/100\n",
      "21215/21215 [==============================] - 1s 62us/step - loss: 0.0824\n",
      "Epoch 77/100\n",
      "21215/21215 [==============================] - 1s 63us/step - loss: 0.0823\n",
      "Epoch 78/100\n",
      "21215/21215 [==============================] - 1s 59us/step - loss: 0.0822\n",
      "Epoch 79/100\n",
      "21215/21215 [==============================] - 1s 60us/step - loss: 0.0821\n",
      "Epoch 80/100\n",
      "21215/21215 [==============================] - 1s 65us/step - loss: 0.0820\n",
      "Epoch 81/100\n",
      "21215/21215 [==============================] - 1s 55us/step - loss: 0.0819\n",
      "Epoch 82/100\n",
      "21215/21215 [==============================] - 1s 48us/step - loss: 0.0818\n",
      "Epoch 83/100\n",
      "21215/21215 [==============================] - 1s 47us/step - loss: 0.0817\n",
      "Epoch 84/100\n",
      "21215/21215 [==============================] - 1s 48us/step - loss: 0.0816\n",
      "Epoch 85/100\n",
      "21215/21215 [==============================] - 1s 48us/step - loss: 0.0815\n",
      "Epoch 86/100\n",
      "21215/21215 [==============================] - 1s 47us/step - loss: 0.0815\n",
      "Epoch 87/100\n",
      "21215/21215 [==============================] - 1s 48us/step - loss: 0.0814\n",
      "Epoch 88/100\n",
      "21215/21215 [==============================] - 1s 48us/step - loss: 0.0813\n",
      "Epoch 89/100\n",
      "21215/21215 [==============================] - 1s 48us/step - loss: 0.0812\n",
      "Epoch 90/100\n",
      "21215/21215 [==============================] - 1s 50us/step - loss: 0.0812\n",
      "Epoch 91/100\n",
      "21215/21215 [==============================] - 1s 48us/step - loss: 0.0811\n",
      "Epoch 92/100\n",
      "21215/21215 [==============================] - 1s 59us/step - loss: 0.0810\n",
      "Epoch 93/100\n",
      "21215/21215 [==============================] - 1s 67us/step - loss: 0.0810\n",
      "Epoch 94/100\n"
     ]
    },
    {
     "name": "stdout",
     "output_type": "stream",
     "text": [
      "21215/21215 [==============================] - 1s 64us/step - loss: 0.0809\n",
      "Epoch 95/100\n",
      "21215/21215 [==============================] - 1s 65us/step - loss: 0.0808\n",
      "Epoch 96/100\n",
      "21215/21215 [==============================] - 1s 62us/step - loss: 0.0808\n",
      "Epoch 97/100\n",
      "21215/21215 [==============================] - 1s 60us/step - loss: 0.0807\n",
      "Epoch 98/100\n",
      "21215/21215 [==============================] - 1s 64us/step - loss: 0.0807\n",
      "Epoch 99/100\n",
      "21215/21215 [==============================] - 1s 53us/step - loss: 0.0806\n",
      "Epoch 100/100\n",
      "21215/21215 [==============================] - 1s 59us/step - loss: 0.0806\n"
     ]
    }
   ],
   "source": [
    "hist = autoencoder.fit(embedding_matrix.reshape((21215, 1, 200)), embedding_matrix.reshape((21215, 1, 200)), epochs=100)"
   ]
  },
  {
   "cell_type": "markdown",
   "metadata": {},
   "source": [
    "## Combine models"
   ]
  },
  {
   "cell_type": "code",
   "execution_count": 16,
   "metadata": {
    "collapsed": true
   },
   "outputs": [],
   "source": [
    "encoding_dim = 50\n",
    "\n",
    "input_word = Input(shape=(1,))\n",
    "\n",
    "embedding_layer = Embedding(len(word_index) + 1,\n",
    "                            EMBEDDING_DIM,\n",
    "                            weights=[embedding_matrix],\n",
    "                            input_length=MAX_SEQUENCE_LENGTH,\n",
    "                            trainable=False)(input_word)\n",
    "\n",
    "encoded = Dense(encoding_dim, activation='relu', weights=autoencoder.layers[1].get_weights())(embedding_layer)\n",
    "decoded = Dense(200, activation='sigmoid', weights=autoencoder.layers[2].get_weights())(encoded)\n",
    "final = Model(input_word, decoded)\n",
    "final.compile(optimizer='adadelta', loss='mse')"
   ]
  },
  {
   "cell_type": "code",
   "execution_count": 17,
   "metadata": {},
   "outputs": [
    {
     "name": "stdout",
     "output_type": "stream",
     "text": [
      "_________________________________________________________________\n",
      "Layer (type)                 Output Shape              Param #   \n",
      "=================================================================\n",
      "input_3 (InputLayer)         (None, 1)                 0         \n",
      "_________________________________________________________________\n",
      "embedding_2 (Embedding)      (None, 1, 200)            4243000   \n",
      "_________________________________________________________________\n",
      "dense_3 (Dense)              (None, 1, 50)             10050     \n",
      "_________________________________________________________________\n",
      "dense_4 (Dense)              (None, 1, 200)            10200     \n",
      "=================================================================\n",
      "Total params: 4,263,250\n",
      "Trainable params: 20,250\n",
      "Non-trainable params: 4,243,000\n",
      "_________________________________________________________________\n"
     ]
    }
   ],
   "source": [
    "final.summary()"
   ]
  },
  {
   "cell_type": "code",
   "execution_count": 18,
   "metadata": {},
   "outputs": [
    {
     "data": {
      "text/plain": [
       "array([[[ True,  True,  True,  True,  True,  True,  True,  True,  True,\n",
       "          True,  True,  True,  True,  True,  True,  True,  True,  True,\n",
       "          True,  True,  True,  True,  True,  True,  True,  True,  True,\n",
       "          True,  True,  True,  True,  True,  True,  True,  True,  True,\n",
       "          True,  True,  True,  True,  True,  True,  True,  True,  True,\n",
       "          True,  True,  True,  True,  True,  True,  True,  True,  True,\n",
       "          True,  True,  True,  True,  True,  True,  True,  True,  True,\n",
       "          True,  True,  True,  True,  True,  True,  True,  True,  True,\n",
       "          True,  True,  True,  True,  True,  True,  True,  True,  True,\n",
       "          True,  True,  True,  True,  True,  True,  True,  True,  True,\n",
       "          True,  True,  True,  True,  True,  True,  True,  True,  True,\n",
       "          True,  True,  True,  True,  True,  True,  True,  True,  True,\n",
       "          True,  True,  True,  True,  True,  True,  True,  True,  True,\n",
       "          True,  True,  True,  True,  True,  True,  True,  True,  True,\n",
       "          True,  True,  True,  True,  True,  True,  True,  True,  True,\n",
       "          True,  True,  True,  True,  True,  True,  True,  True,  True,\n",
       "          True,  True,  True,  True,  True,  True,  True,  True,  True,\n",
       "          True,  True,  True,  True,  True,  True,  True,  True,  True,\n",
       "          True,  True,  True,  True,  True,  True,  True,  True,  True,\n",
       "          True,  True,  True,  True,  True,  True,  True,  True,  True,\n",
       "          True,  True,  True,  True,  True,  True,  True,  True,  True,\n",
       "          True,  True,  True,  True,  True,  True,  True,  True,  True,\n",
       "          True,  True]]], dtype=bool)"
      ]
     },
     "execution_count": 18,
     "metadata": {},
     "output_type": "execute_result"
    }
   ],
   "source": [
    "emb = embedding_model.predict(np.array(word_index[\"lol\"]).reshape((1,1)))\n",
    "final.predict(np.array([word_index[\"lol\"]])) == autoencoder.predict(emb)"
   ]
  },
  {
   "cell_type": "markdown",
   "metadata": {},
   "source": [
    "## GRU"
   ]
  },
  {
   "cell_type": "code",
   "execution_count": 19,
   "metadata": {},
   "outputs": [
    {
     "name": "stdout",
     "output_type": "stream",
     "text": [
      "The longest sequence is 50\n"
     ]
    },
    {
     "name": "stderr",
     "output_type": "stream",
     "text": [
      "/usr/lib/python3.6/site-packages/ipykernel_launcher.py:4: UserWarning: Update your `Model` call to the Keras 2 API: `Model(inputs=Tensor(\"in..., outputs=Tensor(\"de...)`\n",
      "  after removing the cwd from sys.path.\n"
     ]
    }
   ],
   "source": [
    "#Fetching encoder from autoencoder model\n",
    "input = autoencoder.layers[0].input\n",
    "output = autoencoder.layers[-2].output\n",
    "encoder = Model(input=input, output=output)\n",
    "\n",
    "#Retrieving the longest sequence size\n",
    "#seq_dim = max([len(l.rsplit()) for l in train])\n",
    "#seq_dim = max(seq_dim, max([len(l.rsplit()) for l in test]))\n",
    "seq_dim = 50\n",
    "print('The longest sequence is', seq_dim)\n",
    "\n",
    "#Returns a list of np arrays with encoded values of each word\n",
    "def get_encoded_list(tweet):\n",
    "    ans = np.zeros((seq_dim, 1))\n",
    "    for i, w in enumerate(tweet.rsplit()):\n",
    "        emb = word_index[w]\n",
    "        ans[i, 0] = emb\n",
    "    return ans\n",
    "\n",
    "#Preparing the data for the GRU\n",
    "train_gru = np.empty((len(train), seq_dim, 1))\n",
    "test_gru = np.empty((len(test), seq_dim, 1))\n",
    "\n",
    "for i, tweet in enumerate(train):\n",
    "    train_gru[i, :, :] = get_encoded_list(tweet)\n",
    "    \n",
    "for i, tweet in enumerate(test):\n",
    "    test_gru[i, :, :] = get_encoded_list(tweet)"
   ]
  },
  {
   "cell_type": "code",
   "execution_count": 20,
   "metadata": {},
   "outputs": [
    {
     "data": {
      "text/plain": [
       "(7102, 50, 1)"
      ]
     },
     "execution_count": 20,
     "metadata": {},
     "output_type": "execute_result"
    }
   ],
   "source": [
    "train_gru.shape"
   ]
  },
  {
   "cell_type": "code",
   "execution_count": 21,
   "metadata": {},
   "outputs": [
    {
     "data": {
      "text/plain": [
       "(800, 50, 1)"
      ]
     },
     "execution_count": 21,
     "metadata": {},
     "output_type": "execute_result"
    }
   ],
   "source": [
    "test_gru.shape"
   ]
  },
  {
   "cell_type": "code",
   "execution_count": 49,
   "metadata": {
    "collapsed": true
   },
   "outputs": [],
   "source": [
    "from keras.layers import Embedding, Dropout, GRU, LSTM, concatenate, RepeatVector\n",
    "\n",
    "encoding_dim = 50\n",
    "input_size = 50\n",
    "\n",
    "input_seq = Input(shape=(50,1))\n",
    "input_type = Input(shape=(4,))\n",
    "\n",
    "embedding_layer = Embedding(len(word_index) + 1,\n",
    "                            EMBEDDING_DIM,\n",
    "                            weights=[embedding_matrix],\n",
    "                            input_length=input_size,\n",
    "                            trainable=False)(input_seq)\n",
    "\n",
    "encoded = Dense(encoding_dim, activation='relu', weights=autoencoder.layers[1].get_weights(), trainable=False)(embedding_layer)\n",
    "\n",
    "repeat = RepeatVector(50)(input_type)\n",
    "concat = concatenate([encoded, repeat])\n",
    "\n",
    "rec = LSTM(128, input_shape=(None, 50), dropout=0., recurrent_dropout=0., go_backwards=True)(concat)\n",
    "\n",
    "out = Dense(4, activation=\"softmax\")(rec)\n",
    "\n",
    "final = Model([input_seq, input_type], out)\n",
    "final.compile(optimizer='adadelta', loss='categorical_crossentropy', metrics=[\"accuracy\"])"
   ]
  },
  {
   "cell_type": "code",
   "execution_count": 50,
   "metadata": {},
   "outputs": [
    {
     "name": "stdout",
     "output_type": "stream",
     "text": [
      "__________________________________________________________________________________________________\n",
      "Layer (type)                    Output Shape         Param #     Connected to                     \n",
      "==================================================================================================\n",
      "input_14 (InputLayer)           (None, 50, 1)        0                                            \n",
      "__________________________________________________________________________________________________\n",
      "embedding_8 (Embedding)         (None, 50, 200)      4243000     input_14[0][0]                   \n",
      "__________________________________________________________________________________________________\n",
      "input_15 (InputLayer)           (None, 4)            0                                            \n",
      "__________________________________________________________________________________________________\n",
      "dense_15 (Dense)                (None, 50, 50)       10050       embedding_8[0][0]                \n",
      "__________________________________________________________________________________________________\n",
      "repeat_vector_6 (RepeatVector)  (None, 50, 4)        0           input_15[0][0]                   \n",
      "__________________________________________________________________________________________________\n",
      "concatenate_6 (Concatenate)     (None, 50, 54)       0           dense_15[0][0]                   \n",
      "                                                                 repeat_vector_6[0][0]            \n",
      "__________________________________________________________________________________________________\n",
      "lstm_5 (LSTM)                   (None, 128)          93696       concatenate_6[0][0]              \n",
      "__________________________________________________________________________________________________\n",
      "dense_16 (Dense)                (None, 4)            516         lstm_5[0][0]                     \n",
      "==================================================================================================\n",
      "Total params: 4,347,262\n",
      "Trainable params: 94,212\n",
      "Non-trainable params: 4,253,050\n",
      "__________________________________________________________________________________________________\n"
     ]
    }
   ],
   "source": [
    "final.summary()"
   ]
  },
  {
   "cell_type": "code",
   "execution_count": 51,
   "metadata": {
    "collapsed": true
   },
   "outputs": [],
   "source": [
    "emot_dic = {\"anger\":0, \"joy\":1, \"sadness\":2, \"fear\":3}\n",
    "\n",
    "train_type_int = np.array([emot_dic[x] for x in train_type])\n",
    "train_type_oh = np.zeros((train_type_int.shape[0], 4))\n",
    "for i in range(train_type_int.shape[0]):\n",
    "    train_type_oh[i, train_type_int[i]] = 1\n",
    "    \n",
    "test_type_int = np.array([emot_dic[x] for x in test_type])\n",
    "test_type_oh = np.zeros((test_type_int.shape[0], 4))\n",
    "for i in range(test_type_int.shape[0]):\n",
    "    test_type_oh[i, test_type_int[i]] = 1"
   ]
  },
  {
   "cell_type": "code",
   "execution_count": 52,
   "metadata": {
    "collapsed": true
   },
   "outputs": [],
   "source": [
    "train_labels_oh = np.zeros((train_labels.shape[0], 4))\n",
    "for i in range(train_labels.shape[0]):\n",
    "    train_labels_oh[i, train_labels[i]] = 1\n",
    "    \n",
    "test_labels_oh = np.zeros((test_labels.shape[0], 4))\n",
    "for i in range(test_labels.shape[0]):\n",
    "    test_labels_oh[i, test_labels[i]] = 1"
   ]
  },
  {
   "cell_type": "code",
   "execution_count": 53,
   "metadata": {},
   "outputs": [
    {
     "name": "stdout",
     "output_type": "stream",
     "text": [
      "Train on 7102 samples, validate on 800 samples\n",
      "Epoch 1/100\n",
      "7080/7102 [============================>.] - ETA: 0s - loss: 1.2779 - acc: 0.4275"
     ]
    },
    {
     "ename": "InvalidArgumentError",
     "evalue": "You must feed a value for placeholder tensor 'input_8' with dtype float and shape [?,50,1]\n\t [[Node: input_8 = Placeholder[dtype=DT_FLOAT, shape=[?,50,1], _device=\"/job:localhost/replica:0/task:0/device:CPU:0\"]()]]\n\nCaused by op 'input_8', defined at:\n  File \"/usr/lib/python3.6/runpy.py\", line 193, in _run_module_as_main\n    \"__main__\", mod_spec)\n  File \"/usr/lib/python3.6/runpy.py\", line 85, in _run_code\n    exec(code, run_globals)\n  File \"/usr/lib/python3.6/site-packages/ipykernel_launcher.py\", line 16, in <module>\n    app.launch_new_instance()\n  File \"/usr/lib/python3.6/site-packages/traitlets/config/application.py\", line 658, in launch_instance\n    app.start()\n  File \"/usr/lib/python3.6/site-packages/ipykernel/kernelapp.py\", line 477, in start\n    ioloop.IOLoop.instance().start()\n  File \"/usr/lib/python3.6/site-packages/zmq/eventloop/ioloop.py\", line 177, in start\n    super(ZMQIOLoop, self).start()\n  File \"/usr/lib/python3.6/site-packages/tornado/ioloop.py\", line 888, in start\n    handler_func(fd_obj, events)\n  File \"/usr/lib/python3.6/site-packages/tornado/stack_context.py\", line 277, in null_wrapper\n    return fn(*args, **kwargs)\n  File \"/usr/lib/python3.6/site-packages/zmq/eventloop/zmqstream.py\", line 440, in _handle_events\n    self._handle_recv()\n  File \"/usr/lib/python3.6/site-packages/zmq/eventloop/zmqstream.py\", line 472, in _handle_recv\n    self._run_callback(callback, msg)\n  File \"/usr/lib/python3.6/site-packages/zmq/eventloop/zmqstream.py\", line 414, in _run_callback\n    callback(*args, **kwargs)\n  File \"/usr/lib/python3.6/site-packages/tornado/stack_context.py\", line 277, in null_wrapper\n    return fn(*args, **kwargs)\n  File \"/usr/lib/python3.6/site-packages/ipykernel/kernelbase.py\", line 283, in dispatcher\n    return self.dispatch_shell(stream, msg)\n  File \"/usr/lib/python3.6/site-packages/ipykernel/kernelbase.py\", line 235, in dispatch_shell\n    handler(stream, idents, msg)\n  File \"/usr/lib/python3.6/site-packages/ipykernel/kernelbase.py\", line 399, in execute_request\n    user_expressions, allow_stdin)\n  File \"/usr/lib/python3.6/site-packages/ipykernel/ipkernel.py\", line 196, in do_execute\n    res = shell.run_cell(code, store_history=store_history, silent=silent)\n  File \"/usr/lib/python3.6/site-packages/ipykernel/zmqshell.py\", line 533, in run_cell\n    return super(ZMQInteractiveShell, self).run_cell(*args, **kwargs)\n  File \"/usr/lib/python3.6/site-packages/IPython/core/interactiveshell.py\", line 2728, in run_cell\n    interactivity=interactivity, compiler=compiler, result=result)\n  File \"/usr/lib/python3.6/site-packages/IPython/core/interactiveshell.py\", line 2850, in run_ast_nodes\n    if self.run_code(code, result):\n  File \"/usr/lib/python3.6/site-packages/IPython/core/interactiveshell.py\", line 2910, in run_code\n    exec(code_obj, self.user_global_ns, self.user_ns)\n  File \"<ipython-input-36-dcfb9e58a7d9>\", line 6, in <module>\n    input_seq = Input(shape=(50,1))\n  File \"/usr/lib/python3.6/site-packages/keras/engine/topology.py\", line 1439, in Input\n    input_tensor=tensor)\n  File \"/usr/lib/python3.6/site-packages/keras/legacy/interfaces.py\", line 87, in wrapper\n    return func(*args, **kwargs)\n  File \"/usr/lib/python3.6/site-packages/keras/engine/topology.py\", line 1348, in __init__\n    name=self.name)\n  File \"/usr/lib/python3.6/site-packages/keras/backend/tensorflow_backend.py\", line 492, in placeholder\n    x = tf.placeholder(dtype, shape=shape, name=name)\n  File \"/usr/lib/python3.6/site-packages/tensorflow/python/ops/array_ops.py\", line 1599, in placeholder\n    return gen_array_ops._placeholder(dtype=dtype, shape=shape, name=name)\n  File \"/usr/lib/python3.6/site-packages/tensorflow/python/ops/gen_array_ops.py\", line 3091, in _placeholder\n    \"Placeholder\", dtype=dtype, shape=shape, name=name)\n  File \"/usr/lib/python3.6/site-packages/tensorflow/python/framework/op_def_library.py\", line 787, in _apply_op_helper\n    op_def=op_def)\n  File \"/usr/lib/python3.6/site-packages/tensorflow/python/framework/ops.py\", line 2956, in create_op\n    op_def=op_def)\n  File \"/usr/lib/python3.6/site-packages/tensorflow/python/framework/ops.py\", line 1470, in __init__\n    self._traceback = self._graph._extract_stack()  # pylint: disable=protected-access\n\nInvalidArgumentError (see above for traceback): You must feed a value for placeholder tensor 'input_8' with dtype float and shape [?,50,1]\n\t [[Node: input_8 = Placeholder[dtype=DT_FLOAT, shape=[?,50,1], _device=\"/job:localhost/replica:0/task:0/device:CPU:0\"]()]]\n",
     "output_type": "error",
     "traceback": [
      "\u001b[0;31m---------------------------------------------------------------------------\u001b[0m",
      "\u001b[0;31mInvalidArgumentError\u001b[0m                      Traceback (most recent call last)",
      "\u001b[0;32m/usr/lib/python3.6/site-packages/tensorflow/python/client/session.py\u001b[0m in \u001b[0;36m_do_call\u001b[0;34m(self, fn, *args)\u001b[0m\n\u001b[1;32m   1322\u001b[0m     \u001b[0;32mtry\u001b[0m\u001b[0;34m:\u001b[0m\u001b[0;34m\u001b[0m\u001b[0m\n\u001b[0;32m-> 1323\u001b[0;31m       \u001b[0;32mreturn\u001b[0m \u001b[0mfn\u001b[0m\u001b[0;34m(\u001b[0m\u001b[0;34m*\u001b[0m\u001b[0margs\u001b[0m\u001b[0;34m)\u001b[0m\u001b[0;34m\u001b[0m\u001b[0m\n\u001b[0m\u001b[1;32m   1324\u001b[0m     \u001b[0;32mexcept\u001b[0m \u001b[0merrors\u001b[0m\u001b[0;34m.\u001b[0m\u001b[0mOpError\u001b[0m \u001b[0;32mas\u001b[0m \u001b[0me\u001b[0m\u001b[0;34m:\u001b[0m\u001b[0;34m\u001b[0m\u001b[0m\n",
      "\u001b[0;32m/usr/lib/python3.6/site-packages/tensorflow/python/client/session.py\u001b[0m in \u001b[0;36m_run_fn\u001b[0;34m(session, feed_dict, fetch_list, target_list, options, run_metadata)\u001b[0m\n\u001b[1;32m   1301\u001b[0m                                    \u001b[0mfeed_dict\u001b[0m\u001b[0;34m,\u001b[0m \u001b[0mfetch_list\u001b[0m\u001b[0;34m,\u001b[0m \u001b[0mtarget_list\u001b[0m\u001b[0;34m,\u001b[0m\u001b[0;34m\u001b[0m\u001b[0m\n\u001b[0;32m-> 1302\u001b[0;31m                                    status, run_metadata)\n\u001b[0m\u001b[1;32m   1303\u001b[0m \u001b[0;34m\u001b[0m\u001b[0m\n",
      "\u001b[0;32m/usr/lib/python3.6/site-packages/tensorflow/python/framework/errors_impl.py\u001b[0m in \u001b[0;36m__exit__\u001b[0;34m(self, type_arg, value_arg, traceback_arg)\u001b[0m\n\u001b[1;32m    472\u001b[0m             \u001b[0mcompat\u001b[0m\u001b[0;34m.\u001b[0m\u001b[0mas_text\u001b[0m\u001b[0;34m(\u001b[0m\u001b[0mc_api\u001b[0m\u001b[0;34m.\u001b[0m\u001b[0mTF_Message\u001b[0m\u001b[0;34m(\u001b[0m\u001b[0mself\u001b[0m\u001b[0;34m.\u001b[0m\u001b[0mstatus\u001b[0m\u001b[0;34m.\u001b[0m\u001b[0mstatus\u001b[0m\u001b[0;34m)\u001b[0m\u001b[0;34m)\u001b[0m\u001b[0;34m,\u001b[0m\u001b[0;34m\u001b[0m\u001b[0m\n\u001b[0;32m--> 473\u001b[0;31m             c_api.TF_GetCode(self.status.status))\n\u001b[0m\u001b[1;32m    474\u001b[0m     \u001b[0;31m# Delete the underlying status object from memory otherwise it stays alive\u001b[0m\u001b[0;34m\u001b[0m\u001b[0;34m\u001b[0m\u001b[0m\n",
      "\u001b[0;31mInvalidArgumentError\u001b[0m: You must feed a value for placeholder tensor 'input_8' with dtype float and shape [?,50,1]\n\t [[Node: input_8 = Placeholder[dtype=DT_FLOAT, shape=[?,50,1], _device=\"/job:localhost/replica:0/task:0/device:CPU:0\"]()]]",
      "\nDuring handling of the above exception, another exception occurred:\n",
      "\u001b[0;31mInvalidArgumentError\u001b[0m                      Traceback (most recent call last)",
      "\u001b[0;32m<ipython-input-53-931bbfb25d51>\u001b[0m in \u001b[0;36m<module>\u001b[0;34m()\u001b[0m\n\u001b[1;32m      5\u001b[0m                 \u001b[0mvalidation_data\u001b[0m\u001b[0;34m=\u001b[0m\u001b[0;34m(\u001b[0m\u001b[0;34m[\u001b[0m\u001b[0mtest_gru\u001b[0m\u001b[0;34m,\u001b[0m \u001b[0mtest_type_oh\u001b[0m\u001b[0;34m]\u001b[0m\u001b[0;34m,\u001b[0m \u001b[0mtest_labels_oh\u001b[0m\u001b[0;34m)\u001b[0m\u001b[0;34m,\u001b[0m\u001b[0;34m\u001b[0m\u001b[0m\n\u001b[1;32m      6\u001b[0m                 callbacks=[TensorBoard(log_dir='/tmp/lstm', histogram_freq=1, write_graph=False),\n\u001b[0;32m----> 7\u001b[0;31m                           ModelCheckpoint('/tmp/chackpoint.h5', monitor='val_loss', verbose=0, save_best_only=True, save_weights_only=False, mode='auto', period=1)])\n\u001b[0m",
      "\u001b[0;32m/usr/lib/python3.6/site-packages/keras/engine/training.py\u001b[0m in \u001b[0;36mfit\u001b[0;34m(self, x, y, batch_size, epochs, verbose, callbacks, validation_split, validation_data, shuffle, class_weight, sample_weight, initial_epoch, steps_per_epoch, validation_steps, **kwargs)\u001b[0m\n\u001b[1;32m   1648\u001b[0m                               \u001b[0minitial_epoch\u001b[0m\u001b[0;34m=\u001b[0m\u001b[0minitial_epoch\u001b[0m\u001b[0;34m,\u001b[0m\u001b[0;34m\u001b[0m\u001b[0m\n\u001b[1;32m   1649\u001b[0m                               \u001b[0msteps_per_epoch\u001b[0m\u001b[0;34m=\u001b[0m\u001b[0msteps_per_epoch\u001b[0m\u001b[0;34m,\u001b[0m\u001b[0;34m\u001b[0m\u001b[0m\n\u001b[0;32m-> 1650\u001b[0;31m                               validation_steps=validation_steps)\n\u001b[0m\u001b[1;32m   1651\u001b[0m \u001b[0;34m\u001b[0m\u001b[0m\n\u001b[1;32m   1652\u001b[0m     def evaluate(self, x=None, y=None,\n",
      "\u001b[0;32m/usr/lib/python3.6/site-packages/keras/engine/training.py\u001b[0m in \u001b[0;36m_fit_loop\u001b[0;34m(self, f, ins, out_labels, batch_size, epochs, verbose, callbacks, val_f, val_ins, shuffle, callback_metrics, initial_epoch, steps_per_epoch, validation_steps)\u001b[0m\n\u001b[1;32m   1231\u001b[0m                             \u001b[0;32mfor\u001b[0m \u001b[0ml\u001b[0m\u001b[0;34m,\u001b[0m \u001b[0mo\u001b[0m \u001b[0;32min\u001b[0m \u001b[0mzip\u001b[0m\u001b[0;34m(\u001b[0m\u001b[0mout_labels\u001b[0m\u001b[0;34m,\u001b[0m \u001b[0mval_outs\u001b[0m\u001b[0;34m)\u001b[0m\u001b[0;34m:\u001b[0m\u001b[0;34m\u001b[0m\u001b[0m\n\u001b[1;32m   1232\u001b[0m                                 \u001b[0mepoch_logs\u001b[0m\u001b[0;34m[\u001b[0m\u001b[0;34m'val_'\u001b[0m \u001b[0;34m+\u001b[0m \u001b[0ml\u001b[0m\u001b[0;34m]\u001b[0m \u001b[0;34m=\u001b[0m \u001b[0mo\u001b[0m\u001b[0;34m\u001b[0m\u001b[0m\n\u001b[0;32m-> 1233\u001b[0;31m             \u001b[0mcallbacks\u001b[0m\u001b[0;34m.\u001b[0m\u001b[0mon_epoch_end\u001b[0m\u001b[0;34m(\u001b[0m\u001b[0mepoch\u001b[0m\u001b[0;34m,\u001b[0m \u001b[0mepoch_logs\u001b[0m\u001b[0;34m)\u001b[0m\u001b[0;34m\u001b[0m\u001b[0m\n\u001b[0m\u001b[1;32m   1234\u001b[0m             \u001b[0;32mif\u001b[0m \u001b[0mcallback_model\u001b[0m\u001b[0;34m.\u001b[0m\u001b[0mstop_training\u001b[0m\u001b[0;34m:\u001b[0m\u001b[0;34m\u001b[0m\u001b[0m\n\u001b[1;32m   1235\u001b[0m                 \u001b[0;32mbreak\u001b[0m\u001b[0;34m\u001b[0m\u001b[0m\n",
      "\u001b[0;32m/usr/lib/python3.6/site-packages/keras/callbacks.py\u001b[0m in \u001b[0;36mon_epoch_end\u001b[0;34m(self, epoch, logs)\u001b[0m\n\u001b[1;32m     71\u001b[0m         \u001b[0mlogs\u001b[0m \u001b[0;34m=\u001b[0m \u001b[0mlogs\u001b[0m \u001b[0;32mor\u001b[0m \u001b[0;34m{\u001b[0m\u001b[0;34m}\u001b[0m\u001b[0;34m\u001b[0m\u001b[0m\n\u001b[1;32m     72\u001b[0m         \u001b[0;32mfor\u001b[0m \u001b[0mcallback\u001b[0m \u001b[0;32min\u001b[0m \u001b[0mself\u001b[0m\u001b[0;34m.\u001b[0m\u001b[0mcallbacks\u001b[0m\u001b[0;34m:\u001b[0m\u001b[0;34m\u001b[0m\u001b[0m\n\u001b[0;32m---> 73\u001b[0;31m             \u001b[0mcallback\u001b[0m\u001b[0;34m.\u001b[0m\u001b[0mon_epoch_end\u001b[0m\u001b[0;34m(\u001b[0m\u001b[0mepoch\u001b[0m\u001b[0;34m,\u001b[0m \u001b[0mlogs\u001b[0m\u001b[0;34m)\u001b[0m\u001b[0;34m\u001b[0m\u001b[0m\n\u001b[0m\u001b[1;32m     74\u001b[0m \u001b[0;34m\u001b[0m\u001b[0m\n\u001b[1;32m     75\u001b[0m     \u001b[0;32mdef\u001b[0m \u001b[0mon_batch_begin\u001b[0m\u001b[0;34m(\u001b[0m\u001b[0mself\u001b[0m\u001b[0;34m,\u001b[0m \u001b[0mbatch\u001b[0m\u001b[0;34m,\u001b[0m \u001b[0mlogs\u001b[0m\u001b[0;34m=\u001b[0m\u001b[0;32mNone\u001b[0m\u001b[0;34m)\u001b[0m\u001b[0;34m:\u001b[0m\u001b[0;34m\u001b[0m\u001b[0m\n",
      "\u001b[0;32m/usr/lib/python3.6/site-packages/keras/callbacks.py\u001b[0m in \u001b[0;36mon_epoch_end\u001b[0;34m(self, epoch, logs)\u001b[0m\n\u001b[1;32m    775\u001b[0m                     \u001b[0;32massert\u001b[0m \u001b[0mlen\u001b[0m\u001b[0;34m(\u001b[0m\u001b[0mbatch_val\u001b[0m\u001b[0;34m)\u001b[0m \u001b[0;34m==\u001b[0m \u001b[0mlen\u001b[0m\u001b[0;34m(\u001b[0m\u001b[0mtensors\u001b[0m\u001b[0;34m)\u001b[0m\u001b[0;34m\u001b[0m\u001b[0m\n\u001b[1;32m    776\u001b[0m                     \u001b[0mfeed_dict\u001b[0m \u001b[0;34m=\u001b[0m \u001b[0mdict\u001b[0m\u001b[0;34m(\u001b[0m\u001b[0mzip\u001b[0m\u001b[0;34m(\u001b[0m\u001b[0mtensors\u001b[0m\u001b[0;34m,\u001b[0m \u001b[0mbatch_val\u001b[0m\u001b[0;34m)\u001b[0m\u001b[0;34m)\u001b[0m\u001b[0;34m\u001b[0m\u001b[0m\n\u001b[0;32m--> 777\u001b[0;31m                     \u001b[0mresult\u001b[0m \u001b[0;34m=\u001b[0m \u001b[0mself\u001b[0m\u001b[0;34m.\u001b[0m\u001b[0msess\u001b[0m\u001b[0;34m.\u001b[0m\u001b[0mrun\u001b[0m\u001b[0;34m(\u001b[0m\u001b[0;34m[\u001b[0m\u001b[0mself\u001b[0m\u001b[0;34m.\u001b[0m\u001b[0mmerged\u001b[0m\u001b[0;34m]\u001b[0m\u001b[0;34m,\u001b[0m \u001b[0mfeed_dict\u001b[0m\u001b[0;34m=\u001b[0m\u001b[0mfeed_dict\u001b[0m\u001b[0;34m)\u001b[0m\u001b[0;34m\u001b[0m\u001b[0m\n\u001b[0m\u001b[1;32m    778\u001b[0m                     \u001b[0msummary_str\u001b[0m \u001b[0;34m=\u001b[0m \u001b[0mresult\u001b[0m\u001b[0;34m[\u001b[0m\u001b[0;36m0\u001b[0m\u001b[0;34m]\u001b[0m\u001b[0;34m\u001b[0m\u001b[0m\n\u001b[1;32m    779\u001b[0m                     \u001b[0mself\u001b[0m\u001b[0;34m.\u001b[0m\u001b[0mwriter\u001b[0m\u001b[0;34m.\u001b[0m\u001b[0madd_summary\u001b[0m\u001b[0;34m(\u001b[0m\u001b[0msummary_str\u001b[0m\u001b[0;34m,\u001b[0m \u001b[0mepoch\u001b[0m\u001b[0;34m)\u001b[0m\u001b[0;34m\u001b[0m\u001b[0m\n",
      "\u001b[0;32m/usr/lib/python3.6/site-packages/tensorflow/python/client/session.py\u001b[0m in \u001b[0;36mrun\u001b[0;34m(self, fetches, feed_dict, options, run_metadata)\u001b[0m\n\u001b[1;32m    887\u001b[0m     \u001b[0;32mtry\u001b[0m\u001b[0;34m:\u001b[0m\u001b[0;34m\u001b[0m\u001b[0m\n\u001b[1;32m    888\u001b[0m       result = self._run(None, fetches, feed_dict, options_ptr,\n\u001b[0;32m--> 889\u001b[0;31m                          run_metadata_ptr)\n\u001b[0m\u001b[1;32m    890\u001b[0m       \u001b[0;32mif\u001b[0m \u001b[0mrun_metadata\u001b[0m\u001b[0;34m:\u001b[0m\u001b[0;34m\u001b[0m\u001b[0m\n\u001b[1;32m    891\u001b[0m         \u001b[0mproto_data\u001b[0m \u001b[0;34m=\u001b[0m \u001b[0mtf_session\u001b[0m\u001b[0;34m.\u001b[0m\u001b[0mTF_GetBuffer\u001b[0m\u001b[0;34m(\u001b[0m\u001b[0mrun_metadata_ptr\u001b[0m\u001b[0;34m)\u001b[0m\u001b[0;34m\u001b[0m\u001b[0m\n",
      "\u001b[0;32m/usr/lib/python3.6/site-packages/tensorflow/python/client/session.py\u001b[0m in \u001b[0;36m_run\u001b[0;34m(self, handle, fetches, feed_dict, options, run_metadata)\u001b[0m\n\u001b[1;32m   1118\u001b[0m     \u001b[0;32mif\u001b[0m \u001b[0mfinal_fetches\u001b[0m \u001b[0;32mor\u001b[0m \u001b[0mfinal_targets\u001b[0m \u001b[0;32mor\u001b[0m \u001b[0;34m(\u001b[0m\u001b[0mhandle\u001b[0m \u001b[0;32mand\u001b[0m \u001b[0mfeed_dict_tensor\u001b[0m\u001b[0;34m)\u001b[0m\u001b[0;34m:\u001b[0m\u001b[0;34m\u001b[0m\u001b[0m\n\u001b[1;32m   1119\u001b[0m       results = self._do_run(handle, final_targets, final_fetches,\n\u001b[0;32m-> 1120\u001b[0;31m                              feed_dict_tensor, options, run_metadata)\n\u001b[0m\u001b[1;32m   1121\u001b[0m     \u001b[0;32melse\u001b[0m\u001b[0;34m:\u001b[0m\u001b[0;34m\u001b[0m\u001b[0m\n\u001b[1;32m   1122\u001b[0m       \u001b[0mresults\u001b[0m \u001b[0;34m=\u001b[0m \u001b[0;34m[\u001b[0m\u001b[0;34m]\u001b[0m\u001b[0;34m\u001b[0m\u001b[0m\n",
      "\u001b[0;32m/usr/lib/python3.6/site-packages/tensorflow/python/client/session.py\u001b[0m in \u001b[0;36m_do_run\u001b[0;34m(self, handle, target_list, fetch_list, feed_dict, options, run_metadata)\u001b[0m\n\u001b[1;32m   1315\u001b[0m     \u001b[0;32mif\u001b[0m \u001b[0mhandle\u001b[0m \u001b[0;32mis\u001b[0m \u001b[0;32mNone\u001b[0m\u001b[0;34m:\u001b[0m\u001b[0;34m\u001b[0m\u001b[0m\n\u001b[1;32m   1316\u001b[0m       return self._do_call(_run_fn, self._session, feeds, fetches, targets,\n\u001b[0;32m-> 1317\u001b[0;31m                            options, run_metadata)\n\u001b[0m\u001b[1;32m   1318\u001b[0m     \u001b[0;32melse\u001b[0m\u001b[0;34m:\u001b[0m\u001b[0;34m\u001b[0m\u001b[0m\n\u001b[1;32m   1319\u001b[0m       \u001b[0;32mreturn\u001b[0m \u001b[0mself\u001b[0m\u001b[0;34m.\u001b[0m\u001b[0m_do_call\u001b[0m\u001b[0;34m(\u001b[0m\u001b[0m_prun_fn\u001b[0m\u001b[0;34m,\u001b[0m \u001b[0mself\u001b[0m\u001b[0;34m.\u001b[0m\u001b[0m_session\u001b[0m\u001b[0;34m,\u001b[0m \u001b[0mhandle\u001b[0m\u001b[0;34m,\u001b[0m \u001b[0mfeeds\u001b[0m\u001b[0;34m,\u001b[0m \u001b[0mfetches\u001b[0m\u001b[0;34m)\u001b[0m\u001b[0;34m\u001b[0m\u001b[0m\n",
      "\u001b[0;32m/usr/lib/python3.6/site-packages/tensorflow/python/client/session.py\u001b[0m in \u001b[0;36m_do_call\u001b[0;34m(self, fn, *args)\u001b[0m\n\u001b[1;32m   1334\u001b[0m         \u001b[0;32mexcept\u001b[0m \u001b[0mKeyError\u001b[0m\u001b[0;34m:\u001b[0m\u001b[0;34m\u001b[0m\u001b[0m\n\u001b[1;32m   1335\u001b[0m           \u001b[0;32mpass\u001b[0m\u001b[0;34m\u001b[0m\u001b[0m\n\u001b[0;32m-> 1336\u001b[0;31m       \u001b[0;32mraise\u001b[0m \u001b[0mtype\u001b[0m\u001b[0;34m(\u001b[0m\u001b[0me\u001b[0m\u001b[0;34m)\u001b[0m\u001b[0;34m(\u001b[0m\u001b[0mnode_def\u001b[0m\u001b[0;34m,\u001b[0m \u001b[0mop\u001b[0m\u001b[0;34m,\u001b[0m \u001b[0mmessage\u001b[0m\u001b[0;34m)\u001b[0m\u001b[0;34m\u001b[0m\u001b[0m\n\u001b[0m\u001b[1;32m   1337\u001b[0m \u001b[0;34m\u001b[0m\u001b[0m\n\u001b[1;32m   1338\u001b[0m   \u001b[0;32mdef\u001b[0m \u001b[0m_extend_graph\u001b[0m\u001b[0;34m(\u001b[0m\u001b[0mself\u001b[0m\u001b[0;34m)\u001b[0m\u001b[0;34m:\u001b[0m\u001b[0;34m\u001b[0m\u001b[0m\n",
      "\u001b[0;31mInvalidArgumentError\u001b[0m: You must feed a value for placeholder tensor 'input_8' with dtype float and shape [?,50,1]\n\t [[Node: input_8 = Placeholder[dtype=DT_FLOAT, shape=[?,50,1], _device=\"/job:localhost/replica:0/task:0/device:CPU:0\"]()]]\n\nCaused by op 'input_8', defined at:\n  File \"/usr/lib/python3.6/runpy.py\", line 193, in _run_module_as_main\n    \"__main__\", mod_spec)\n  File \"/usr/lib/python3.6/runpy.py\", line 85, in _run_code\n    exec(code, run_globals)\n  File \"/usr/lib/python3.6/site-packages/ipykernel_launcher.py\", line 16, in <module>\n    app.launch_new_instance()\n  File \"/usr/lib/python3.6/site-packages/traitlets/config/application.py\", line 658, in launch_instance\n    app.start()\n  File \"/usr/lib/python3.6/site-packages/ipykernel/kernelapp.py\", line 477, in start\n    ioloop.IOLoop.instance().start()\n  File \"/usr/lib/python3.6/site-packages/zmq/eventloop/ioloop.py\", line 177, in start\n    super(ZMQIOLoop, self).start()\n  File \"/usr/lib/python3.6/site-packages/tornado/ioloop.py\", line 888, in start\n    handler_func(fd_obj, events)\n  File \"/usr/lib/python3.6/site-packages/tornado/stack_context.py\", line 277, in null_wrapper\n    return fn(*args, **kwargs)\n  File \"/usr/lib/python3.6/site-packages/zmq/eventloop/zmqstream.py\", line 440, in _handle_events\n    self._handle_recv()\n  File \"/usr/lib/python3.6/site-packages/zmq/eventloop/zmqstream.py\", line 472, in _handle_recv\n    self._run_callback(callback, msg)\n  File \"/usr/lib/python3.6/site-packages/zmq/eventloop/zmqstream.py\", line 414, in _run_callback\n    callback(*args, **kwargs)\n  File \"/usr/lib/python3.6/site-packages/tornado/stack_context.py\", line 277, in null_wrapper\n    return fn(*args, **kwargs)\n  File \"/usr/lib/python3.6/site-packages/ipykernel/kernelbase.py\", line 283, in dispatcher\n    return self.dispatch_shell(stream, msg)\n  File \"/usr/lib/python3.6/site-packages/ipykernel/kernelbase.py\", line 235, in dispatch_shell\n    handler(stream, idents, msg)\n  File \"/usr/lib/python3.6/site-packages/ipykernel/kernelbase.py\", line 399, in execute_request\n    user_expressions, allow_stdin)\n  File \"/usr/lib/python3.6/site-packages/ipykernel/ipkernel.py\", line 196, in do_execute\n    res = shell.run_cell(code, store_history=store_history, silent=silent)\n  File \"/usr/lib/python3.6/site-packages/ipykernel/zmqshell.py\", line 533, in run_cell\n    return super(ZMQInteractiveShell, self).run_cell(*args, **kwargs)\n  File \"/usr/lib/python3.6/site-packages/IPython/core/interactiveshell.py\", line 2728, in run_cell\n    interactivity=interactivity, compiler=compiler, result=result)\n  File \"/usr/lib/python3.6/site-packages/IPython/core/interactiveshell.py\", line 2850, in run_ast_nodes\n    if self.run_code(code, result):\n  File \"/usr/lib/python3.6/site-packages/IPython/core/interactiveshell.py\", line 2910, in run_code\n    exec(code_obj, self.user_global_ns, self.user_ns)\n  File \"<ipython-input-36-dcfb9e58a7d9>\", line 6, in <module>\n    input_seq = Input(shape=(50,1))\n  File \"/usr/lib/python3.6/site-packages/keras/engine/topology.py\", line 1439, in Input\n    input_tensor=tensor)\n  File \"/usr/lib/python3.6/site-packages/keras/legacy/interfaces.py\", line 87, in wrapper\n    return func(*args, **kwargs)\n  File \"/usr/lib/python3.6/site-packages/keras/engine/topology.py\", line 1348, in __init__\n    name=self.name)\n  File \"/usr/lib/python3.6/site-packages/keras/backend/tensorflow_backend.py\", line 492, in placeholder\n    x = tf.placeholder(dtype, shape=shape, name=name)\n  File \"/usr/lib/python3.6/site-packages/tensorflow/python/ops/array_ops.py\", line 1599, in placeholder\n    return gen_array_ops._placeholder(dtype=dtype, shape=shape, name=name)\n  File \"/usr/lib/python3.6/site-packages/tensorflow/python/ops/gen_array_ops.py\", line 3091, in _placeholder\n    \"Placeholder\", dtype=dtype, shape=shape, name=name)\n  File \"/usr/lib/python3.6/site-packages/tensorflow/python/framework/op_def_library.py\", line 787, in _apply_op_helper\n    op_def=op_def)\n  File \"/usr/lib/python3.6/site-packages/tensorflow/python/framework/ops.py\", line 2956, in create_op\n    op_def=op_def)\n  File \"/usr/lib/python3.6/site-packages/tensorflow/python/framework/ops.py\", line 1470, in __init__\n    self._traceback = self._graph._extract_stack()  # pylint: disable=protected-access\n\nInvalidArgumentError (see above for traceback): You must feed a value for placeholder tensor 'input_8' with dtype float and shape [?,50,1]\n\t [[Node: input_8 = Placeholder[dtype=DT_FLOAT, shape=[?,50,1], _device=\"/job:localhost/replica:0/task:0/device:CPU:0\"]()]]\n"
     ]
    }
   ],
   "source": [
    "final.fit([train_gru, train_type_oh], train_labels_oh,\n",
    "                epochs=30,\n",
    "                batch_size=8,\n",
    "                shuffle=True,\n",
    "                validation_data=([test_gru, test_type_oh], test_labels_oh),\n",
    "                callbacks=[TensorBoard(log_dir='/tmp/lstm', histogram_freq=1, write_graph=False),\n",
    "                          ModelCheckpoint('/tmp/chackpoint.h5', monitor='val_loss', verbose=0, save_best_only=True, save_weights_only=False, mode='auto', period=1)])"
   ]
  },
  {
   "cell_type": "code",
   "execution_count": null,
   "metadata": {},
   "outputs": [],
   "source": [
    "from keras.callbacks import TensorBoard, ModelCheckpoint"
   ]
  },
  {
   "cell_type": "code",
   "execution_count": null,
   "metadata": {},
   "outputs": [
    {
     "name": "stdout",
     "output_type": "stream",
     "text": [
      "Train on 7102 samples, validate on 800 samples\n",
      "Epoch 1/30\n",
      "7102/7102 [==============================] - 18s 2ms/step - loss: 1.2414 - acc: 0.4399 - val_loss: 1.3083 - val_acc: 0.3713\n",
      "Epoch 2/30\n",
      "7096/7102 [============================>.] - ETA: 0s - loss: 1.2263 - acc: 0.4555"
     ]
    }
   ],
   "source": [
    "final.fit([train_gru, train_type_oh], train_labels_oh,\n",
    "                epochs=30,\n",
    "                batch_size=8,\n",
    "                shuffle=True,\n",
    "                validation_data=([test_gru, test_type_oh], test_labels_oh))"
   ]
  },
  {
   "cell_type": "code",
   "execution_count": null,
   "metadata": {
    "collapsed": true
   },
   "outputs": [],
   "source": []
  }
 ],
 "metadata": {
  "kernelspec": {
   "display_name": "Python 3",
   "language": "python",
   "name": "python3"
  },
  "language_info": {
   "codemirror_mode": {
    "name": "ipython",
    "version": 3
   },
   "file_extension": ".py",
   "mimetype": "text/x-python",
   "name": "python",
   "nbconvert_exporter": "python",
   "pygments_lexer": "ipython3",
   "version": "3.6.4"
  }
 },
 "nbformat": 4,
 "nbformat_minor": 2
}
