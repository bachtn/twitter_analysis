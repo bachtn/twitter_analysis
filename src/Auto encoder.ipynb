{
 "cells": [
  {
   "cell_type": "code",
   "execution_count": null,
   "metadata": {},
   "outputs": [],
   "source": [
    "%matplotlib inline\n",
    "import matplotlib.pyplot as plt\n",
    "import numpy as np\n",
    "import pandas as pd\n",
    "import json\n",
    "import os\n",
    "import re"
   ]
  },
  {
   "cell_type": "markdown",
   "metadata": {},
   "source": [
    "## Preprocessing\n",
    "\n",
    "Data is loaded from the data set and text is pre-processed according to the strategy described in the report."
   ]
  },
  {
   "cell_type": "code",
   "execution_count": null,
   "metadata": {},
   "outputs": [],
   "source": [
    "# Data\n",
    "data_train_path = './../data/train/train.csv'\n",
    "data_test_path = './../data/test/test.csv'"
   ]
  },
  {
   "cell_type": "code",
   "execution_count": null,
   "metadata": {},
   "outputs": [],
   "source": [
    "import sys\n",
    "import regex as re\n",
    "\n",
    "FLAGS = re.MULTILINE | re.DOTALL\n",
    "\n",
    "def hashtag(text):\n",
    "    text = text.group()\n",
    "    hashtag_body = text[1:]\n",
    "    if hashtag_body.isupper():\n",
    "        result = \"<hashtag> {} <allcaps>\".format(hashtag_body)\n",
    "    else:\n",
    "        result = \" \".join([\"<hashtag>\"] + re.split(r\"(?=[A-Z])\", hashtag_body, flags=FLAGS))\n",
    "    return result\n",
    "\n",
    "def allcaps(text):\n",
    "    text = text.group()\n",
    "    return text.lower() + \" <allcaps>\"\n",
    "\n",
    "\n",
    "def tokenize(text):\n",
    "    eyes = r\"[8:=;]\"\n",
    "    nose = r\"['`\\-]?\"\n",
    "\n",
    "    def re_sub(pattern, repl):\n",
    "        return re.sub(pattern, repl, text, flags=FLAGS)\n",
    "\n",
    "    text = re_sub(r\"https?:\\/\\/\\S+\\b|www\\.(\\w+\\.)+\\S*\", \"<url>\")\n",
    "    text = re_sub(r\"/\",\" / \")\n",
    "    text = re_sub(r\"@\\w+\", \"<user>\")\n",
    "    text = re_sub(r\"{}{}[)dD]+|[)dD]+{}{}\".format(eyes, nose, nose, eyes), \"<smile>\")\n",
    "    text = re_sub(r\"{}{}p+\".format(eyes, nose), \"<lolface>\")\n",
    "    text = re_sub(r\"{}{}\\(+|\\)+{}{}\".format(eyes, nose, nose, eyes), \"<sadface>\")\n",
    "    text = re_sub(r\"{}{}[\\/|l*]\".format(eyes, nose), \"<neutralface>\")\n",
    "    text = re_sub(r\"<3\",\"<heart>\")\n",
    "    text = re_sub(r\"[-+]?[.\\d]*[\\d]+[:,.\\d]*\", \"<number>\")\n",
    "    text = re_sub(r\"#\\S+\", hashtag)\n",
    "    text = re_sub(r\"([!?.]){2,}\", r\"\\1 <repeat>\")\n",
    "    text = re_sub(r\"\\b(\\S*?)(.)\\2{2,}\\b\", r\"\\1\\2 <elong>\")\n",
    "\n",
    "    text = re_sub(r\"([A-Z]){2,}\", allcaps)\n",
    "\n",
    "    return text.lower()"
   ]
  },
  {
   "cell_type": "code",
   "execution_count": null,
   "metadata": {},
   "outputs": [],
   "source": [
    "def prepare_cvs_data(file_path):\n",
    "    df = pd.read_csv(file_path, sep='\\t', header=None, encoding='utf-8', quoting=3)\n",
    "    df.columns = ['id','text','polarity','class'] # Set up column names\n",
    "    return df"
   ]
  },
  {
   "cell_type": "code",
   "execution_count": null,
   "metadata": {},
   "outputs": [],
   "source": [
    "train = np.array(prepare_cvs_data(data_train_path)['text'])\n",
    "train_type = np.array(prepare_cvs_data(data_train_path)['polarity'])\n",
    "train_labels_tmp = prepare_cvs_data(data_train_path)['class']\n",
    "train_labels = np.array([int(x[0]) for x in train_labels_tmp])\n",
    "\n",
    "test = np.array(prepare_cvs_data(data_test_path)['text'])\n",
    "test_type = np.array(prepare_cvs_data(data_test_path)['polarity'])\n",
    "test_labels_tmp = prepare_cvs_data(data_test_path)['class']\n",
    "test_labels = np.array([int(x[0]) for x in test_labels_tmp])"
   ]
  },
  {
   "cell_type": "code",
   "execution_count": null,
   "metadata": {},
   "outputs": [],
   "source": [
    "for i in range(train.shape[0]):\n",
    "    train[i] = tokenize(train[i])\n",
    "for i in range(test.shape[0]):\n",
    "    test[i] = tokenize(test[i])"
   ]
  },
  {
   "cell_type": "code",
   "execution_count": null,
   "metadata": {},
   "outputs": [],
   "source": [
    "print(train[0], train_labels[0], train_type[0])\n",
    "print(train[1], train_labels[1])\n",
    "print(train[2], train_labels[2])\n",
    "print(train[3], train_labels[3])"
   ]
  },
  {
   "cell_type": "markdown",
   "metadata": {},
   "source": [
    "## Loading glove\n",
    "\n",
    "glove embeddings are loaded and we create an embedding matrix containing a matrix of all required embedding. The dict word_index maps words -> index in the embedding matrix."
   ]
  },
  {
   "cell_type": "code",
   "execution_count": null,
   "metadata": {},
   "outputs": [],
   "source": [
    "GLOVE_DIR = \"glove/\"\n",
    "\n",
    "embeddings_index = {}\n",
    "f = open(os.path.join(GLOVE_DIR, 'glove.twitter.27B.200d.txt'))\n",
    "for line in f:\n",
    "    values = line.split()\n",
    "    word = values[0]\n",
    "    coefs = np.asarray(values[1:], dtype='float32')\n",
    "    embeddings_index[word] = coefs\n",
    "f.close()\n",
    "\n",
    "print('Found %s word vectors.' % len(embeddings_index))"
   ]
  },
  {
   "cell_type": "code",
   "execution_count": null,
   "metadata": {},
   "outputs": [],
   "source": [
    "word_index = {}\n",
    "idx = 0\n",
    "for i in range(train.shape[0]):\n",
    "    txt = train[i].split()\n",
    "    for j in range(len(txt)):\n",
    "        if word_index.get(txt[j]) == None:\n",
    "            word_index[txt[j]] = idx\n",
    "            idx += 1\n",
    "\n",
    "for i in range(test.shape[0]):\n",
    "    txt = test[i].split()\n",
    "    for j in range(len(txt)):\n",
    "        if word_index.get(txt[j]) == None:\n",
    "            word_index[txt[j]] = idx\n",
    "            idx += 1"
   ]
  },
  {
   "cell_type": "code",
   "execution_count": null,
   "metadata": {},
   "outputs": [],
   "source": [
    "EMBEDDING_DIM = 200\n",
    "\n",
    "embedding_matrix = np.zeros((len(word_index) + 1, EMBEDDING_DIM))\n",
    "for word, i in word_index.items():\n",
    "    embedding_vector = embeddings_index.get(word)\n",
    "    if embedding_vector is not None:\n",
    "        embedding_matrix[i] = embedding_vector"
   ]
  },
  {
   "cell_type": "code",
   "execution_count": null,
   "metadata": {},
   "outputs": [],
   "source": [
    "MAX_SEQUENCE_LENGTH = 1\n",
    "\n",
    "from keras.layers import Embedding\n",
    "from keras.layers import Input\n",
    "from keras.models import Model\n",
    "\n",
    "input_word = Input(shape=(1,))\n",
    "\n",
    "embedding_layer = Embedding(len(word_index) + 1,\n",
    "                            EMBEDDING_DIM,\n",
    "                            weights=[embedding_matrix],\n",
    "                            input_length=MAX_SEQUENCE_LENGTH,\n",
    "                            trainable=False)(input_word)\n",
    "\n",
    "embedding_model = Model(input_word, embedding_layer)"
   ]
  },
  {
   "cell_type": "markdown",
   "metadata": {},
   "source": [
    "## Autoencoder\n",
    "\n",
    "A simple auto encoder is used to reduce dimensionality of the input."
   ]
  },
  {
   "cell_type": "code",
   "execution_count": null,
   "metadata": {},
   "outputs": [],
   "source": [
    "from keras.layers import Input, Dense\n",
    "from keras.models import Model\n",
    "\n",
    "\n",
    "encoding_dim = 50\n",
    "\n",
    "input_word = Input(shape=(1,200,))\n",
    "\n",
    "encoded = Dense(encoding_dim, activation='relu')(input_word)\n",
    "\n",
    "decoded = Dense(200, activation='sigmoid')(encoded)\n",
    "\n",
    "autoencoder = Model(input_word, decoded)\n",
    "autoencoder.compile(optimizer='adadelta', loss='mse')"
   ]
  },
  {
   "cell_type": "code",
   "execution_count": null,
   "metadata": {},
   "outputs": [],
   "source": [
    "hist = autoencoder.fit(embedding_matrix.reshape((19628, 1, 200)), embedding_matrix.reshape((19628, 1, 200)), epochs=100)"
   ]
  },
  {
   "cell_type": "markdown",
   "metadata": {},
   "source": [
    "## LSTM\n",
    "\n",
    "We prepare the sequence with a maximum length of 50. Empty words are replaced by zeroes.\n",
    "Checkpoints are saved and the one with the best validation accuracy is conserved."
   ]
  },
  {
   "cell_type": "code",
   "execution_count": null,
   "metadata": {},
   "outputs": [],
   "source": [
    "#Retrieving the longest sequence size\n",
    "#seq_dim = max([len(l.rsplit()) for l in train])\n",
    "#seq_dim = max(seq_dim, max([len(l.rsplit()) for l in test]))\n",
    "seq_dim = 50\n",
    "print('The longest sequence is', seq_dim)\n",
    "\n",
    "#Returns a list of np arrays with encoded values of each word\n",
    "def get_encoded_list(tweet):\n",
    "    ans = np.zeros((seq_dim, 1))\n",
    "    for i, w in enumerate(tweet.rsplit()):\n",
    "        emb = word_index[w]\n",
    "        ans[i, 0] = emb\n",
    "    return ans\n",
    "\n",
    "#Preparing the data for the GRU\n",
    "train_gru = np.empty((len(train), seq_dim, 1))\n",
    "test_gru = np.empty((len(test), seq_dim, 1))\n",
    "\n",
    "for i, tweet in enumerate(train):\n",
    "    train_gru[i, :, :] = get_encoded_list(tweet)\n",
    "    \n",
    "for i, tweet in enumerate(test):\n",
    "    test_gru[i, :, :] = get_encoded_list(tweet)"
   ]
  },
  {
   "cell_type": "code",
   "execution_count": null,
   "metadata": {},
   "outputs": [],
   "source": [
    "from keras.layers import Embedding, Dropout, GRU, LSTM, concatenate, RepeatVector\n",
    "\n",
    "encoding_dim = 50\n",
    "input_size = 50\n",
    "\n",
    "input_seq = Input(shape=(50,1))\n",
    "input_type = Input(shape=(4,))\n",
    "\n",
    "embedding_layer = Embedding(len(word_index) + 1,\n",
    "                            EMBEDDING_DIM,\n",
    "                            weights=[embedding_matrix],\n",
    "                            input_length=input_size,\n",
    "                            trainable=False)(input_seq)\n",
    "\n",
    "encoded = Dense(encoding_dim, activation='relu', weights=autoencoder.layers[1].get_weights(), trainable=False)(embedding_layer)\n",
    "\n",
    "repeat = RepeatVector(50)(input_type)\n",
    "concat = concatenate([encoded, repeat])\n",
    "\n",
    "rec = LSTM(128, input_shape=(None, 50), dropout=0.1, recurrent_dropout=0., go_backwards=True)(concat)\n",
    "\n",
    "out = Dense(4, activation=\"softmax\")(rec)\n",
    "\n",
    "final = Model([input_seq, input_type], out)\n",
    "final.compile(optimizer='adadelta', loss='categorical_crossentropy', metrics=[\"accuracy\"])"
   ]
  },
  {
   "cell_type": "code",
   "execution_count": null,
   "metadata": {},
   "outputs": [],
   "source": [
    "final.summary()"
   ]
  },
  {
   "cell_type": "code",
   "execution_count": null,
   "metadata": {},
   "outputs": [],
   "source": [
    "emot_dic = {\"anger\":0, \"joy\":1, \"sadness\":2, \"fear\":3}\n",
    "\n",
    "train_type_int = np.array([emot_dic[x] for x in train_type])\n",
    "train_type_oh = np.zeros((train_type_int.shape[0], 4))\n",
    "for i in range(train_type_int.shape[0]):\n",
    "    train_type_oh[i, train_type_int[i]] = 1\n",
    "    \n",
    "test_type_int = np.array([emot_dic[x] for x in test_type])\n",
    "test_type_oh = np.zeros((test_type_int.shape[0], 4))\n",
    "for i in range(test_type_int.shape[0]):\n",
    "    test_type_oh[i, test_type_int[i]] = 1"
   ]
  },
  {
   "cell_type": "code",
   "execution_count": null,
   "metadata": {},
   "outputs": [],
   "source": [
    "train_labels_oh = np.zeros((train_labels.shape[0], 4))\n",
    "for i in range(train_labels.shape[0]):\n",
    "    train_labels_oh[i, train_labels[i]] = 1\n",
    "    \n",
    "test_labels_oh = np.zeros((test_labels.shape[0], 4))\n",
    "for i in range(test_labels.shape[0]):\n",
    "    test_labels_oh[i, test_labels[i]] = 1"
   ]
  },
  {
   "cell_type": "code",
   "execution_count": null,
   "metadata": {},
   "outputs": [],
   "source": [
    "from keras.callbacks import TensorBoard, ModelCheckpoint"
   ]
  },
  {
   "cell_type": "code",
   "execution_count": null,
   "metadata": {},
   "outputs": [],
   "source": [
    "final.fit([train_gru, train_type_oh], train_labels_oh,\n",
    "                epochs=50,\n",
    "                batch_size=8,\n",
    "                shuffle=True,\n",
    "                validation_data=([test_gru, test_type_oh], test_labels_oh),\n",
    "                callbacks=[TensorBoard(log_dir='/tmp/encoder', histogram_freq=1, write_graph=False),\n",
    "                            ModelCheckpoint('/tmp/checkpoint.h5', monitor='val_acc', verbose=0, save_best_only=True, save_weights_only=False, mode='auto', period=1)])"
   ]
  },
  {
   "cell_type": "code",
   "execution_count": null,
   "metadata": {},
   "outputs": [],
   "source": []
  }
 ],
 "metadata": {
  "kernelspec": {
   "display_name": "Python 3",
   "language": "python",
   "name": "python3"
  },
  "language_info": {
   "codemirror_mode": {
    "name": "ipython",
    "version": 3
   },
   "file_extension": ".py",
   "mimetype": "text/x-python",
   "name": "python",
   "nbconvert_exporter": "python",
   "pygments_lexer": "ipython3",
   "version": "3.6.3"
  }
 },
 "nbformat": 4,
 "nbformat_minor": 2
}
